{
  "nbformat": 4,
  "nbformat_minor": 0,
  "metadata": {
    "colab": {
      "name": "FLDNetwork.ipynb",
      "version": "0.3.2",
      "provenance": [],
      "collapsed_sections": [],
      "include_colab_link": true
    },
    "kernelspec": {
      "display_name": "Python 3",
      "language": "python",
      "name": "python3"
    },
    "accelerator": "GPU"
  },
  "cells": [
    {
      "cell_type": "markdown",
      "metadata": {
        "id": "view-in-github",
        "colab_type": "text"
      },
      "source": [
        "[View in Colaboratory](https://colab.research.google.com/github/Curiousss/FLD/blob/master/FLDNetwork.ipynb)"
      ]
    },
    {
      "metadata": {
        "id": "wWEFzdhd-D35",
        "colab_type": "code",
        "colab": {
          "base_uri": "https://localhost:8080/",
          "height": 474
        },
        "outputId": "495c8203-0a3d-402f-e3a8-8e634e334ba6"
      },
      "cell_type": "code",
      "source": [
        "!wget https://www.dropbox.com/s/9j2om0gcv43hkz8/300w_cropped.zip"
      ],
      "execution_count": 1,
      "outputs": [
        {
          "output_type": "stream",
          "text": [
            "--2018-09-03 09:14:54--  https://www.dropbox.com/s/9j2om0gcv43hkz8/300w_cropped.zip\n",
            "Resolving www.dropbox.com (www.dropbox.com)... 162.125.65.1, 2620:100:6021:1::a27d:4101\n",
            "Connecting to www.dropbox.com (www.dropbox.com)|162.125.65.1|:443... connected.\n",
            "HTTP request sent, awaiting response... 301 Moved Permanently\n",
            "Location: /s/raw/9j2om0gcv43hkz8/300w_cropped.zip [following]\n",
            "--2018-09-03 09:14:55--  https://www.dropbox.com/s/raw/9j2om0gcv43hkz8/300w_cropped.zip\n",
            "Reusing existing connection to www.dropbox.com:443.\n",
            "HTTP request sent, awaiting response... 302 Found\n",
            "Location: https://uc758bc09139f4c6de8b13cfa14c.dl.dropboxusercontent.com/cd/0/inline/APkar3lnIC2_Z1Xz-Lborw2Pdmuw8co9w65xrO_klABVMih_wETsyeQsbKsdNrf-1_U2-_jDTwn6uB3TFXD3OtSRN-d7NcYJd8U9ing6nwVxn-7wM62f0HDOsR-4C38zAbsZzmotz5DE50-HygwjKGlZu5ZTymkkFsnq-QBz1mg7hjPJgkAlrqp4GPNYmBV23Aw/file [following]\n",
            "--2018-09-03 09:14:55--  https://uc758bc09139f4c6de8b13cfa14c.dl.dropboxusercontent.com/cd/0/inline/APkar3lnIC2_Z1Xz-Lborw2Pdmuw8co9w65xrO_klABVMih_wETsyeQsbKsdNrf-1_U2-_jDTwn6uB3TFXD3OtSRN-d7NcYJd8U9ing6nwVxn-7wM62f0HDOsR-4C38zAbsZzmotz5DE50-HygwjKGlZu5ZTymkkFsnq-QBz1mg7hjPJgkAlrqp4GPNYmBV23Aw/file\n",
            "Resolving uc758bc09139f4c6de8b13cfa14c.dl.dropboxusercontent.com (uc758bc09139f4c6de8b13cfa14c.dl.dropboxusercontent.com)... 162.125.65.6, 2620:100:6021:6::a27d:4106\n",
            "Connecting to uc758bc09139f4c6de8b13cfa14c.dl.dropboxusercontent.com (uc758bc09139f4c6de8b13cfa14c.dl.dropboxusercontent.com)|162.125.65.6|:443... connected.\n",
            "HTTP request sent, awaiting response... 302 FOUND\n",
            "Location: /cd/0/inline2/APlIy4ztRgLmlk_kENtl1NKzn-P1g5zV9ApZgxtr_tIFPnW_SM2U3WErL5e4bZteJvLCSfvwgBSGqsMkqFvRMw7I5v73kA7tAN1eX9gY4Vgy7yzcutyTMJG41pS6xHY6N1miuw0IsMWMGLCeqiq6MGzt0wZx8QaBAvdTlhqYgOssVLDe-2JGqdGPsVzwrYnMeoK36F7rnFt_tK4NgD_R9N_CvQFIfTl5FOctvQGGKB008ByJOkg90v9jWrscoOiqkViljiuvXQzY5HYixHI9NrTM62za_OIyASvAc4iy2VV2xC_RuXOj00ztM8urZyxQqF4mTwZbnK3oRZtyD8YpWn5ypbUXFhDqTYySNx2aoQe3BakrrhvQB_7TlLVv4nESlv4uYTMqKvGRWGK_3FJl_Iv3D9x_YLAMEcuViWZoER3nNpOySdlUYT47S9ZtU2GEia8/file [following]\n",
            "--2018-09-03 09:14:56--  https://uc758bc09139f4c6de8b13cfa14c.dl.dropboxusercontent.com/cd/0/inline2/APlIy4ztRgLmlk_kENtl1NKzn-P1g5zV9ApZgxtr_tIFPnW_SM2U3WErL5e4bZteJvLCSfvwgBSGqsMkqFvRMw7I5v73kA7tAN1eX9gY4Vgy7yzcutyTMJG41pS6xHY6N1miuw0IsMWMGLCeqiq6MGzt0wZx8QaBAvdTlhqYgOssVLDe-2JGqdGPsVzwrYnMeoK36F7rnFt_tK4NgD_R9N_CvQFIfTl5FOctvQGGKB008ByJOkg90v9jWrscoOiqkViljiuvXQzY5HYixHI9NrTM62za_OIyASvAc4iy2VV2xC_RuXOj00ztM8urZyxQqF4mTwZbnK3oRZtyD8YpWn5ypbUXFhDqTYySNx2aoQe3BakrrhvQB_7TlLVv4nESlv4uYTMqKvGRWGK_3FJl_Iv3D9x_YLAMEcuViWZoER3nNpOySdlUYT47S9ZtU2GEia8/file\n",
            "Reusing existing connection to uc758bc09139f4c6de8b13cfa14c.dl.dropboxusercontent.com:443.\n",
            "HTTP request sent, awaiting response... 200 OK\n",
            "Length: 250621370 (239M) [application/zip]\n",
            "Saving to: ‘300w_cropped.zip’\n",
            "\n",
            "300w_cropped.zip    100%[===================>] 239.01M  47.9MB/s    in 7.1s    \n",
            "\n",
            "2018-09-03 09:15:04 (33.8 MB/s) - ‘300w_cropped.zip’ saved [250621370/250621370]\n",
            "\n"
          ],
          "name": "stdout"
        }
      ]
    },
    {
      "metadata": {
        "id": "kBrIThcWqB5x",
        "colab_type": "code",
        "colab": {}
      },
      "cell_type": "code",
      "source": [
        "!unzip 300w_cropped.zip"
      ],
      "execution_count": 0,
      "outputs": []
    },
    {
      "metadata": {
        "id": "mIHW7r4A-caO",
        "colab_type": "code",
        "colab": {
          "base_uri": "https://localhost:8080/",
          "height": 35
        },
        "outputId": "930c12c2-6dfb-4b14-8cc2-afa5c03e751e"
      },
      "cell_type": "code",
      "source": [
        "!ls"
      ],
      "execution_count": 2,
      "outputs": [
        {
          "output_type": "stream",
          "text": [
            "300w_cropped.zip  sample_data\r\n"
          ],
          "name": "stdout"
        }
      ]
    },
    {
      "metadata": {
        "id": "gQBUpoCcsRxO",
        "colab_type": "code",
        "colab": {
          "resources": {
            "http://localhost:8080/nbextensions/google.colab/files.js": {
              "data": "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",
              "ok": true,
              "headers": [
                [
                  "content-type",
                  "application/javascript"
                ]
              ],
              "status": 200,
              "status_text": ""
            }
          },
          "base_uri": "https://localhost:8080/",
          "height": 73
        },
        "outputId": "d196ebf6-eaa2-48a4-9eb7-95b283eea3a3"
      },
      "cell_type": "code",
      "source": [
        "from google.colab import files\n",
        "uploaded = files.upload()"
      ],
      "execution_count": 4,
      "outputs": [
        {
          "output_type": "display_data",
          "data": {
            "text/html": [
              "\n",
              "     <input type=\"file\" id=\"files-e400c70e-6797-4a87-b6f1-4a02b841c7cb\" name=\"files[]\" multiple disabled />\n",
              "     <output id=\"result-e400c70e-6797-4a87-b6f1-4a02b841c7cb\">\n",
              "      Upload widget is only available when the cell has been executed in the\n",
              "      current browser session. Please rerun this cell to enable.\n",
              "      </output>\n",
              "      <script src=\"/nbextensions/google.colab/files.js\"></script> "
            ],
            "text/plain": [
              "<IPython.core.display.HTML object>"
            ]
          },
          "metadata": {
            "tags": []
          }
        },
        {
          "output_type": "stream",
          "text": [
            "Saving kernel45.txt to kernel45.txt\n"
          ],
          "name": "stdout"
        }
      ]
    },
    {
      "metadata": {
        "id": "ZfZ3ardgth4q",
        "colab_type": "code",
        "colab": {
          "base_uri": "https://localhost:8080/",
          "height": 145
        },
        "outputId": "ce80bc1d-6787-412a-98ac-c17a712f4aaa"
      },
      "cell_type": "code",
      "source": [
        "!git clone https://github.com/albanie/pts_loader\n",
        "!ls pts_loader/\n",
        "!cp pts_loader/pts_loader.py .\n",
        "!ls"
      ],
      "execution_count": 5,
      "outputs": [
        {
          "output_type": "stream",
          "text": [
            "Cloning into 'pts_loader'...\n",
            "remote: Counting objects: 16, done.\u001b[K\n",
            "remote: Total 16 (delta 0), reused 0 (delta 0), pack-reused 16\u001b[K\n",
            "Unpacking objects: 100% (16/16), done.\n",
            "LICENSE.md  pts_loader.py  README.md  tests\n",
            "01_Indoor   300w_cropped.zip  pts_loader     sample_data\n",
            "02_Outdoor  kernel45.txt      pts_loader.py\n"
          ],
          "name": "stdout"
        }
      ]
    },
    {
      "metadata": {
        "id": "MdmYfVM_sOwd",
        "colab_type": "code",
        "colab": {}
      },
      "cell_type": "code",
      "source": [
        "import os\n",
        "from os import listdir,makedirs\n",
        "from os.path import isfile,join\n",
        "import numpy as np\n",
        "from PIL import Image\n",
        "from matplotlib import pyplot as plt\n",
        "import tensorflow as tf\n",
        "import keras.backend as K\n",
        "import keras\n",
        "from keras.models import Sequential\n",
        "import cv2\n",
        "\n",
        "from keras.layers import Dense, Dropout, Activation, Add, SeparableConv2D\n",
        "from keras.layers import Convolution2D, Lambda, Input, Reshape\n",
        "from keras.layers.normalization import BatchNormalization\n",
        "from keras.models import Model\n",
        "from keras.layers import LeakyReLU\n",
        "\n"
      ],
      "execution_count": 0,
      "outputs": []
    },
    {
      "metadata": {
        "id": "UEEYTE2BpZO5",
        "colab_type": "code",
        "colab": {}
      },
      "cell_type": "code",
      "source": [
        "'''\n",
        "Hyper-Parameters\n",
        "'''\n",
        "image_H = 96.0\n",
        "image_W = 96.0\n",
        "grayscale = True\n",
        "batch_size = 16\n",
        "learning_rate=0.001\n",
        "momentum = 0\n",
        "decay = 0\n",
        "epochs = 100\n",
        "droupout= 0\n",
        "gradient_clipping = 0.1\n",
        "nFilters = 128\n",
        "nlandmarks = nLabels = 68\n",
        "K=45\n",
        "img_rows = 96\n",
        "img_cols = 96\n",
        "img_channels = 1\n",
        "alpha = 0.1"
      ],
      "execution_count": 0,
      "outputs": []
    },
    {
      "metadata": {
        "id": "yv-gK_mPmEX2",
        "colab_type": "code",
        "colab": {}
      },
      "cell_type": "code",
      "source": [
        "# Get files\n",
        "import pts_loader\n",
        "\n",
        "img_x = []\n",
        "pts_y = []\n",
        "for i in range(1,300):\n",
        "    #print(\"iteration\", i)\n",
        "    if i == 78 or i == 79 or i == 266:\n",
        "      continue\n",
        "    if i < 10:\n",
        "        img_f = r\"01_Indoor/indoor_00\" + str(i) +\".png\"\n",
        "        pts_f = r\"01_Indoor/indoor_00\" + str(i) +\".pts\"\n",
        "    elif i < 100:\n",
        "        img_f = r\"01_Indoor/indoor_0\" + str(i) +\".png\"\n",
        "        pts_f = r\"01_Indoor/indoor_0\" + str(i) +\".pts\"\n",
        "    else:\n",
        "        img_f = r\"01_Indoor/indoor_\" + str(i) +\".png\"\n",
        "        pts_f = r\"01_Indoor/indoor_\" + str(i) +\".pts\"\n",
        "    pts = pts_loader.load(pts_f)\n",
        "    # Loading imgae in grayscale\n",
        "    img = cv2.imread(img_f)\n",
        "    \n",
        "    scale_x = image_W/img.shape[0]\n",
        "    scale_y = image_H/img.shape[1]\n",
        "    img = cv2.resize(img, (img_rows, img_cols))\n",
        "    img = cv2.cvtColor(img,cv2.COLOR_BGR2GRAY)\n",
        "    img = cv2.normalize(img,None,0,255,cv2.NORM_MINMAX)\n",
        "    img = img.reshape(img_rows, img_cols, 1)\n",
        "    landmarks = []\n",
        "    \n",
        "    for p in pts:\n",
        "        new_pts = []\n",
        "        landmark = np.zeros((96, 96), np.uint8)\n",
        "        new_pts = (p[0] * scale_y , p[1] * scale_x )\n",
        "        #new_points.append(new_pts)\n",
        "        x = int(new_pts[0])\n",
        "        y = int(new_pts[1])\n",
        "        #print(n, x, y)\n",
        "        landmark[x][y] = 1 # Normalized WHite\n",
        "        landmarks.append(landmark)\n",
        "        #landmarks.append(x) # Testing\n",
        "        #landmarks.append(y) # Testing\n",
        "        \n",
        "    img_x.append(img)\n",
        "    pts_y.append(landmarks)\n"
      ],
      "execution_count": 0,
      "outputs": []
    },
    {
      "metadata": {
        "id": "q9MBZrDGRpoY",
        "colab_type": "code",
        "colab": {}
      },
      "cell_type": "code",
      "source": [
        "#Gn = apply_kernel(pts_y)"
      ],
      "execution_count": 0,
      "outputs": []
    },
    {
      "metadata": {
        "id": "T4eoPQGnmFaS",
        "colab_type": "code",
        "colab": {
          "base_uri": "https://localhost:8080/",
          "height": 35
        },
        "outputId": "5d62232d-d1fb-4fe3-f07e-1d722f2c0a89"
      },
      "cell_type": "code",
      "source": [
        "print(img_x[0].shape)\n",
        "assert not np.any(np.isnan(img_x))\n",
        "assert not np.any(np.isnan(pts_y))\n",
        "train_x = []\n",
        "train_y = []\n",
        "test_x = []\n",
        "test_y = []\n"
      ],
      "execution_count": 6,
      "outputs": [
        {
          "output_type": "stream",
          "text": [
            "(96, 96, 1)\n"
          ],
          "name": "stdout"
        }
      ]
    },
    {
      "metadata": {
        "id": "cTBAQZQ9mIvC",
        "colab_type": "code",
        "colab": {}
      },
      "cell_type": "code",
      "source": [
        "train_x = np.array(img_x[:200])\n",
        "train_y = np.array(pts_y[:200])\n",
        "test_x = np.array(img_x[200:])\n",
        "test_y = np.array(pts_y[200:])\n"
      ],
      "execution_count": 0,
      "outputs": []
    },
    {
      "metadata": {
        "id": "qnEfWMt8pZPE",
        "colab_type": "code",
        "colab": {
          "base_uri": "https://localhost:8080/",
          "height": 54
        },
        "outputId": "9ec3a9bd-3c47-47bf-ebe0-1d2f97057bde"
      },
      "cell_type": "code",
      "source": [
        "print(train_y.shape)\n",
        "train_y = train_y.reshape(-1, 96,96,68)\n",
        "test_y = test_y.reshape(-1, 96,96,68)\n",
        "\n",
        "print(train_y.shape)"
      ],
      "execution_count": 8,
      "outputs": [
        {
          "output_type": "stream",
          "text": [
            "(200, 68, 96, 96)\n",
            "(200, 96, 96, 68)\n"
          ],
          "name": "stdout"
        }
      ]
    },
    {
      "metadata": {
        "id": "3UCdR_5HpZPI",
        "colab_type": "code",
        "colab": {}
      },
      "cell_type": "code",
      "source": [
        "def apply_kernel(local_out):\n",
        "    '''\n",
        "     get kernel from text file\n",
        "     tile it to 1x1x45x45\n",
        "     convolve with local out\n",
        "    '''\n",
        "    f = open(r'kernel45.txt')\n",
        "    kernel45 = np.fromfile(f, dtype = np.float32, count = -1, sep = \" \")\n",
        "    \n",
        "    # [1 x 1 x 45 x 45]\n",
        "    kernel45 = np.reshape(kernel45, (45, 45, 1, 1))\n",
        "    # [numLabels x 1 x 45 x 45] if tensor convolution is used\n",
        "    kernel_stacked \t= np.tile(kernel45, (1, 1, nLabels, 1))\n",
        "    kernel_tensor = tf.convert_to_tensor(kernel_stacked, dtype=tf.float32)\n",
        "    print(\"local_out\", local_out)\n",
        "    print(\"kernel\", kernel_tensor)\n",
        "\n",
        "    groups = []\n",
        "    \n",
        "    for j in range(nLabels):\n",
        "        groups.append(tf.nn.conv2d(local_out, kernel_tensor, strides=[1,1,1,1],\n",
        "                                   padding=\"SAME\"))\n",
        "    \n",
        "    heatmaps = tf.concat(groups, 0)\n",
        "    heatmaps = tf.reshape(heatmaps, (-1, 96, 96, 68))\n",
        "    print(\"Heatmaps\", heatmaps)\n",
        "    return heatmaps\n",
        "\n"
      ],
      "execution_count": 0,
      "outputs": []
    },
    {
      "metadata": {
        "id": "-Ps6ujB8_ycf",
        "colab_type": "code",
        "colab": {
          "base_uri": "https://localhost:8080/",
          "height": 3872
        },
        "outputId": "8849a091-8a9d-4193-c904-769240f7ac7e"
      },
      "cell_type": "code",
      "source": [
        "from keras.layers import LeakyReLU\n",
        "'''\n",
        "----------------------------------------LOCAL SUBNET----------------------------\n",
        "'''\n",
        "\n",
        "# [ImageC x ImageH x ImageW]\n",
        "#-----------------------------------------------5 layers of kernel 5x5----------\n",
        "input_img = Input(( img_rows, img_cols, img_channels))\n",
        "model = SeparableConv2D(filters=nFilters, kernel_size=(5, 5), padding='same')(input_img)\n",
        "model = BatchNormalization()(model)\n",
        "model = LeakyReLU(alpha)(model)\n",
        "model = Dropout(droupout)(model)\n",
        "\n",
        "model = SeparableConv2D(filters=nFilters, kernel_size=(5, 5), padding='same')(model)\n",
        "model = BatchNormalization()(model)\n",
        "model = LeakyReLU(alpha)(model)\n",
        "model = Dropout(droupout)(model)\n",
        "\n",
        "model = SeparableConv2D(filters=nFilters, kernel_size=(5, 5), padding='same')(model)\n",
        "model = BatchNormalization()(model)\n",
        "model = LeakyReLU(alpha)(model)\n",
        "model = Dropout(droupout)(model)\n",
        "\n",
        "model = SeparableConv2D(filters=nFilters, kernel_size=(5, 5), padding='same')(model)\n",
        "model = BatchNormalization()(model)\n",
        "model = LeakyReLU(alpha)(model)\n",
        "model = Dropout(droupout)(model)\n",
        "\n",
        "model = SeparableConv2D(filters=nFilters, kernel_size=(5, 5), padding='same')(model)\n",
        "model = BatchNormalization()(model)\n",
        "model = LeakyReLU(alpha)(model)\n",
        "model = Dropout(droupout)(model)\n",
        "\n",
        "#-----------------------------------------------10 layers of kernel 3x3----------\n",
        "#1\n",
        "model = SeparableConv2D(filters=nFilters, kernel_size=(3, 3), padding='same')(model)\n",
        "model = BatchNormalization()(model)\n",
        "model = LeakyReLU(alpha)(model)\n",
        "model = Dropout(droupout)(model)\n",
        "#2\n",
        "model = SeparableConv2D(filters=nFilters, kernel_size=(3, 3), padding='same')(model)\n",
        "model = BatchNormalization()(model)\n",
        "model = LeakyReLU(alpha)(model)\n",
        "model = Dropout(droupout)(model)\n",
        "#3\n",
        "model = SeparableConv2D(filters=nFilters, kernel_size=(3, 3), padding='same')(model)\n",
        "model = BatchNormalization()(model)\n",
        "model = LeakyReLU(alpha)(model)\n",
        "model = Dropout(droupout)(model)\n",
        "#4\n",
        "model = SeparableConv2D(filters=nFilters, kernel_size=(3, 3), padding='same')(model)\n",
        "model = BatchNormalization()(model)\n",
        "model = LeakyReLU(alpha)(model)\n",
        "model = Dropout(droupout)(model)\n",
        "#5\n",
        "model = SeparableConv2D(filters=nFilters, kernel_size=(3, 3), padding='same')(model)\n",
        "model = BatchNormalization()(model)\n",
        "model = LeakyReLU(alpha)(model)\n",
        "model = Dropout(droupout)(model)\n",
        "#6\n",
        "model = SeparableConv2D(filters=nFilters, kernel_size=(3, 3), padding='same')(model)\n",
        "model = BatchNormalization()(model)\n",
        "model = LeakyReLU(alpha)(model)\n",
        "model = Dropout(droupout)(model)\n",
        "#7\n",
        "model = SeparableConv2D(filters=nFilters, kernel_size=(3, 3), padding='same')(model)\n",
        "model = BatchNormalization()(model)\n",
        "model = LeakyReLU(alpha)(model)\n",
        "model = Dropout(droupout)(model)\n",
        "#8\n",
        "model = SeparableConv2D(filters=nFilters, kernel_size=(3, 3), padding='same')(model)\n",
        "model = BatchNormalization()(model)\n",
        "model = LeakyReLU(alpha)(model)\n",
        "model = Dropout(droupout)(model)\n",
        "#9\n",
        "model = SeparableConv2D(filters=nFilters, kernel_size=(3, 3), padding='same')(model)\n",
        "model = BatchNormalization()(model)\n",
        "model = LeakyReLU(alpha)(model)\n",
        "model = Dropout(droupout)(model)\n",
        "#10\n",
        "model = SeparableConv2D(filters=nFilters, kernel_size=(3, 3), padding='same')(model)\n",
        "model = BatchNormalization()(model)\n",
        "model = LeakyReLU(alpha)(model)\n",
        "model = Dropout(droupout)(model)\n",
        "\n",
        "print(\"Local subnet\", model)\n",
        "\n",
        "'''\n",
        "----------------------1x1 Convolution with activation-----------------------------\n",
        "'''\n",
        "model_Conv = Convolution2D(filters=nLabels, kernel_size=(1, 1))(model)\n",
        "model = LeakyReLU(alpha)(model)\n",
        "model_Conv = Lambda(apply_kernel, output_shape=(img_cols, img_rows, nLabels))(model_Conv)\n",
        "print(\"Main 1x1\", model_Conv)\n",
        "'''\n",
        "-------------------------------------Ol 1x1 Linear convolution-------------------\n",
        "Apply Gaussian Kernel filter\n",
        "'''\n",
        "model_Ol = Convolution2D(filters=nLabels, kernel_size=(1, 1),activation=None)(model)\n",
        "model_Ol = Lambda(apply_kernel, output_shape=(img_cols, img_rows, nLabels), name='Ol')(model_Ol)\n",
        "print(\"Local output\", model_Ol)\n",
        "\n",
        "output_Ol = keras.layers.concatenate([model_Conv, model_Ol])\n",
        "print(\"Concatenate\", output_Ol)\n",
        "output_Ol = Reshape((96, 96, -1))(output_Ol)\n",
        "#print(\"Reshape\", output_Ol)\n",
        "\n",
        "'''\n",
        "----------------------------------------GLOBAL SUBNET----------------------------\n",
        "'''\n",
        "#--------------------------------7 layers of dialated kernel 3x3------------------\n",
        "#1\n",
        "model = SeparableConv2D(filters=nFilters, kernel_size=(3, 3), padding='same', dilation_rate = 4)(output_Ol)\n",
        "model = BatchNormalization()(model)\n",
        "model = LeakyReLU(alpha)(model)\n",
        "model = Dropout(droupout)(model)\n",
        "#2\n",
        "model = SeparableConv2D(filters=nFilters, kernel_size=(3, 3), padding='same', dilation_rate = 4)(model)\n",
        "model = BatchNormalization()(model)\n",
        "model = LeakyReLU(alpha)(model)\n",
        "model = Dropout(droupout)(model)\n",
        "#3\n",
        "model = SeparableConv2D(filters=nFilters, kernel_size=(3, 3), padding='same', dilation_rate = 4)(model)\n",
        "model = BatchNormalization()(model)\n",
        "model = LeakyReLU(alpha)(model)\n",
        "model = Dropout(droupout)(model)\n",
        "#4\n",
        "model = SeparableConv2D(filters=nFilters, kernel_size=(3, 3), padding='same', dilation_rate = 4)(model)\n",
        "model = BatchNormalization()(model)\n",
        "model = LeakyReLU(alpha)(model)\n",
        "model = Dropout(droupout)(model)\n",
        "#5\n",
        "model = SeparableConv2D(filters=nFilters, kernel_size=(3, 3), padding='same', dilation_rate = 4)(model)\n",
        "model = BatchNormalization()(model)\n",
        "model = LeakyReLU(alpha)(model)\n",
        "model = Dropout(droupout)(model)\n",
        "#6\n",
        "model = SeparableConv2D(filters=nFilters, kernel_size=(3, 3), padding='same', dilation_rate = 4)(model)\n",
        "model = BatchNormalization()(model)\n",
        "model = LeakyReLU(alpha)(model)\n",
        "model = Dropout(droupout)(model)\n",
        "#7\n",
        "model = SeparableConv2D(filters=nFilters, kernel_size=(3, 3), padding='same', dilation_rate = 4)(model)\n",
        "model = BatchNormalization()(model)\n",
        "model = LeakyReLU(alpha)(model)\n",
        "model = Dropout(droupout)(model)\n",
        "\n",
        "model = SeparableConv2D(filters=nLabels, kernel_size=(1, 1), activation=None)(model)\n",
        "\n",
        "FLD_model = Model(inputs = input_img, outputs=model)\n",
        "FLD_model.summary()\n"
      ],
      "execution_count": 20,
      "outputs": [
        {
          "output_type": "stream",
          "text": [
            "Local subnet Tensor(\"dropout_37/Identity:0\", shape=(?, 96, 96, 128), dtype=float32)\n",
            "local_out Tensor(\"conv2d_5/BiasAdd:0\", shape=(?, 96, 96, 68), dtype=float32)\n",
            "kernel Tensor(\"lambda_3/Const:0\", shape=(45, 45, 68, 1), dtype=float32)\n",
            "Heatmaps Tensor(\"lambda_3/Reshape:0\", shape=(?, 96, 96, 68), dtype=float32)\n",
            "Main 1x1 Tensor(\"lambda_3/Reshape:0\", shape=(?, 96, 96, 68), dtype=float32)\n",
            "local_out Tensor(\"conv2d_6/BiasAdd:0\", shape=(?, 96, 96, 68), dtype=float32)\n",
            "kernel Tensor(\"Ol_2/Const:0\", shape=(45, 45, 68, 1), dtype=float32)\n",
            "Heatmaps Tensor(\"Ol_2/Reshape:0\", shape=(?, 96, 96, 68), dtype=float32)\n",
            "Local output Tensor(\"Ol_2/Reshape:0\", shape=(?, 96, 96, 68), dtype=float32)\n",
            "Concatenate Tensor(\"concatenate_3/concat:0\", shape=(?, 96, 96, 136), dtype=float32)\n",
            "__________________________________________________________________________________________________\n",
            "Layer (type)                    Output Shape         Param #     Connected to                     \n",
            "==================================================================================================\n",
            "input_3 (InputLayer)            (None, 96, 96, 1)    0                                            \n",
            "__________________________________________________________________________________________________\n",
            "separable_conv2d_47 (SeparableC (None, 96, 96, 128)  281         input_3[0][0]                    \n",
            "__________________________________________________________________________________________________\n",
            "batch_normalization_45 (BatchNo (None, 96, 96, 128)  512         separable_conv2d_47[0][0]        \n",
            "__________________________________________________________________________________________________\n",
            "leaky_re_lu_47 (LeakyReLU)      (None, 96, 96, 128)  0           batch_normalization_45[0][0]     \n",
            "__________________________________________________________________________________________________\n",
            "dropout_23 (Dropout)            (None, 96, 96, 128)  0           leaky_re_lu_47[0][0]             \n",
            "__________________________________________________________________________________________________\n",
            "separable_conv2d_48 (SeparableC (None, 96, 96, 128)  19712       dropout_23[0][0]                 \n",
            "__________________________________________________________________________________________________\n",
            "batch_normalization_46 (BatchNo (None, 96, 96, 128)  512         separable_conv2d_48[0][0]        \n",
            "__________________________________________________________________________________________________\n",
            "leaky_re_lu_48 (LeakyReLU)      (None, 96, 96, 128)  0           batch_normalization_46[0][0]     \n",
            "__________________________________________________________________________________________________\n",
            "dropout_24 (Dropout)            (None, 96, 96, 128)  0           leaky_re_lu_48[0][0]             \n",
            "__________________________________________________________________________________________________\n",
            "separable_conv2d_49 (SeparableC (None, 96, 96, 128)  19712       dropout_24[0][0]                 \n",
            "__________________________________________________________________________________________________\n",
            "batch_normalization_47 (BatchNo (None, 96, 96, 128)  512         separable_conv2d_49[0][0]        \n",
            "__________________________________________________________________________________________________\n",
            "leaky_re_lu_49 (LeakyReLU)      (None, 96, 96, 128)  0           batch_normalization_47[0][0]     \n",
            "__________________________________________________________________________________________________\n",
            "dropout_25 (Dropout)            (None, 96, 96, 128)  0           leaky_re_lu_49[0][0]             \n",
            "__________________________________________________________________________________________________\n",
            "separable_conv2d_50 (SeparableC (None, 96, 96, 128)  19712       dropout_25[0][0]                 \n",
            "__________________________________________________________________________________________________\n",
            "batch_normalization_48 (BatchNo (None, 96, 96, 128)  512         separable_conv2d_50[0][0]        \n",
            "__________________________________________________________________________________________________\n",
            "leaky_re_lu_50 (LeakyReLU)      (None, 96, 96, 128)  0           batch_normalization_48[0][0]     \n",
            "__________________________________________________________________________________________________\n",
            "dropout_26 (Dropout)            (None, 96, 96, 128)  0           leaky_re_lu_50[0][0]             \n",
            "__________________________________________________________________________________________________\n",
            "separable_conv2d_51 (SeparableC (None, 96, 96, 128)  19712       dropout_26[0][0]                 \n",
            "__________________________________________________________________________________________________\n",
            "batch_normalization_49 (BatchNo (None, 96, 96, 128)  512         separable_conv2d_51[0][0]        \n",
            "__________________________________________________________________________________________________\n",
            "leaky_re_lu_51 (LeakyReLU)      (None, 96, 96, 128)  0           batch_normalization_49[0][0]     \n",
            "__________________________________________________________________________________________________\n",
            "dropout_27 (Dropout)            (None, 96, 96, 128)  0           leaky_re_lu_51[0][0]             \n",
            "__________________________________________________________________________________________________\n",
            "separable_conv2d_52 (SeparableC (None, 96, 96, 128)  17664       dropout_27[0][0]                 \n",
            "__________________________________________________________________________________________________\n",
            "batch_normalization_50 (BatchNo (None, 96, 96, 128)  512         separable_conv2d_52[0][0]        \n",
            "__________________________________________________________________________________________________\n",
            "leaky_re_lu_52 (LeakyReLU)      (None, 96, 96, 128)  0           batch_normalization_50[0][0]     \n",
            "__________________________________________________________________________________________________\n",
            "dropout_28 (Dropout)            (None, 96, 96, 128)  0           leaky_re_lu_52[0][0]             \n",
            "__________________________________________________________________________________________________\n",
            "separable_conv2d_53 (SeparableC (None, 96, 96, 128)  17664       dropout_28[0][0]                 \n",
            "__________________________________________________________________________________________________\n",
            "batch_normalization_51 (BatchNo (None, 96, 96, 128)  512         separable_conv2d_53[0][0]        \n",
            "__________________________________________________________________________________________________\n",
            "leaky_re_lu_53 (LeakyReLU)      (None, 96, 96, 128)  0           batch_normalization_51[0][0]     \n",
            "__________________________________________________________________________________________________\n",
            "dropout_29 (Dropout)            (None, 96, 96, 128)  0           leaky_re_lu_53[0][0]             \n",
            "__________________________________________________________________________________________________\n",
            "separable_conv2d_54 (SeparableC (None, 96, 96, 128)  17664       dropout_29[0][0]                 \n",
            "__________________________________________________________________________________________________\n",
            "batch_normalization_52 (BatchNo (None, 96, 96, 128)  512         separable_conv2d_54[0][0]        \n",
            "__________________________________________________________________________________________________\n",
            "leaky_re_lu_54 (LeakyReLU)      (None, 96, 96, 128)  0           batch_normalization_52[0][0]     \n",
            "__________________________________________________________________________________________________\n",
            "dropout_30 (Dropout)            (None, 96, 96, 128)  0           leaky_re_lu_54[0][0]             \n",
            "__________________________________________________________________________________________________\n",
            "separable_conv2d_55 (SeparableC (None, 96, 96, 128)  17664       dropout_30[0][0]                 \n",
            "__________________________________________________________________________________________________\n",
            "batch_normalization_53 (BatchNo (None, 96, 96, 128)  512         separable_conv2d_55[0][0]        \n",
            "__________________________________________________________________________________________________\n",
            "leaky_re_lu_55 (LeakyReLU)      (None, 96, 96, 128)  0           batch_normalization_53[0][0]     \n",
            "__________________________________________________________________________________________________\n",
            "dropout_31 (Dropout)            (None, 96, 96, 128)  0           leaky_re_lu_55[0][0]             \n",
            "__________________________________________________________________________________________________\n",
            "separable_conv2d_56 (SeparableC (None, 96, 96, 128)  17664       dropout_31[0][0]                 \n",
            "__________________________________________________________________________________________________\n",
            "batch_normalization_54 (BatchNo (None, 96, 96, 128)  512         separable_conv2d_56[0][0]        \n",
            "__________________________________________________________________________________________________\n",
            "leaky_re_lu_56 (LeakyReLU)      (None, 96, 96, 128)  0           batch_normalization_54[0][0]     \n",
            "__________________________________________________________________________________________________\n",
            "dropout_32 (Dropout)            (None, 96, 96, 128)  0           leaky_re_lu_56[0][0]             \n",
            "__________________________________________________________________________________________________\n",
            "separable_conv2d_57 (SeparableC (None, 96, 96, 128)  17664       dropout_32[0][0]                 \n",
            "__________________________________________________________________________________________________\n",
            "batch_normalization_55 (BatchNo (None, 96, 96, 128)  512         separable_conv2d_57[0][0]        \n",
            "__________________________________________________________________________________________________\n",
            "leaky_re_lu_57 (LeakyReLU)      (None, 96, 96, 128)  0           batch_normalization_55[0][0]     \n",
            "__________________________________________________________________________________________________\n",
            "dropout_33 (Dropout)            (None, 96, 96, 128)  0           leaky_re_lu_57[0][0]             \n",
            "__________________________________________________________________________________________________\n",
            "separable_conv2d_58 (SeparableC (None, 96, 96, 128)  17664       dropout_33[0][0]                 \n",
            "__________________________________________________________________________________________________\n",
            "batch_normalization_56 (BatchNo (None, 96, 96, 128)  512         separable_conv2d_58[0][0]        \n",
            "__________________________________________________________________________________________________\n",
            "leaky_re_lu_58 (LeakyReLU)      (None, 96, 96, 128)  0           batch_normalization_56[0][0]     \n",
            "__________________________________________________________________________________________________\n",
            "dropout_34 (Dropout)            (None, 96, 96, 128)  0           leaky_re_lu_58[0][0]             \n",
            "__________________________________________________________________________________________________\n",
            "separable_conv2d_59 (SeparableC (None, 96, 96, 128)  17664       dropout_34[0][0]                 \n",
            "__________________________________________________________________________________________________\n",
            "batch_normalization_57 (BatchNo (None, 96, 96, 128)  512         separable_conv2d_59[0][0]        \n",
            "__________________________________________________________________________________________________\n",
            "leaky_re_lu_59 (LeakyReLU)      (None, 96, 96, 128)  0           batch_normalization_57[0][0]     \n",
            "__________________________________________________________________________________________________\n",
            "dropout_35 (Dropout)            (None, 96, 96, 128)  0           leaky_re_lu_59[0][0]             \n",
            "__________________________________________________________________________________________________\n",
            "separable_conv2d_60 (SeparableC (None, 96, 96, 128)  17664       dropout_35[0][0]                 \n",
            "__________________________________________________________________________________________________\n",
            "batch_normalization_58 (BatchNo (None, 96, 96, 128)  512         separable_conv2d_60[0][0]        \n",
            "__________________________________________________________________________________________________\n",
            "leaky_re_lu_60 (LeakyReLU)      (None, 96, 96, 128)  0           batch_normalization_58[0][0]     \n",
            "__________________________________________________________________________________________________\n",
            "dropout_36 (Dropout)            (None, 96, 96, 128)  0           leaky_re_lu_60[0][0]             \n",
            "__________________________________________________________________________________________________\n",
            "separable_conv2d_61 (SeparableC (None, 96, 96, 128)  17664       dropout_36[0][0]                 \n",
            "__________________________________________________________________________________________________\n",
            "batch_normalization_59 (BatchNo (None, 96, 96, 128)  512         separable_conv2d_61[0][0]        \n",
            "__________________________________________________________________________________________________\n",
            "leaky_re_lu_61 (LeakyReLU)      (None, 96, 96, 128)  0           batch_normalization_59[0][0]     \n",
            "__________________________________________________________________________________________________\n",
            "dropout_37 (Dropout)            (None, 96, 96, 128)  0           leaky_re_lu_61[0][0]             \n",
            "__________________________________________________________________________________________________\n",
            "leaky_re_lu_62 (LeakyReLU)      (None, 96, 96, 128)  0           dropout_37[0][0]                 \n",
            "__________________________________________________________________________________________________\n",
            "conv2d_5 (Conv2D)               (None, 96, 96, 68)   8772        dropout_37[0][0]                 \n",
            "__________________________________________________________________________________________________\n",
            "conv2d_6 (Conv2D)               (None, 96, 96, 68)   8772        leaky_re_lu_62[0][0]             \n",
            "__________________________________________________________________________________________________\n",
            "lambda_3 (Lambda)               (None, 96, 96, 68)   0           conv2d_5[0][0]                   \n",
            "__________________________________________________________________________________________________\n",
            "Ol (Lambda)                     (None, 96, 96, 68)   0           conv2d_6[0][0]                   \n",
            "__________________________________________________________________________________________________\n",
            "concatenate_3 (Concatenate)     (None, 96, 96, 136)  0           lambda_3[0][0]                   \n",
            "                                                                 Ol[0][0]                         \n",
            "__________________________________________________________________________________________________\n",
            "reshape_3 (Reshape)             (None, 96, 96, 136)  0           concatenate_3[0][0]              \n",
            "__________________________________________________________________________________________________\n",
            "separable_conv2d_62 (SeparableC (None, 96, 96, 128)  18760       reshape_3[0][0]                  \n",
            "__________________________________________________________________________________________________\n",
            "batch_normalization_60 (BatchNo (None, 96, 96, 128)  512         separable_conv2d_62[0][0]        \n",
            "__________________________________________________________________________________________________\n",
            "leaky_re_lu_63 (LeakyReLU)      (None, 96, 96, 128)  0           batch_normalization_60[0][0]     \n",
            "__________________________________________________________________________________________________\n",
            "dropout_38 (Dropout)            (None, 96, 96, 128)  0           leaky_re_lu_63[0][0]             \n",
            "__________________________________________________________________________________________________\n",
            "separable_conv2d_63 (SeparableC (None, 96, 96, 128)  17664       dropout_38[0][0]                 \n",
            "__________________________________________________________________________________________________\n",
            "batch_normalization_61 (BatchNo (None, 96, 96, 128)  512         separable_conv2d_63[0][0]        \n",
            "__________________________________________________________________________________________________\n",
            "leaky_re_lu_64 (LeakyReLU)      (None, 96, 96, 128)  0           batch_normalization_61[0][0]     \n",
            "__________________________________________________________________________________________________\n",
            "dropout_39 (Dropout)            (None, 96, 96, 128)  0           leaky_re_lu_64[0][0]             \n",
            "__________________________________________________________________________________________________\n",
            "separable_conv2d_64 (SeparableC (None, 96, 96, 128)  17664       dropout_39[0][0]                 \n",
            "__________________________________________________________________________________________________\n",
            "batch_normalization_62 (BatchNo (None, 96, 96, 128)  512         separable_conv2d_64[0][0]        \n",
            "__________________________________________________________________________________________________\n",
            "leaky_re_lu_65 (LeakyReLU)      (None, 96, 96, 128)  0           batch_normalization_62[0][0]     \n",
            "__________________________________________________________________________________________________\n",
            "dropout_40 (Dropout)            (None, 96, 96, 128)  0           leaky_re_lu_65[0][0]             \n",
            "__________________________________________________________________________________________________\n",
            "separable_conv2d_65 (SeparableC (None, 96, 96, 128)  17664       dropout_40[0][0]                 \n",
            "__________________________________________________________________________________________________\n",
            "batch_normalization_63 (BatchNo (None, 96, 96, 128)  512         separable_conv2d_65[0][0]        \n",
            "__________________________________________________________________________________________________\n",
            "leaky_re_lu_66 (LeakyReLU)      (None, 96, 96, 128)  0           batch_normalization_63[0][0]     \n",
            "__________________________________________________________________________________________________\n",
            "dropout_41 (Dropout)            (None, 96, 96, 128)  0           leaky_re_lu_66[0][0]             \n",
            "__________________________________________________________________________________________________\n",
            "separable_conv2d_66 (SeparableC (None, 96, 96, 128)  17664       dropout_41[0][0]                 \n",
            "__________________________________________________________________________________________________\n",
            "batch_normalization_64 (BatchNo (None, 96, 96, 128)  512         separable_conv2d_66[0][0]        \n",
            "__________________________________________________________________________________________________\n",
            "leaky_re_lu_67 (LeakyReLU)      (None, 96, 96, 128)  0           batch_normalization_64[0][0]     \n",
            "__________________________________________________________________________________________________\n",
            "dropout_42 (Dropout)            (None, 96, 96, 128)  0           leaky_re_lu_67[0][0]             \n",
            "__________________________________________________________________________________________________\n",
            "separable_conv2d_67 (SeparableC (None, 96, 96, 128)  17664       dropout_42[0][0]                 \n",
            "__________________________________________________________________________________________________\n",
            "batch_normalization_65 (BatchNo (None, 96, 96, 128)  512         separable_conv2d_67[0][0]        \n",
            "__________________________________________________________________________________________________\n",
            "leaky_re_lu_68 (LeakyReLU)      (None, 96, 96, 128)  0           batch_normalization_65[0][0]     \n",
            "__________________________________________________________________________________________________\n",
            "dropout_43 (Dropout)            (None, 96, 96, 128)  0           leaky_re_lu_68[0][0]             \n",
            "__________________________________________________________________________________________________\n",
            "separable_conv2d_68 (SeparableC (None, 96, 96, 128)  17664       dropout_43[0][0]                 \n",
            "__________________________________________________________________________________________________\n",
            "batch_normalization_66 (BatchNo (None, 96, 96, 128)  512         separable_conv2d_68[0][0]        \n",
            "__________________________________________________________________________________________________\n",
            "leaky_re_lu_69 (LeakyReLU)      (None, 96, 96, 128)  0           batch_normalization_66[0][0]     \n",
            "__________________________________________________________________________________________________\n",
            "dropout_44 (Dropout)            (None, 96, 96, 128)  0           leaky_re_lu_69[0][0]             \n",
            "__________________________________________________________________________________________________\n",
            "separable_conv2d_69 (SeparableC (None, 96, 96, 68)   8900        dropout_44[0][0]                 \n",
            "==================================================================================================\n",
            "Total params: 418,221\n",
            "Trainable params: 412,589\n",
            "Non-trainable params: 5,632\n",
            "__________________________________________________________________________________________________\n"
          ],
          "name": "stdout"
        }
      ]
    },
    {
      "metadata": {
        "id": "JInD479ner8E",
        "colab_type": "code",
        "colab": {}
      },
      "cell_type": "code",
      "source": [
        ""
      ],
      "execution_count": 0,
      "outputs": []
    },
    {
      "metadata": {
        "id": "j6zh1EuvpZPO",
        "colab_type": "code",
        "colab": {}
      },
      "cell_type": "code",
      "source": [
        "import tensorflow as tf\n",
        "from keras import backend as K\n",
        "\n",
        "def landmark_weight(labels):\n",
        "    \n",
        "    #[numLabels x 1 x 1]\n",
        "    W1 = tf.reduce_sum(labels, axis=2)\n",
        "    W2 = tf.reduce_sum(W1, axis=1)\n",
        "    W3 = tf.reduce_mean(W2)\n",
        "    W4 = tf.multiply(W3, 0.5)\n",
        "    Win = tf.add(W4, W2)\n",
        "    print(\"Win\", Win.shape)\n",
        "    Win = tf.reshape(Win, (-1, 1, 1, nLabels))\n",
        "    return Win\n",
        "\n",
        "'''\n",
        "Ol - [numLabels x ImageH x ImageW] Kernel conv already applied in Network\n",
        "Og - [numLabels x ImageH x ImageW]\n",
        "labels - Landmark coordinates [numLabels x ImageH x ImageW] without\n",
        "kernel applied\n",
        "'''\n",
        "def loss_function(labels, Og):\n",
        "    \n",
        "    #Gn = labels #testing\n",
        "    # Ground Truth Heatmap\n",
        "    Gn = apply_kernel(labels)\n",
        "\n",
        "    Win = landmark_weight(labels)\n",
        "    #Win = 1 #testing\n",
        "    print(\"---------------Loss Function----------------\")\n",
        "    print(\"Og\", Og)\n",
        "    print(\"Labels\", labels)\n",
        "    print(\"Ground Truth\", Gn)\n",
        "    print(\"Ol\", model_Ol)\n",
        "    # (Og - Gn)2\n",
        "    global_diff = tf.subtract(Og, Gn)\n",
        "    global_err = tf.square(global_diff)\n",
        "    \n",
        "    # (Ol - Gn)2\n",
        "    \n",
        "    #How to access intermediate layer or model from here???\n",
        "    #Currently using global variable model_Ol\n",
        "    \n",
        "    # Kernel is already applied for model_Ol\n",
        "    local_diff = tf.subtract(model_Ol, Gn)\n",
        "    local_err = tf.square(local_diff)\n",
        "    \n",
        "    comb_err = tf.add(local_err, global_err)\n",
        "    comb_Win = tf.transpose(Win) * tf.transpose(comb_err)\n",
        "    wt_square_err = tf.reduce_sum(comb_Win)\n",
        "    wt_square_err = tf.multiply(wt_square_err, 0.05)\n",
        "    print(\"Loss\", wt_square_err)\n",
        "    #return wt_square_err    \n",
        "    \n",
        "    return tf.reduce_mean(comb_err) #testing\n"
      ],
      "execution_count": 0,
      "outputs": []
    },
    {
      "metadata": {
        "id": "HAIDBGOxpZPR",
        "colab_type": "code",
        "colab": {
          "base_uri": "https://localhost:8080/",
          "height": 199
        },
        "outputId": "e62dff13-33c7-45dc-81de-44f6eabb18af"
      },
      "cell_type": "code",
      "source": [
        "from keras import optimizers\n",
        "sgd = optimizers.SGD(lr=0.01, decay=1e-6, momentum=0.9, nesterov=True, clipnorm=0.1)\n",
        "FLD_model.compile(optimizer=sgd,\n",
        "              loss=loss_function,\n",
        "              metrics=['accuracy'])\n"
      ],
      "execution_count": 25,
      "outputs": [
        {
          "output_type": "stream",
          "text": [
            "local_out Tensor(\"separable_conv2d_69_target_1:0\", shape=(?, ?, ?, ?), dtype=float32)\n",
            "kernel Tensor(\"loss_3/separable_conv2d_69_loss/Const:0\", shape=(45, 45, 68, 1), dtype=float32)\n",
            "Heatmaps Tensor(\"loss_3/separable_conv2d_69_loss/Reshape:0\", shape=(?, 96, 96, 68), dtype=float32)\n",
            "Win (?, ?)\n",
            "---------------Loss Function----------------\n",
            "Og Tensor(\"separable_conv2d_69/BiasAdd:0\", shape=(?, 96, 96, 68), dtype=float32)\n",
            "Labels Tensor(\"separable_conv2d_69_target_1:0\", shape=(?, ?, ?, ?), dtype=float32)\n",
            "Ground Truth Tensor(\"loss_3/separable_conv2d_69_loss/Reshape:0\", shape=(?, 96, 96, 68), dtype=float32)\n",
            "Ol Tensor(\"Ol_2/Reshape:0\", shape=(?, 96, 96, 68), dtype=float32)\n",
            "Loss Tensor(\"loss_3/separable_conv2d_69_loss/Mul_2:0\", shape=(), dtype=float32)\n"
          ],
          "name": "stdout"
        }
      ]
    },
    {
      "metadata": {
        "id": "UU8aI0KIpZPU",
        "colab_type": "code",
        "colab": {
          "base_uri": "https://localhost:8080/",
          "height": 417
        },
        "outputId": "684100e0-4d6c-42c1-8fdb-2bcfde98f636"
      },
      "cell_type": "code",
      "source": [
        " FLD_model.fit(train_x, train_y, batch_size=8, epochs=10, validation_data=(test_x, test_y))"
      ],
      "execution_count": 26,
      "outputs": [
        {
          "output_type": "stream",
          "text": [
            "Train on 200 samples, validate on 96 samples\n",
            "Epoch 1/10\n",
            "200/200 [==============================] - 70s 350ms/step - loss: 147108.8505 - acc: 0.0046 - val_loss: 15674.4963 - val_acc: 3.5378e-04\n",
            "Epoch 2/10\n",
            "200/200 [==============================] - 62s 309ms/step - loss: 3533.7674 - acc: 0.0039 - val_loss: 29187.9956 - val_acc: 2.7353e-04\n",
            "Epoch 3/10\n",
            "200/200 [==============================] - 62s 309ms/step - loss: 1917.6627 - acc: 0.0038 - val_loss: 16792.1503 - val_acc: 5.4140e-04\n",
            "Epoch 4/10\n",
            "200/200 [==============================] - 62s 309ms/step - loss: 1297.2790 - acc: 0.0037 - val_loss: 13474.6290 - val_acc: 4.8941e-04\n",
            "Epoch 5/10\n",
            "200/200 [==============================] - 62s 309ms/step - loss: 1053.6581 - acc: 0.0038 - val_loss: 12602.6707 - val_acc: 5.3462e-04\n",
            "Epoch 6/10\n",
            "200/200 [==============================] - 62s 309ms/step - loss: 985.0135 - acc: 0.0031 - val_loss: 8339.6291 - val_acc: 8.8727e-04\n",
            "Epoch 7/10\n",
            "200/200 [==============================] - 62s 309ms/step - loss: 847.0067 - acc: 0.0036 - val_loss: 5934.5663 - val_acc: 0.0010\n",
            "Epoch 8/10\n",
            "200/200 [==============================] - 62s 309ms/step - loss: 739.5863 - acc: 0.0035 - val_loss: 6412.4107 - val_acc: 0.0012\n",
            "Epoch 9/10\n",
            "200/200 [==============================] - 62s 309ms/step - loss: 687.7003 - acc: 0.0037 - val_loss: 6134.1287 - val_acc: 0.0018\n",
            "Epoch 10/10\n",
            "200/200 [==============================] - 62s 310ms/step - loss: 664.4922 - acc: 0.0037 - val_loss: 3660.1603 - val_acc: 0.0018\n"
          ],
          "name": "stdout"
        },
        {
          "output_type": "execute_result",
          "data": {
            "text/plain": [
              "<keras.callbacks.History at 0x7fa84005c630>"
            ]
          },
          "metadata": {
            "tags": []
          },
          "execution_count": 26
        }
      ]
    },
    {
      "metadata": {
        "id": "dFjoZqIpQDw_",
        "colab_type": "code",
        "colab": {}
      },
      "cell_type": "code",
      "source": [
        ""
      ],
      "execution_count": 0,
      "outputs": []
    },
    {
      "metadata": {
        "id": "kz-5fE2npZPY",
        "colab_type": "code",
        "colab": {}
      },
      "cell_type": "code",
      "source": [
        "import cntk as C\n",
        "\n",
        "cntk_model = C.load_model(r\"C:\\Users\\Meers\\Documents\\Techie\\InkersIntern\\Phase2\\Merget\\Merget\\python\\output\\models\\model.21\")"
      ],
      "execution_count": 0,
      "outputs": []
    },
    {
      "metadata": {
        "id": "RNIo-g5ypZPa",
        "colab_type": "code",
        "colab": {}
      },
      "cell_type": "code",
      "source": [
        "cntk_model.parameters"
      ],
      "execution_count": 0,
      "outputs": []
    },
    {
      "metadata": {
        "id": "lgbeyzNipZPe",
        "colab_type": "code",
        "colab": {}
      },
      "cell_type": "code",
      "source": [
        "cntk_model.save(\"cntk_model.h5\")"
      ],
      "execution_count": 0,
      "outputs": []
    },
    {
      "metadata": {
        "id": "AHy42r3HpZPm",
        "colab_type": "code",
        "colab": {}
      },
      "cell_type": "code",
      "source": [
        "FLD = keras.models.load_model(r\"C:\\Users\\Meers\\Documents\\Techie\\InkersIntern\\Phase2\\FLDCode\\cntk_model.h5\")"
      ],
      "execution_count": 0,
      "outputs": []
    },
    {
      "metadata": {
        "id": "OXVjXhvRpZPq",
        "colab_type": "code",
        "colab": {}
      },
      "cell_type": "code",
      "source": [
        "import keras.backend as K\n",
        "\n",
        "#save_model_hdf5(cntk_model, 'my_model.h5')\n",
        "kerasmodel = K.functional_ops. load_model(cntk_model)"
      ],
      "execution_count": 0,
      "outputs": []
    },
    {
      "metadata": {
        "id": "l_976-PGpZPs",
        "colab_type": "code",
        "colab": {}
      },
      "cell_type": "code",
      "source": [
        "#func = cntk_model.outputs[0]\n",
        "cntk_model.save('cntk_model.onnx', format=C.ModelFormat.)"
      ],
      "execution_count": 0,
      "outputs": []
    },
    {
      "metadata": {
        "id": "D2nNnvYapZPu",
        "colab_type": "code",
        "colab": {}
      },
      "cell_type": "code",
      "source": [
        "import onnx\n",
        "onnx_model = onnx.load('cntk_model.onnx')"
      ],
      "execution_count": 0,
      "outputs": []
    },
    {
      "metadata": {
        "id": "AOpflqHQpZPw",
        "colab_type": "code",
        "colab": {}
      },
      "cell_type": "code",
      "source": [
        "from onnx_tf.backend import prepare\n",
        "tf_model = prepare(onnx_model)"
      ],
      "execution_count": 0,
      "outputs": []
    },
    {
      "metadata": {
        "id": "izqeD_E7pZPy",
        "colab_type": "code",
        "colab": {}
      },
      "cell_type": "code",
      "source": [
        ""
      ],
      "execution_count": 0,
      "outputs": []
    }
  ]
}