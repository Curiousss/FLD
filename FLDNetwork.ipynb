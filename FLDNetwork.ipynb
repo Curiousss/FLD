{
  "nbformat": 4,
  "nbformat_minor": 0,
  "metadata": {
    "colab": {
      "name": "FLDNetwork.ipynb",
      "version": "0.3.2",
      "provenance": [],
      "collapsed_sections": [],
      "include_colab_link": true
    },
    "kernelspec": {
      "display_name": "Python 3",
      "language": "python",
      "name": "python3"
    },
    "accelerator": "GPU"
  },
  "cells": [
    {
      "cell_type": "markdown",
      "metadata": {
        "id": "view-in-github",
        "colab_type": "text"
      },
      "source": [
        "[View in Colaboratory](https://colab.research.google.com/github/Curiousss/FLD/blob/master/FLDNetwork.ipynb)"
      ]
    },
    {
      "metadata": {
        "id": "wWEFzdhd-D35",
        "colab_type": "code",
        "colab": {
          "base_uri": "https://localhost:8080/",
          "height": 72
        },
        "outputId": "fe098c1d-e878-4db9-97e7-9d29a4ce1372"
      },
      "cell_type": "code",
      "source": [
        "!wget https://www.dropbox.com/s/9j2om0gcv43hkz8/300w_cropped.zip"
      ],
      "execution_count": 1,
      "outputs": [
        {
          "output_type": "stream",
          "text": [
            "\n",
            "Redirecting output to ‘wget-log.2’.\n",
            "^C\n"
          ],
          "name": "stdout"
        }
      ]
    },
    {
      "metadata": {
        "id": "53werK5Qt0Sv",
        "colab_type": "code",
        "colab": {}
      },
      "cell_type": "code",
      "source": [
        "!wget https://www.dropbox.com/s/o3615gx23xohs00/menpo_challenge_trainset.zip"
      ],
      "execution_count": 0,
      "outputs": []
    },
    {
      "metadata": {
        "id": "kBrIThcWqB5x",
        "colab_type": "code",
        "colab": {}
      },
      "cell_type": "code",
      "source": [
        "!unzip 300w_cropped.zip"
      ],
      "execution_count": 0,
      "outputs": []
    },
    {
      "metadata": {
        "id": "OXfO8yUkuTNh",
        "colab_type": "code",
        "colab": {
          "base_uri": "https://localhost:8080/",
          "height": 72
        },
        "outputId": "b794a544-b499-43fa-e075-e0c0e84e7d2f"
      },
      "cell_type": "code",
      "source": [
        "!unzip menpo_challenge_trainset.zip"
      ],
      "execution_count": 22,
      "outputs": [
        {
          "output_type": "stream",
          "text": [
            "Archive:  menpo_challenge_trainset.zip\r\n",
            "   creating: menpo_train_release/\r\n",
            "[menpo_challenge_trainset.zip] menpo_train_release/aflw__face_39822.jpg password: "
          ],
          "name": "stdout"
        }
      ]
    },
    {
      "metadata": {
        "id": "mIHW7r4A-caO",
        "colab_type": "code",
        "colab": {
          "base_uri": "https://localhost:8080/",
          "height": 35
        },
        "outputId": "25a1e48f-e959-49c3-ab4a-41195ddb1160"
      },
      "cell_type": "code",
      "source": [
        "!ls"
      ],
      "execution_count": 8,
      "outputs": [
        {
          "output_type": "stream",
          "text": [
            "300w_cropped.zip  300w_cropped.zip.1  sample_data  wget-log  wget-log.1\n"
          ],
          "name": "stdout"
        }
      ]
    },
    {
      "metadata": {
        "id": "gQBUpoCcsRxO",
        "colab_type": "code",
        "colab": {
          "resources": {
            "http://localhost:8080/nbextensions/google.colab/files.js": {
              "data": "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",
              "ok": true,
              "headers": [
                [
                  "content-type",
                  "application/javascript"
                ]
              ],
              "status": 200,
              "status_text": ""
            }
          },
          "base_uri": "https://localhost:8080/",
          "height": 73
        },
        "outputId": "6ae9857e-f7cc-4756-d75d-1128c70bd626"
      },
      "cell_type": "code",
      "source": [
        "from google.colab import files\n",
        "uploaded = files.upload()"
      ],
      "execution_count": 6,
      "outputs": [
        {
          "output_type": "display_data",
          "data": {
            "text/html": [
              "\n",
              "     <input type=\"file\" id=\"files-a93c204b-42a4-49a8-a1c1-d6c18d6602a6\" name=\"files[]\" multiple disabled />\n",
              "     <output id=\"result-a93c204b-42a4-49a8-a1c1-d6c18d6602a6\">\n",
              "      Upload widget is only available when the cell has been executed in the\n",
              "      current browser session. Please rerun this cell to enable.\n",
              "      </output>\n",
              "      <script src=\"/nbextensions/google.colab/files.js\"></script> "
            ],
            "text/plain": [
              "<IPython.core.display.HTML object>"
            ]
          },
          "metadata": {
            "tags": []
          }
        },
        {
          "output_type": "stream",
          "text": [
            "Saving pts_loader.py to pts_loader.py\n"
          ],
          "name": "stdout"
        }
      ]
    },
    {
      "metadata": {
        "id": "ZfZ3ardgth4q",
        "colab_type": "code",
        "colab": {
          "base_uri": "https://localhost:8080/",
          "height": 108
        },
        "outputId": "f6652beb-1423-40fb-ecb6-0ad9492991c8"
      },
      "cell_type": "code",
      "source": [
        "!git clone https://github.com/albanie/pts_loader\n",
        "!ls pts_loader/\n",
        "!cp pts_loader/pts_loader.py .\n",
        "!ls"
      ],
      "execution_count": 6,
      "outputs": [
        {
          "output_type": "stream",
          "text": [
            "Cloning into 'pts_loader'...\n",
            "fatal: unable to access 'https://github.com/albanie/pts_loader/': gnutls_handshake() failed: Error in the pull function.\n",
            "ls: cannot access 'pts_loader/': No such file or directory\n",
            "cp: cannot stat 'pts_loader/pts_loader.py': No such file or directory\n",
            "01_Indoor  02_Outdoor  300w_cropped.zip  kernel45.txt  sample_data  wget-log\n"
          ],
          "name": "stdout"
        }
      ]
    },
    {
      "metadata": {
        "id": "MdmYfVM_sOwd",
        "colab_type": "code",
        "colab": {
          "base_uri": "https://localhost:8080/",
          "height": 35
        },
        "outputId": "5e2527c5-8db4-4ceb-d0c7-023b8107430a"
      },
      "cell_type": "code",
      "source": [
        "import os\n",
        "from os import listdir,makedirs\n",
        "from os.path import isfile,join\n",
        "import numpy as np\n",
        "from PIL import Image\n",
        "from matplotlib import pyplot as plt\n",
        "import cv2\n",
        "\n",
        "import tensorflow as tf\n",
        "import keras.backend as K\n",
        "import keras\n",
        "from keras.models import Sequential\n",
        "from keras.layers import Dense, Dropout, Activation, Add, SeparableConv2D\n",
        "from keras.layers import Convolution2D, Lambda, Input, Reshape\n",
        "from keras.layers.normalization import BatchNormalization\n",
        "from keras.models import Model\n",
        "from keras.layers import LeakyReLU\n",
        "from keras import optimizers\n",
        "\n",
        "\n"
      ],
      "execution_count": 3,
      "outputs": [
        {
          "output_type": "stream",
          "text": [
            "Using TensorFlow backend.\n"
          ],
          "name": "stderr"
        }
      ]
    },
    {
      "metadata": {
        "id": "UEEYTE2BpZO5",
        "colab_type": "code",
        "colab": {}
      },
      "cell_type": "code",
      "source": [
        "'''\n",
        "Hyper-Parameters\n",
        "'''\n",
        "image_H = 96.0\n",
        "image_W = 96.0\n",
        "grayscale = True\n",
        "batch_size = 16\n",
        "learning_rate=0.001\n",
        "momentum = 0.9\n",
        "decay = 0\n",
        "epochs = 100\n",
        "droupout= 0.1\n",
        "gradient_clipping = 0.1\n",
        "nFilters = 128\n",
        "nlandmarks = nLabels = 68\n",
        "K=45\n",
        "img_rows = 96\n",
        "img_cols = 96\n",
        "img_channels = 1\n",
        "alpha = 0.1\n",
        "epsilon = 0.00001"
      ],
      "execution_count": 0,
      "outputs": []
    },
    {
      "metadata": {
        "id": "yv-gK_mPmEX2",
        "colab_type": "code",
        "colab": {}
      },
      "cell_type": "code",
      "source": [
        "# Get files\n",
        "import pts_loader\n",
        "\n",
        "img_x = []\n",
        "pts_y = []\n",
        "for i in range(1,600):\n",
        "    #print(\"iteration\", i)\n",
        "    if i == 78 or i == 79 or i == 266 or i == 385 or i == 478 or i == 549 or i == 550:\n",
        "      continue\n",
        "    if i < 10:\n",
        "        img_f = r\"01_Indoor/indoor_00\" + str(i) +\".png\"\n",
        "        pts_f = r\"01_Indoor/indoor_00\" + str(i) +\".pts\"\n",
        "    elif i < 100:\n",
        "        img_f = r\"01_Indoor/indoor_0\" + str(i) +\".png\"\n",
        "        pts_f = r\"01_Indoor/indoor_0\" + str(i) +\".pts\"\n",
        "    elif i < 301:\n",
        "        img_f = r\"01_Indoor/indoor_\" + str(i) +\".png\"\n",
        "        pts_f = r\"01_Indoor/indoor_\" + str(i) +\".pts\"\n",
        "    \n",
        "    elif i < 310:\n",
        "        j = i - 300\n",
        "        img_f = r\"02_Outdoor/outdoor_00\" + str(j) +\".png\"\n",
        "        pts_f = r\"02_Outdoor/outdoor_00\" + str(j) +\".pts\"\n",
        "    elif i < 400:\n",
        "        j = i - 300\n",
        "        img_f = r\"02_Outdoor/outdoor_0\" + str(j) +\".png\"\n",
        "        pts_f = r\"02_Outdoor/outdoor_0\" + str(j) +\".pts\"\n",
        "    else:\n",
        "        j = i - 300    \n",
        "        img_f = r\"02_Outdoor/outdoor_\" + str(j) +\".png\"\n",
        "        pts_f = r\"02_Outdoor/outdoor_\" + str(j) +\".pts\"\n",
        "    pts = pts_pts = pts_loader.load(pts_f)\n",
        "    # Loading imgae in grayscale\n",
        "    img = cv2.imread(img_f)\n",
        "    \n",
        "    scale_x = image_W/img.shape[0]\n",
        "    scale_y = image_H/img.shape[1]\n",
        "    img = cv2.resize(img, (img_rows, img_cols))\n",
        "    img = cv2.cvtColor(img,cv2.COLOR_BGR2GRAY)\n",
        "    img = cv2.normalize(img,None,0,1,cv2.NORM_MINMAX)\n",
        "    img = img.reshape(img_rows, img_cols, 1)\n",
        "    landmarks = []\n",
        "    landmarks1 = []\n",
        "    \n",
        "    for p in pts:\n",
        "        new_pts = []\n",
        "        landmark = np.zeros((96, 96), np.uint8)\n",
        "        new_pts = (p[0] * scale_y , p[1] * scale_x )\n",
        "        #new_points.append(new_pts)\n",
        "        x = int(new_pts[0])\n",
        "        y = int(new_pts[1])\n",
        "        #print(n, x, y)\n",
        "        landmark[x][y] = 1 # Normalized WHite\n",
        "        landmark1 = cv2.flip(landmark,1) # Augementation: Horizontal flip\n",
        "        landmarks.append(landmark)\n",
        "        landmarks1.append(landmark1) # Augementation: Horizontal flip\n",
        "        #landmarks.append(x) # Testing\n",
        "        #landmarks.append(y) # Testing\n",
        "        \n",
        "    img1 = cv2.flip(img,1) # Augementation: Horizontal flip\n",
        "    img1 = img1.reshape(img_rows, img_cols, 1)\n",
        "    img_x.append(img)\n",
        "    pts_y.append(landmarks)\n",
        "    img_x.append(img1)\n",
        "    pts_y.append(landmarks1)\n"
      ],
      "execution_count": 0,
      "outputs": []
    },
    {
      "metadata": {
        "id": "T4eoPQGnmFaS",
        "colab_type": "code",
        "colab": {
          "base_uri": "https://localhost:8080/",
          "height": 35
        },
        "outputId": "27185f3a-e0e3-4620-e3e7-1da31e08091a"
      },
      "cell_type": "code",
      "source": [
        "print(img_x[1].shape)\n",
        "assert not np.any(np.isnan(img_x))\n",
        "assert not np.any(np.isnan(pts_y))\n",
        "train_x = []\n",
        "train_y = []\n",
        "test_x = []\n",
        "test_y = []\n"
      ],
      "execution_count": 5,
      "outputs": [
        {
          "output_type": "stream",
          "text": [
            "(96, 96, 1)\n"
          ],
          "name": "stdout"
        }
      ]
    },
    {
      "metadata": {
        "id": "cTBAQZQ9mIvC",
        "colab_type": "code",
        "colab": {}
      },
      "cell_type": "code",
      "source": [
        "train_x = np.array(img_x[:1000])\n",
        "train_y = np.array(pts_y[:1000])\n",
        "test_x = np.array(img_x[1000:])\n",
        "test_y = np.array(pts_y[1000:])\n"
      ],
      "execution_count": 0,
      "outputs": []
    },
    {
      "metadata": {
        "id": "qnEfWMt8pZPE",
        "colab_type": "code",
        "colab": {
          "base_uri": "https://localhost:8080/",
          "height": 72
        },
        "outputId": "a04c4616-6b44-4b82-edf0-3763420e82e6"
      },
      "cell_type": "code",
      "source": [
        "print(train_y.shape)\n",
        "train_y = train_y.reshape(-1, 96,96,68)\n",
        "test_y = test_y.reshape(-1, 96,96,68)\n",
        "\n",
        "print(train_y.shape)\n",
        "print(test_y.shape)"
      ],
      "execution_count": 7,
      "outputs": [
        {
          "output_type": "stream",
          "text": [
            "(1000, 68, 96, 96)\n",
            "(1000, 96, 96, 68)\n",
            "(184, 96, 96, 68)\n"
          ],
          "name": "stdout"
        }
      ]
    },
    {
      "metadata": {
        "id": "3UCdR_5HpZPI",
        "colab_type": "code",
        "colab": {}
      },
      "cell_type": "code",
      "source": [
        "def apply_kernel(local_out):\n",
        "    '''\n",
        "     get kernel from text file\n",
        "     tile it to 1x1x45x45\n",
        "     convolve with local out\n",
        "    '''\n",
        "    f = open(r'kernel45.txt')\n",
        "    kernel45 = np.fromfile(f, dtype = np.float32, count = -1, sep = \" \")\n",
        "    \n",
        "    # [1 x 1 x 45 x 45]\n",
        "    kernel45 = np.reshape(kernel45, (45, 45, 1, 1))\n",
        "    # [numLabels x 1 x 45 x 45] if tensor convolution is used\n",
        "    kernel_stacked \t= np.tile(kernel45, (1, 1, nLabels, 1))\n",
        "    kernel_tensor = tf.convert_to_tensor(kernel_stacked, dtype=tf.float32)\n",
        "    print(\"local_out\", local_out)\n",
        "    print(\"kernel\", kernel_tensor)\n",
        "\n",
        "    return tf.nn.depthwise_conv2d(local_out, kernel_tensor, strides=[1,1,1,1],\n",
        "                                   padding=\"SAME\")\n",
        "\n",
        "\n"
      ],
      "execution_count": 0,
      "outputs": []
    },
    {
      "metadata": {
        "id": "-Ps6ujB8_ycf",
        "colab_type": "code",
        "colab": {}
      },
      "cell_type": "code",
      "source": [
        "def FLD_model_build():\n",
        "  '''\n",
        "  ----------------------------------------LOCAL SUBNET----------------------------\n",
        "  '''\n",
        "\n",
        "  # [ImageC x ImageH x ImageW]\n",
        "  #-----------------------------------------------5 layers of kernel 5x5----------\n",
        "  input_img = Input(( img_rows, img_cols, img_channels))\n",
        "  model = SeparableConv2D(filters=nFilters, kernel_size=(5, 5), padding='same')(input_img)\n",
        "  model = BatchNormalization(epsilon=epsilon)(model)\n",
        "  model = LeakyReLU(alpha)(model)\n",
        "  model = Dropout(droupout)(model)\n",
        "\n",
        "  for i in range(4):\n",
        "    model = SeparableConv2D(filters=nFilters, kernel_size=(5, 5), padding='same')(model)\n",
        "    model = BatchNormalization(epsilon=epsilon)(model)\n",
        "    model = LeakyReLU(alpha)(model)\n",
        "    model = Dropout(droupout)(model)\n",
        "\n",
        "  #-----------------------------------------------10 layers of kernel 3x3----------\n",
        "  #1\n",
        "  for i in range(10):\n",
        "    model = SeparableConv2D(filters=nFilters, kernel_size=(3, 3), padding='same')(model)\n",
        "    model = BatchNormalization(epsilon=epsilon)(model)\n",
        "    model = LeakyReLU(alpha)(model)\n",
        "    model = Dropout(droupout)(model)\n",
        "\n",
        "  print(\"Local subnet\", model)\n",
        "\n",
        "  '''\n",
        "  ----------------------1x1 Convolution with activation-----------------------------\n",
        "  Apply Gaussian Kernel filter\n",
        "  '''\n",
        "  model_Conv = Convolution2D(filters=nLabels, kernel_size=(1, 1))(model)\n",
        "  model = LeakyReLU(alpha)(model)\n",
        "  model_Conv = Lambda(apply_kernel, output_shape=(img_cols, img_rows, nLabels))(model_Conv)\n",
        "  print(\"Main 1x1\", model_Conv)\n",
        "  '''\n",
        "  -------------------------------------Ol 1x1 Linear convolution-------------------\n",
        "  Apply Gaussian Kernel filter\n",
        "  '''\n",
        "  model_Ol = Convolution2D(filters=nLabels, kernel_size=(1, 1),activation=None)(model)\n",
        "  model_Ol = Lambda(apply_kernel, output_shape=(img_cols, img_rows, nLabels), name='Ol')(model_Ol)\n",
        "  print(\"Local output\", model_Ol)\n",
        "\n",
        "  output_Ol = keras.layers.concatenate([model_Conv, model_Ol])\n",
        "  print(\"Concatenate\", output_Ol)\n",
        "  output_Ol = Reshape((96, 96, -1))(output_Ol)\n",
        "  #print(\"Reshape\", output_Ol)\n",
        "\n",
        "  '''\n",
        "  ----------------------------------------GLOBAL SUBNET----------------------------\n",
        "  '''\n",
        "  #--------------------------------7 layers of dialated kernel 3x3------------------\n",
        "  #1\n",
        "  model = SeparableConv2D(filters=nFilters, kernel_size=(3, 3), padding='same', dilation_rate = 4)(output_Ol)\n",
        "  model = BatchNormalization(epsilon=epsilon)(model)\n",
        "  model = LeakyReLU(alpha)(model)\n",
        "  model = Dropout(droupout)(model)\n",
        "  #2\n",
        "  for i in range(6):\n",
        "    model = SeparableConv2D(filters=nFilters, kernel_size=(3, 3), padding='same', dilation_rate = 4)(model)\n",
        "    model = BatchNormalization(epsilon=epsilon)(model)\n",
        "    model = LeakyReLU(alpha)(model)\n",
        "    model = Dropout(droupout)(model)\n",
        "\n",
        "  model = Convolution2D(filters=nLabels, kernel_size=(1, 1), activation=None)(model)\n",
        "\n",
        "  FLD_model = Model(inputs = input_img, outputs=model)\n",
        "  #FLD_model.summary()\n",
        "  return FLD_model, model_Ol\n"
      ],
      "execution_count": 0,
      "outputs": []
    },
    {
      "metadata": {
        "id": "j6zh1EuvpZPO",
        "colab_type": "code",
        "colab": {}
      },
      "cell_type": "code",
      "source": [
        "def landmark_weight(labels):\n",
        "    \n",
        "    #[numLabels x 1 x 1]\n",
        "    W1 = tf.reduce_sum(labels, axis=1)\n",
        "    W2 = tf.reduce_sum(W1, axis=2)\n",
        "    W3 = tf.reduce_mean(W2)\n",
        "    W4 = tf.multiply(W3, 0.5)\n",
        "    Win = tf.add(W4, W2)\n",
        "    #Win = tf.reduce_sum(Win)\n",
        "    print(\"Win\", Win.shape)\n",
        "    #Win = tf.reshape(Win, (-1, 1, 1, nLabels))\n",
        "    return Win\n",
        "\n",
        "'''\n",
        "Ol - [numLabels x ImageH x ImageW] Kernel conv already applied in Network\n",
        "Og - [numLabels x ImageH x ImageW]\n",
        "labels - Landmark coordinates [numLabels x ImageH x ImageW] without\n",
        "kernel applied\n",
        "'''\n",
        "def loss_function(Ol):\n",
        "  def FLD_loss_func(y_true, y_pred):\n",
        "      labels = y_true\n",
        "      Og = y_pred\n",
        "\n",
        "      # Ground Truth Heatmap\n",
        "      Gn = apply_kernel(labels)\n",
        "\n",
        "      Win = landmark_weight(labels)\n",
        "      global_diff = tf.subtract(Og, Gn)\n",
        "      global_err = tf.square(global_diff)\n",
        "\n",
        "      # (Ol - Gn)2\n",
        "\n",
        "      # Kernel is already applied for Ol\n",
        "      local_diff = tf.subtract(Ol, Gn)\n",
        "      local_err = tf.square(local_diff)\n",
        "      \n",
        "      comb_err = tf.add(local_err, global_err)\n",
        "      \n",
        "      comb_Win = tf.multiply(tf.transpose(Win), tf.transpose(comb_err))\n",
        "      wt_square_err = tf.reduce_sum(comb_Win)\n",
        "      wt_square_err = tf.multiply(wt_square_err, 0.05)\n",
        "      print(\"Loss\", wt_square_err)\n",
        "      return wt_square_err    \n",
        "      \n",
        "      #return tf.reduce_sum(comb_err) #testing\n",
        "  return FLD_loss_func\n",
        "\n"
      ],
      "execution_count": 0,
      "outputs": []
    },
    {
      "metadata": {
        "id": "HAIDBGOxpZPR",
        "colab_type": "code",
        "colab": {
          "base_uri": "https://localhost:8080/",
          "height": 235
        },
        "outputId": "79ccf9cc-4ad5-4112-a1f5-22df1ce7a543"
      },
      "cell_type": "code",
      "source": [
        "FLD_model, model_Ol = FLD_model_build()\n",
        "sgd = optimizers.SGD(lr=0.001, decay=0, momentum=momentum, nesterov=True, clipnorm=0.1)\n",
        "loss1 = loss_function(model_Ol)\n",
        "FLD_model.compile(optimizer=sgd,\n",
        "              loss=[loss1],\n",
        "              metrics=['accuracy'])\n"
      ],
      "execution_count": 19,
      "outputs": [
        {
          "output_type": "stream",
          "text": [
            "Local subnet Tensor(\"dropout_59/cond/Merge:0\", shape=(?, 96, 96, 128), dtype=float32)\n",
            "local_out Tensor(\"conv2d_7/BiasAdd:0\", shape=(?, 96, 96, 68), dtype=float32)\n",
            "kernel Tensor(\"lambda_3/Const:0\", shape=(45, 45, 68, 1), dtype=float32)\n",
            "Main 1x1 Tensor(\"lambda_3/depthwise:0\", shape=(?, 96, 96, 68), dtype=float32)\n",
            "local_out Tensor(\"conv2d_8/BiasAdd:0\", shape=(?, 96, 96, 68), dtype=float32)\n",
            "kernel Tensor(\"Ol_2/Const:0\", shape=(45, 45, 68, 1), dtype=float32)\n",
            "Local output Tensor(\"Ol_2/depthwise:0\", shape=(?, 96, 96, 68), dtype=float32)\n",
            "Concatenate Tensor(\"concatenate_3/concat:0\", shape=(?, 96, 96, 136), dtype=float32)\n",
            "local_out Tensor(\"conv2d_9_target:0\", shape=(?, ?, ?, ?), dtype=float32)\n",
            "kernel Tensor(\"loss_2/conv2d_9_loss/Const:0\", shape=(45, 45, 68, 1), dtype=float32)\n",
            "Win (?, ?)\n",
            "Loss Tensor(\"loss_2/conv2d_9_loss/Mul_2:0\", shape=(), dtype=float32)\n"
          ],
          "name": "stdout"
        }
      ]
    },
    {
      "metadata": {
        "id": "UU8aI0KIpZPU",
        "colab_type": "code",
        "colab": {
          "base_uri": "https://localhost:8080/",
          "height": 417
        },
        "outputId": "519a6149-ee3b-4dae-e4a0-fef17b6c9fd9"
      },
      "cell_type": "code",
      "source": [
        " FLD_model.fit(train_x, train_y, batch_size=8, epochs=10, validation_data=(test_x, test_y))"
      ],
      "execution_count": 22,
      "outputs": [
        {
          "output_type": "stream",
          "text": [
            "Train on 1000 samples, validate on 184 samples\n",
            "Epoch 1/10\n",
            "1000/1000 [==============================] - 362s 362ms/step - loss: 4024855.4800 - acc: 0.0245 - val_loss: 10452666.3696 - val_acc: 0.0037\n",
            "Epoch 2/10\n",
            "1000/1000 [==============================] - 363s 363ms/step - loss: 3912370.1200 - acc: 0.0244 - val_loss: 8750468.4783 - val_acc: 0.0054\n",
            "Epoch 3/10\n",
            "1000/1000 [==============================] - 362s 362ms/step - loss: 3840404.7480 - acc: 0.0244 - val_loss: 6839273.8913 - val_acc: 0.0043\n",
            "Epoch 4/10\n",
            "1000/1000 [==============================] - 362s 362ms/step - loss: 3775294.4960 - acc: 0.0245 - val_loss: 6124096.2174 - val_acc: 0.0050\n",
            "Epoch 5/10\n",
            "1000/1000 [==============================] - 363s 363ms/step - loss: 3727730.5160 - acc: 0.0245 - val_loss: 5512480.3913 - val_acc: 0.0051\n",
            "Epoch 6/10\n",
            "1000/1000 [==============================] - 363s 363ms/step - loss: 3678295.3480 - acc: 0.0245 - val_loss: 4963945.1957 - val_acc: 0.0040\n",
            "Epoch 7/10\n",
            "1000/1000 [==============================] - 363s 363ms/step - loss: 3657574.6040 - acc: 0.0243 - val_loss: 4679184.6739 - val_acc: 0.0039\n",
            "Epoch 8/10\n",
            "1000/1000 [==============================] - 363s 363ms/step - loss: 3630127.2800 - acc: 0.0244 - val_loss: 4285556.1630 - val_acc: 0.0037\n",
            "Epoch 9/10\n",
            "1000/1000 [==============================] - 362s 362ms/step - loss: 3610010.4460 - acc: 0.0243 - val_loss: 4088438.6957 - val_acc: 0.0038\n",
            "Epoch 10/10\n",
            "1000/1000 [==============================] - 363s 363ms/step - loss: 3590969.2460 - acc: 0.0245 - val_loss: 3861827.4674 - val_acc: 0.0043\n"
          ],
          "name": "stdout"
        },
        {
          "output_type": "execute_result",
          "data": {
            "text/plain": [
              "<keras.callbacks.History at 0x7f3d5cd1b860>"
            ]
          },
          "metadata": {
            "tags": []
          },
          "execution_count": 22
        }
      ]
    },
    {
      "metadata": {
        "id": "TeVXO6g_D5wC",
        "colab_type": "code",
        "colab": {}
      },
      "cell_type": "code",
      "source": [
        "# Prediction and visualization of landmarks on Image\n",
        "img = []#get image\n",
        "scale_x = image_W/img.shape[0]\n",
        "scale_y = image_H/img.shape[1]\n",
        "\n",
        "img1 = cv2.resize(img, (img_rows, img_cols))\n",
        "img1 = cv2.cvtColor(img1,cv2.COLOR_BGR2GRAY)\n",
        "img1 = cv2.normalize(img1,None,0,1,cv2.NORM_MINMAX)\n",
        "pred = FLD_model.predict(img1)\n",
        "landmarks = []\n",
        "for p in pred:\n",
        "  landmark_x, landmark_y = p.argmax()#get the position\n",
        "  landmark_x = landmark_x / scale_x\n",
        "  landmark_y = landmark_y / scale_y\n",
        "  landmarks.append((landmark_x, landmark_y))\n",
        "\n",
        "  # Mark scaled landmarks in original image\n",
        "  cv2.circle(img, (round(landmark_x), round(landmark_y)),  2, (255,255,255), -1)\n",
        "\n",
        "plt.imshow(cv2.cvtColor(img, cv2.COLOR_BGR2RGB))\n",
        "plt.show()"
      ],
      "execution_count": 0,
      "outputs": []
    },
    {
      "metadata": {
        "id": "kz-5fE2npZPY",
        "colab_type": "code",
        "colab": {}
      },
      "cell_type": "code",
      "source": [
        "import cntk as C\n",
        "\n",
        "cntk_model = C.load_model(r\"C:\\Users\\Meers\\Documents\\Techie\\InkersIntern\\Phase2\\Merget\\Merget\\python\\output\\models\\model.21\")"
      ],
      "execution_count": 0,
      "outputs": []
    },
    {
      "metadata": {
        "id": "RNIo-g5ypZPa",
        "colab_type": "code",
        "colab": {}
      },
      "cell_type": "code",
      "source": [
        "cntk_model.parameters"
      ],
      "execution_count": 0,
      "outputs": []
    },
    {
      "metadata": {
        "id": "lgbeyzNipZPe",
        "colab_type": "code",
        "colab": {}
      },
      "cell_type": "code",
      "source": [
        "cntk_model.save(\"cntk_model.h5\")"
      ],
      "execution_count": 0,
      "outputs": []
    },
    {
      "metadata": {
        "id": "AHy42r3HpZPm",
        "colab_type": "code",
        "colab": {}
      },
      "cell_type": "code",
      "source": [
        "FLD = keras.models.load_model(r\"C:\\Users\\Meers\\Documents\\Techie\\InkersIntern\\Phase2\\FLDCode\\cntk_model.h5\")"
      ],
      "execution_count": 0,
      "outputs": []
    },
    {
      "metadata": {
        "id": "OXVjXhvRpZPq",
        "colab_type": "code",
        "colab": {}
      },
      "cell_type": "code",
      "source": [
        "import keras.backend as K\n",
        "\n",
        "#save_model_hdf5(cntk_model, 'my_model.h5')\n",
        "kerasmodel = K.functional_ops. load_model(cntk_model)"
      ],
      "execution_count": 0,
      "outputs": []
    },
    {
      "metadata": {
        "id": "l_976-PGpZPs",
        "colab_type": "code",
        "colab": {}
      },
      "cell_type": "code",
      "source": [
        "#func = cntk_model.outputs[0]\n",
        "cntk_model.save('cntk_model.onnx', format=C.ModelFormat.)"
      ],
      "execution_count": 0,
      "outputs": []
    },
    {
      "metadata": {
        "id": "D2nNnvYapZPu",
        "colab_type": "code",
        "colab": {}
      },
      "cell_type": "code",
      "source": [
        "import onnx\n",
        "onnx_model = onnx.load('cntk_model.onnx')"
      ],
      "execution_count": 0,
      "outputs": []
    },
    {
      "metadata": {
        "id": "AOpflqHQpZPw",
        "colab_type": "code",
        "colab": {}
      },
      "cell_type": "code",
      "source": [
        "from onnx_tf.backend import prepare\n",
        "tf_model = prepare(onnx_model)"
      ],
      "execution_count": 0,
      "outputs": []
    },
    {
      "metadata": {
        "id": "izqeD_E7pZPy",
        "colab_type": "code",
        "colab": {}
      },
      "cell_type": "code",
      "source": [
        ""
      ],
      "execution_count": 0,
      "outputs": []
    }
  ]
}