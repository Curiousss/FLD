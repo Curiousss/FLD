{
  "nbformat": 4,
  "nbformat_minor": 0,
  "metadata": {
    "colab": {
      "name": "FLDNetwork.ipynb",
      "version": "0.3.2",
      "provenance": [],
      "collapsed_sections": [],
      "include_colab_link": true
    },
    "kernelspec": {
      "display_name": "Python 3",
      "language": "python",
      "name": "python3"
    },
    "accelerator": "GPU"
  },
  "cells": [
    {
      "cell_type": "markdown",
      "metadata": {
        "id": "view-in-github",
        "colab_type": "text"
      },
      "source": [
        "[View in Colaboratory](https://colab.research.google.com/github/Curiousss/FLD/blob/master/FLDNetwork.ipynb)"
      ]
    },
    {
      "metadata": {
        "id": "IF7sBvHRpaQR",
        "colab_type": "code",
        "colab": {
          "base_uri": "https://localhost:8080/",
          "height": 308
        },
        "outputId": "c42157b2-9db9-4fcd-be49-9ceceaa9af19"
      },
      "cell_type": "code",
      "source": [
        "!wget https://ibug.doc.ic.ac.uk/download/annotations/300w_cropped.zip"
      ],
      "execution_count": 1,
      "outputs": [
        {
          "output_type": "stream",
          "text": [
            "--2018-09-01 05:43:04--  https://ibug.doc.ic.ac.uk/download/annotations/300w_cropped.zip\n",
            "Resolving ibug.doc.ic.ac.uk (ibug.doc.ic.ac.uk)... 146.169.13.66\n",
            "Connecting to ibug.doc.ic.ac.uk (ibug.doc.ic.ac.uk)|146.169.13.66|:443... connected.\n",
            "HTTP request sent, awaiting response... 301 MOVED PERMANENTLY\n",
            "Location: http://ibug.doc.ic.ac.uk/download/annotations/300w_cropped.zip/ [following]\n",
            "URL transformed to HTTPS due to an HSTS policy\n",
            "--2018-09-01 05:43:05--  https://ibug.doc.ic.ac.uk/download/annotations/300w_cropped.zip/\n",
            "Reusing existing connection to ibug.doc.ic.ac.uk:443.\n",
            "HTTP request sent, awaiting response... 200 OK\n",
            "Length: unspecified [text/html]\n",
            "Saving to: ‘300w_cropped.zip’\n",
            "\n",
            "300w_cropped.zip        [ <=>                ]   2.82K  --.-KB/s    in 0s      \n",
            "\n",
            "2018-09-01 05:43:05 (187 MB/s) - ‘300w_cropped.zip’ saved [2885]\n",
            "\n"
          ],
          "name": "stdout"
        }
      ]
    },
    {
      "metadata": {
        "id": "kBrIThcWqB5x",
        "colab_type": "code",
        "colab": {
          "base_uri": "https://localhost:8080/",
          "height": 181
        },
        "outputId": "78c4fad5-fea1-4644-a646-9bc0fc4abd79"
      },
      "cell_type": "code",
      "source": [
        "!ls\n",
        "!unzip 300w_cropped.zip\n",
        "!ls"
      ],
      "execution_count": 7,
      "outputs": [
        {
          "output_type": "stream",
          "text": [
            "300w_cropped.zip  sample_data\n",
            "Archive:  300w_cropped.zip\n",
            "  End-of-central-directory signature not found.  Either this file is not\n",
            "  a zipfile, or it constitutes one disk of a multi-part archive.  In the\n",
            "  latter case the central directory and zipfile comment will be found on\n",
            "  the last disk(s) of this archive.\n",
            "unzip:  cannot find zipfile directory in one of 300w_cropped.zip or\n",
            "        300w_cropped.zip.zip, and cannot find 300w_cropped.zip.ZIP, period.\n",
            "300w_cropped.zip  sample_data\n"
          ],
          "name": "stdout"
        }
      ]
    },
    {
      "metadata": {
        "id": "gQBUpoCcsRxO",
        "colab_type": "code",
        "colab": {
          "resources": {
            "http://localhost:8080/nbextensions/google.colab/files.js": {
              "data": "Ly8gQ29weXJpZ2h0IDIwMTcgR29vZ2xlIExMQwovLwovLyBMaWNlbnNlZCB1bmRlciB0aGUgQXBhY2hlIExpY2Vuc2UsIFZlcnNpb24gMi4wICh0aGUgIkxpY2Vuc2UiKTsKLy8geW91IG1heSBub3QgdXNlIHRoaXMgZmlsZSBleGNlcHQgaW4gY29tcGxpYW5jZSB3aXRoIHRoZSBMaWNlbnNlLgovLyBZb3UgbWF5IG9idGFpbiBhIGNvcHkgb2YgdGhlIExpY2Vuc2UgYXQKLy8KLy8gICAgICBodHRwOi8vd3d3LmFwYWNoZS5vcmcvbGljZW5zZXMvTElDRU5TRS0yLjAKLy8KLy8gVW5sZXNzIHJlcXVpcmVkIGJ5IGFwcGxpY2FibGUgbGF3IG9yIGFncmVlZCB0byBpbiB3cml0aW5nLCBzb2Z0d2FyZQovLyBkaXN0cmlidXRlZCB1bmRlciB0aGUgTGljZW5zZSBpcyBkaXN0cmlidXRlZCBvbiBhbiAiQVMgSVMiIEJBU0lTLAovLyBXSVRIT1VUIFdBUlJBTlRJRVMgT1IgQ09ORElUSU9OUyBPRiBBTlkgS0lORCwgZWl0aGVyIGV4cHJlc3Mgb3IgaW1wbGllZC4KLy8gU2VlIHRoZSBMaWNlbnNlIGZvciB0aGUgc3BlY2lmaWMgbGFuZ3VhZ2UgZ292ZXJuaW5nIHBlcm1pc3Npb25zIGFuZAovLyBsaW1pdGF0aW9ucyB1bmRlciB0aGUgTGljZW5zZS4KCi8qKgogKiBAZmlsZW92ZXJ2aWV3IEhlbHBlcnMgZm9yIGdvb2dsZS5jb2xhYiBQeXRob24gbW9kdWxlLgogKi8KKGZ1bmN0aW9uKHNjb3BlKSB7CmZ1bmN0aW9uIHNwYW4odGV4dCwgc3R5bGVBdHRyaWJ1dGVzID0ge30pIHsKICBjb25zdCBlbGVtZW50ID0gZG9jdW1lbnQuY3JlYXRlRWxlbWVudCgnc3BhbicpOwogIGVsZW1lbnQudGV4dENvbnRlbnQgPSB0ZXh0OwogIGZvciAoY29uc3Qga2V5IG9mIE9iamVjdC5rZXlzKHN0eWxlQXR0cmlidXRlcykpIHsKICAgIGVsZW1lbnQuc3R5bGVba2V5XSA9IHN0eWxlQXR0cmlidXRlc1trZXldOwogIH0KICByZXR1cm4gZWxlbWVudDsKfQoKLy8gTWF4IG51bWJlciBvZiBieXRlcyB3aGljaCB3aWxsIGJlIHVwbG9hZGVkIGF0IGEgdGltZS4KY29uc3QgTUFYX1BBWUxPQURfU0laRSA9IDEwMCAqIDEwMjQ7Ci8vIE1heCBhbW91bnQgb2YgdGltZSB0byBibG9jayB3YWl0aW5nIGZvciB0aGUgdXNlci4KY29uc3QgRklMRV9DSEFOR0VfVElNRU9VVF9NUyA9IDMwICogMTAwMDsKCmZ1bmN0aW9uIF91cGxvYWRGaWxlcyhpbnB1dElkLCBvdXRwdXRJZCkgewogIGNvbnN0IHN0ZXBzID0gdXBsb2FkRmlsZXNTdGVwKGlucHV0SWQsIG91dHB1dElkKTsKICBjb25zdCBvdXRwdXRFbGVtZW50ID0gZG9jdW1lbnQuZ2V0RWxlbWVudEJ5SWQob3V0cHV0SWQpOwogIC8vIENhY2hlIHN0ZXBzIG9uIHRoZSBvdXRwdXRFbGVtZW50IHRvIG1ha2UgaXQgYXZhaWxhYmxlIGZvciB0aGUgbmV4dCBjYWxsCiAgLy8gdG8gdXBsb2FkRmlsZXNDb250aW51ZSBmcm9tIFB5dGhvbi4KICBvdXRwdXRFbGVtZW50LnN0ZXBzID0gc3RlcHM7CgogIHJldHVybiBfdXBsb2FkRmlsZXNDb250aW51ZShvdXRwdXRJZCk7Cn0KCi8vIFRoaXMgaXMgcm91Z2hseSBhbiBhc3luYyBnZW5lcmF0b3IgKG5vdCBzdXBwb3J0ZWQgaW4gdGhlIGJyb3dzZXIgeWV0KSwKLy8gd2hlcmUgdGhlcmUgYXJlIG11bHRpcGxlIGFzeW5jaHJvbm91cyBzdGVwcyBhbmQgdGhlIFB5dGhvbiBzaWRlIGlzIGdvaW5nCi8vIHRvIHBvbGwgZm9yIGNvbXBsZXRpb24gb2YgZWFjaCBzdGVwLgovLyBUaGlzIHVzZXMgYSBQcm9taXNlIHRvIGJsb2NrIHRoZSBweXRob24gc2lkZSBvbiBjb21wbGV0aW9uIG9mIGVhY2ggc3RlcCwKLy8gdGhlbiBwYXNzZXMgdGhlIHJlc3VsdCBvZiB0aGUgcHJldmlvdXMgc3RlcCBhcyB0aGUgaW5wdXQgdG8gdGhlIG5leHQgc3RlcC4KZnVuY3Rpb24gX3VwbG9hZEZpbGVzQ29udGludWUob3V0cHV0SWQpIHsKICBjb25zdCBvdXRwdXRFbGVtZW50ID0gZG9jdW1lbnQuZ2V0RWxlbWVudEJ5SWQob3V0cHV0SWQpOwogIGNvbnN0IHN0ZXBzID0gb3V0cHV0RWxlbWVudC5zdGVwczsKCiAgY29uc3QgbmV4dCA9IHN0ZXBzLm5leHQob3V0cHV0RWxlbWVudC5sYXN0UHJvbWlzZVZhbHVlKTsKICByZXR1cm4gUHJvbWlzZS5yZXNvbHZlKG5leHQudmFsdWUucHJvbWlzZSkudGhlbigodmFsdWUpID0+IHsKICAgIC8vIENhY2hlIHRoZSBsYXN0IHByb21pc2UgdmFsdWUgdG8gbWFrZSBpdCBhdmFpbGFibGUgdG8gdGhlIG5leHQKICAgIC8vIHN0ZXAgb2YgdGhlIGdlbmVyYXRvci4KICAgIG91dHB1dEVsZW1lbnQubGFzdFByb21pc2VWYWx1ZSA9IHZhbHVlOwogICAgcmV0dXJuIG5leHQudmFsdWUucmVzcG9uc2U7CiAgfSk7Cn0KCi8qKgogKiBHZW5lcmF0b3IgZnVuY3Rpb24gd2hpY2ggaXMgY2FsbGVkIGJldHdlZW4gZWFjaCBhc3luYyBzdGVwIG9mIHRoZSB1cGxvYWQKICogcHJvY2Vzcy4KICogQHBhcmFtIHtzdHJpbmd9IGlucHV0SWQgRWxlbWVudCBJRCBvZiB0aGUgaW5wdXQgZmlsZSBwaWNrZXIgZWxlbWVudC4KICogQHBhcmFtIHtzdHJpbmd9IG91dHB1dElkIEVsZW1lbnQgSUQgb2YgdGhlIG91dHB1dCBkaXNwbGF5LgogKiBAcmV0dXJuIHshSXRlcmFibGU8IU9iamVjdD59IEl0ZXJhYmxlIG9mIG5leHQgc3RlcHMuCiAqLwpmdW5jdGlvbiogdXBsb2FkRmlsZXNTdGVwKGlucHV0SWQsIG91dHB1dElkKSB7CiAgY29uc3QgaW5wdXRFbGVtZW50ID0gZG9jdW1lbnQuZ2V0RWxlbWVudEJ5SWQoaW5wdXRJZCk7CiAgaW5wdXRFbGVtZW50LmRpc2FibGVkID0gZmFsc2U7CgogIGNvbnN0IG91dHB1dEVsZW1lbnQgPSBkb2N1bWVudC5nZXRFbGVtZW50QnlJZChvdXRwdXRJZCk7CiAgb3V0cHV0RWxlbWVudC5pbm5lckhUTUwgPSAnJzsKCiAgY29uc3QgcGlja2VkUHJvbWlzZSA9IG5ldyBQcm9taXNlKChyZXNvbHZlKSA9PiB7CiAgICBpbnB1dEVsZW1lbnQuYWRkRXZlbnRMaXN0ZW5lcignY2hhbmdlJywgKGUpID0+IHsKICAgICAgcmVzb2x2ZShlLnRhcmdldC5maWxlcyk7CiAgICB9KTsKICB9KTsKCiAgY29uc3QgY2FuY2VsID0gZG9jdW1lbnQuY3JlYXRlRWxlbWVudCgnYnV0dG9uJyk7CiAgaW5wdXRFbGVtZW50LnBhcmVudEVsZW1lbnQuYXBwZW5kQ2hpbGQoY2FuY2VsKTsKICBjYW5jZWwudGV4dENvbnRlbnQgPSAnQ2FuY2VsIHVwbG9hZCc7CiAgY29uc3QgY2FuY2VsUHJvbWlzZSA9IG5ldyBQcm9taXNlKChyZXNvbHZlKSA9PiB7CiAgICBjYW5jZWwub25jbGljayA9ICgpID0+IHsKICAgICAgcmVzb2x2ZShudWxsKTsKICAgIH07CiAgfSk7CgogIC8vIENhbmNlbCB1cGxvYWQgaWYgdXNlciBoYXNuJ3QgcGlja2VkIGFueXRoaW5nIGluIHRpbWVvdXQuCiAgY29uc3QgdGltZW91dFByb21pc2UgPSBuZXcgUHJvbWlzZSgocmVzb2x2ZSkgPT4gewogICAgc2V0VGltZW91dCgoKSA9PiB7CiAgICAgIHJlc29sdmUobnVsbCk7CiAgICB9LCBGSUxFX0NIQU5HRV9USU1FT1VUX01TKTsKICB9KTsKCiAgLy8gV2FpdCBmb3IgdGhlIHVzZXIgdG8gcGljayB0aGUgZmlsZXMuCiAgY29uc3QgZmlsZXMgPSB5aWVsZCB7CiAgICBwcm9taXNlOiBQcm9taXNlLnJhY2UoW3BpY2tlZFByb21pc2UsIHRpbWVvdXRQcm9taXNlLCBjYW5jZWxQcm9taXNlXSksCiAgICByZXNwb25zZTogewogICAgICBhY3Rpb246ICdzdGFydGluZycsCiAgICB9CiAgfTsKCiAgaWYgKCFmaWxlcykgewogICAgcmV0dXJuIHsKICAgICAgcmVzcG9uc2U6IHsKICAgICAgICBhY3Rpb246ICdjb21wbGV0ZScsCiAgICAgIH0KICAgIH07CiAgfQoKICBjYW5jZWwucmVtb3ZlKCk7CgogIC8vIERpc2FibGUgdGhlIGlucHV0IGVsZW1lbnQgc2luY2UgZnVydGhlciBwaWNrcyBhcmUgbm90IGFsbG93ZWQuCiAgaW5wdXRFbGVtZW50LmRpc2FibGVkID0gdHJ1ZTsKCiAgZm9yIChjb25zdCBmaWxlIG9mIGZpbGVzKSB7CiAgICBjb25zdCBsaSA9IGRvY3VtZW50LmNyZWF0ZUVsZW1lbnQoJ2xpJyk7CiAgICBsaS5hcHBlbmQoc3BhbihmaWxlLm5hbWUsIHtmb250V2VpZ2h0OiAnYm9sZCd9KSk7CiAgICBsaS5hcHBlbmQoc3BhbigKICAgICAgICBgKCR7ZmlsZS50eXBlIHx8ICduL2EnfSkgLSAke2ZpbGUuc2l6ZX0gYnl0ZXMsIGAgKwogICAgICAgIGBsYXN0IG1vZGlmaWVkOiAkewogICAgICAgICAgICBmaWxlLmxhc3RNb2RpZmllZERhdGUgPyBmaWxlLmxhc3RNb2RpZmllZERhdGUudG9Mb2NhbGVEYXRlU3RyaW5nKCkgOgogICAgICAgICAgICAgICAgICAgICAgICAgICAgICAgICAgICAnbi9hJ30gLSBgKSk7CiAgICBjb25zdCBwZXJjZW50ID0gc3BhbignMCUgZG9uZScpOwogICAgbGkuYXBwZW5kQ2hpbGQocGVyY2VudCk7CgogICAgb3V0cHV0RWxlbWVudC5hcHBlbmRDaGlsZChsaSk7CgogICAgY29uc3QgZmlsZURhdGFQcm9taXNlID0gbmV3IFByb21pc2UoKHJlc29sdmUpID0+IHsKICAgICAgY29uc3QgcmVhZGVyID0gbmV3IEZpbGVSZWFkZXIoKTsKICAgICAgcmVhZGVyLm9ubG9hZCA9IChlKSA9PiB7CiAgICAgICAgcmVzb2x2ZShlLnRhcmdldC5yZXN1bHQpOwogICAgICB9OwogICAgICByZWFkZXIucmVhZEFzQXJyYXlCdWZmZXIoZmlsZSk7CiAgICB9KTsKICAgIC8vIFdhaXQgZm9yIHRoZSBkYXRhIHRvIGJlIHJlYWR5LgogICAgbGV0IGZpbGVEYXRhID0geWllbGQgewogICAgICBwcm9taXNlOiBmaWxlRGF0YVByb21pc2UsCiAgICAgIHJlc3BvbnNlOiB7CiAgICAgICAgYWN0aW9uOiAnY29udGludWUnLAogICAgICB9CiAgICB9OwoKICAgIC8vIFVzZSBhIGNodW5rZWQgc2VuZGluZyB0byBhdm9pZCBtZXNzYWdlIHNpemUgbGltaXRzLiBTZWUgYi82MjExNTY2MC4KICAgIGxldCBwb3NpdGlvbiA9IDA7CiAgICB3aGlsZSAocG9zaXRpb24gPCBmaWxlRGF0YS5ieXRlTGVuZ3RoKSB7CiAgICAgIGNvbnN0IGxlbmd0aCA9IE1hdGgubWluKGZpbGVEYXRhLmJ5dGVMZW5ndGggLSBwb3NpdGlvbiwgTUFYX1BBWUxPQURfU0laRSk7CiAgICAgIGNvbnN0IGNodW5rID0gbmV3IFVpbnQ4QXJyYXkoZmlsZURhdGEsIHBvc2l0aW9uLCBsZW5ndGgpOwogICAgICBwb3NpdGlvbiArPSBsZW5ndGg7CgogICAgICBjb25zdCBiYXNlNjQgPSBidG9hKFN0cmluZy5mcm9tQ2hhckNvZGUuYXBwbHkobnVsbCwgY2h1bmspKTsKICAgICAgeWllbGQgewogICAgICAgIHJlc3BvbnNlOiB7CiAgICAgICAgICBhY3Rpb246ICdhcHBlbmQnLAogICAgICAgICAgZmlsZTogZmlsZS5uYW1lLAogICAgICAgICAgZGF0YTogYmFzZTY0LAogICAgICAgIH0sCiAgICAgIH07CiAgICAgIHBlcmNlbnQudGV4dENvbnRlbnQgPQogICAgICAgICAgYCR7TWF0aC5yb3VuZCgocG9zaXRpb24gLyBmaWxlRGF0YS5ieXRlTGVuZ3RoKSAqIDEwMCl9JSBkb25lYDsKICAgIH0KICB9CgogIC8vIEFsbCBkb25lLgogIHlpZWxkIHsKICAgIHJlc3BvbnNlOiB7CiAgICAgIGFjdGlvbjogJ2NvbXBsZXRlJywKICAgIH0KICB9Owp9CgpzY29wZS5nb29nbGUgPSBzY29wZS5nb29nbGUgfHwge307CnNjb3BlLmdvb2dsZS5jb2xhYiA9IHNjb3BlLmdvb2dsZS5jb2xhYiB8fCB7fTsKc2NvcGUuZ29vZ2xlLmNvbGFiLl9maWxlcyA9IHsKICBfdXBsb2FkRmlsZXMsCiAgX3VwbG9hZEZpbGVzQ29udGludWUsCn07Cn0pKHNlbGYpOwo=",
              "ok": true,
              "headers": [
                [
                  "content-type",
                  "application/javascript"
                ]
              ],
              "status": 200,
              "status_text": ""
            }
          },
          "base_uri": "https://localhost:8080/",
          "height": 73
        },
        "outputId": "22ca9314-7a27-43a0-ead1-2cfd2a3ec538"
      },
      "cell_type": "code",
      "source": [
        "from google.colab import files\n",
        "uploaded = files.upload()"
      ],
      "execution_count": 26,
      "outputs": [
        {
          "output_type": "display_data",
          "data": {
            "text/html": [
              "\n",
              "     <input type=\"file\" id=\"files-77636725-3527-4244-91a4-80230d549b8a\" name=\"files[]\" multiple disabled />\n",
              "     <output id=\"result-77636725-3527-4244-91a4-80230d549b8a\">\n",
              "      Upload widget is only available when the cell has been executed in the\n",
              "      current browser session. Please rerun this cell to enable.\n",
              "      </output>\n",
              "      <script src=\"/nbextensions/google.colab/files.js\"></script> "
            ],
            "text/plain": [
              "<IPython.core.display.HTML object>"
            ]
          },
          "metadata": {
            "tags": []
          }
        },
        {
          "output_type": "stream",
          "text": [
            "Saving kernel45.txt to kernel45.txt\n"
          ],
          "name": "stdout"
        }
      ]
    },
    {
      "metadata": {
        "id": "KNoVqr7ZtQC-",
        "colab_type": "code",
        "colab": {
          "base_uri": "https://localhost:8080/",
          "height": 308
        },
        "outputId": "454c2bc1-ece7-401e-8801-3a1d5b53c9dd"
      },
      "cell_type": "code",
      "source": [
        "!ls\n",
        "!mkdir 300w_samples\n",
        "!mv indoor* 300w_samples\n",
        "!ls\n",
        "!ls 300w_samples"
      ],
      "execution_count": 11,
      "outputs": [
        {
          "output_type": "stream",
          "text": [
            "300w_cropped.zip  indoor_003.pts  indoor_006.pts  indoor_009.pts\r\n",
            "indoor_001.png\t  indoor_004.png  indoor_007.png  indoor_010.png\r\n",
            "indoor_001.pts\t  indoor_004.pts  indoor_007.pts  indoor_010.pts\r\n",
            "indoor_002.png\t  indoor_005.png  indoor_008.png  sample_data\r\n",
            "indoor_002.pts\t  indoor_005.pts  indoor_008.pts\r\n",
            "indoor_003.png\t  indoor_006.png  indoor_009.png\n",
            "300w_cropped.zip  indoor_003.png  indoor_006.png  indoor_009.png\n",
            "300w_samples\t  indoor_003.pts  indoor_006.pts  indoor_009.pts\n",
            "indoor_001.png\t  indoor_004.png  indoor_007.png  indoor_010.png\n",
            "indoor_001.pts\t  indoor_004.pts  indoor_007.pts  indoor_010.pts\n",
            "indoor_002.png\t  indoor_005.png  indoor_008.png  sample_data\n",
            "indoor_002.pts\t  indoor_005.pts  indoor_008.pts\n",
            "indoor_001.png\tindoor_003.png\tindoor_005.png\tindoor_007.png\tindoor_009.png\n",
            "indoor_001.pts\tindoor_003.pts\tindoor_005.pts\tindoor_007.pts\tindoor_009.pts\n",
            "indoor_002.png\tindoor_004.png\tindoor_006.png\tindoor_008.png\tindoor_010.png\n",
            "indoor_002.pts\tindoor_004.pts\tindoor_006.pts\tindoor_008.pts\tindoor_010.pts\n"
          ],
          "name": "stdout"
        }
      ]
    },
    {
      "metadata": {
        "id": "ZfZ3ardgth4q",
        "colab_type": "code",
        "colab": {
          "base_uri": "https://localhost:8080/",
          "height": 54
        },
        "outputId": "88eea0e3-9c88-4ee0-84d9-f8be01b8f42e"
      },
      "cell_type": "code",
      "source": [
        "#!git clone https://github.com/albanie/pts_loader\n",
        "!ls pts_loader/\n",
        "!cp pts_loader/pts_loader.py .\n",
        "!ls"
      ],
      "execution_count": 19,
      "outputs": [
        {
          "output_type": "stream",
          "text": [
            "LICENSE.md  pts_loader.py  README.md  tests\n",
            "300w_cropped.zip  300w_samples\tpts_loader  pts_loader.py  sample_data\n"
          ],
          "name": "stdout"
        }
      ]
    },
    {
      "metadata": {
        "id": "MdmYfVM_sOwd",
        "colab_type": "code",
        "colab": {
          "base_uri": "https://localhost:8080/",
          "height": 35
        },
        "outputId": "43e08923-b4b3-4615-b23c-6c900c34c40a"
      },
      "cell_type": "code",
      "source": [
        "import os\n",
        "from os import listdir,makedirs\n",
        "from os.path import isfile,join\n",
        "import numpy as np\n",
        "from PIL import Image\n",
        "from matplotlib import pyplot as plt\n",
        "import tensorflow as tf\n",
        "import keras.backend as K\n",
        "import keras\n",
        "from keras.models import Sequential\n",
        "import cv2\n",
        "\n"
      ],
      "execution_count": 13,
      "outputs": [
        {
          "output_type": "stream",
          "text": [
            "Using TensorFlow backend.\n"
          ],
          "name": "stderr"
        }
      ]
    },
    {
      "metadata": {
        "id": "UEEYTE2BpZO5",
        "colab_type": "code",
        "colab": {}
      },
      "cell_type": "code",
      "source": [
        "'''\n",
        "Hyper-Parameters\n",
        "'''\n",
        "image_H = 96.0\n",
        "image_W = 96.0\n",
        "grayscale = True\n",
        "batch_size = 16\n",
        "learning_rate=0.001\n",
        "momentum = 0\n",
        "decay = 0\n",
        "epochs = 100\n",
        "droupout= 0.1\n",
        "gradient_clipping = 0.1\n",
        "nFilters = 128\n",
        "nlandmarks = nLabels = 68\n",
        "K=45\n",
        "img_rows = 96\n",
        "img_cols = 96\n",
        "img_channels = 1"
      ],
      "execution_count": 0,
      "outputs": []
    },
    {
      "metadata": {
        "id": "yv-gK_mPmEX2",
        "colab_type": "code",
        "colab": {}
      },
      "cell_type": "code",
      "source": [
        "# Get files\n",
        "import pts_loader\n",
        "\n",
        "img_x = []\n",
        "pts_y = []\n",
        "for i in range(1,10):\n",
        "    if i < 10:\n",
        "        img_f = r\"300w_samples/indoor_00\" + str(i) +\".png\"\n",
        "        pts_f = r\"300w_samples/indoor_00\" + str(i) +\".pts\"\n",
        "    elif i < 100:\n",
        "        img_f = r\"300w_samples/indoor_0\" + str(i) +\".png\"\n",
        "        pts_f = r\"300w_samples/indoor_0\" + str(i) +\".pts\"\n",
        "    else:\n",
        "        img_f = r\"300w_samples/indoor_\" + str(i) +\".png\"\n",
        "        pts_f = r\"300w_samples/indoor_\" + str(i) +\".pts\"\n",
        "    pts = pts_loader.load(pts_f)\n",
        "    # Loading imgae in grayscale\n",
        "    img = cv2.imread(img_f)\n",
        "    \n",
        "    scale_x = image_W/img.shape[0]\n",
        "    scale_y = image_H/img.shape[1]\n",
        "    img = cv2.resize(img, (img_rows, img_cols))\n",
        "    img = cv2.cvtColor(img,cv2.COLOR_BGR2GRAY)\n",
        "    img = img.reshape(img_rows, img_cols, 1)\n",
        "    landmarks = []\n",
        "    n = 0\n",
        "    for p in pts:\n",
        "        new_pts = []\n",
        "        new_pts = (p[0] * scale_y , p[1] * scale_x )\n",
        "        #new_points.append(new_pts)\n",
        "        x = int(new_pts[0])\n",
        "        y = int(new_pts[1])\n",
        "        #print(n, x, y)\n",
        "        landmarks.append(np.zeros((96, 96), np.uint8))\n",
        "        landmarks[n][x][y] = 255 #WHite\n",
        "        n = n +1\n",
        "    img_x.append(img)\n",
        "    pts_y.append(landmarks)\n"
      ],
      "execution_count": 0,
      "outputs": []
    },
    {
      "metadata": {
        "id": "T4eoPQGnmFaS",
        "colab_type": "code",
        "colab": {
          "base_uri": "https://localhost:8080/",
          "height": 35
        },
        "outputId": "ada5fcc9-0749-4df7-8880-99637eb4459b"
      },
      "cell_type": "code",
      "source": [
        "print(img_x[0].shape)\n",
        "\n",
        "train_x = []\n",
        "train_y = []\n",
        "test_x = []\n",
        "test_y = []\n"
      ],
      "execution_count": 22,
      "outputs": [
        {
          "output_type": "stream",
          "text": [
            "(96, 96, 1)\n"
          ],
          "name": "stdout"
        }
      ]
    },
    {
      "metadata": {
        "id": "cTBAQZQ9mIvC",
        "colab_type": "code",
        "colab": {}
      },
      "cell_type": "code",
      "source": [
        "train_x = np.array(img_x[:8])\n",
        "train_y = np.array(pts_y[:8])\n",
        "test_x = np.array(img_x[8:])\n",
        "test_y = np.array(pts_y[8:])\n"
      ],
      "execution_count": 0,
      "outputs": []
    },
    {
      "metadata": {
        "id": "qnEfWMt8pZPE",
        "colab_type": "code",
        "colab": {
          "base_uri": "https://localhost:8080/",
          "height": 54
        },
        "outputId": "123cfdd0-3c48-4dd0-ea44-d3bdd4b9f247"
      },
      "cell_type": "code",
      "source": [
        "print(train_y.shape)\n",
        "train_y = train_y.reshape(8, 96,96,68)\n",
        "test_y = test_y.reshape(-1, 96,96,68)\n",
        "\n",
        "#train_y = K.expand_dims(train_y, 1)\n",
        "print(train_y.shape)"
      ],
      "execution_count": 46,
      "outputs": [
        {
          "output_type": "stream",
          "text": [
            "(8, 96, 96, 68)\n",
            "(8, 96, 96, 68)\n"
          ],
          "name": "stdout"
        }
      ]
    },
    {
      "metadata": {
        "id": "3UCdR_5HpZPI",
        "colab_type": "code",
        "colab": {}
      },
      "cell_type": "code",
      "source": [
        "f = open(r'kernel45.txt')\n",
        "kernel45 = np.fromfile(f, dtype = np.float32, count = -1, sep = \" \")"
      ],
      "execution_count": 0,
      "outputs": []
    },
    {
      "metadata": {
        "id": "-Ps6ujB8_ycf",
        "colab_type": "code",
        "colab": {
          "base_uri": "https://localhost:8080/",
          "height": 2235
        },
        "outputId": "b1e9260a-1512-4a56-e208-bf0133d54b49"
      },
      "cell_type": "code",
      "source": [
        "from keras.layers import Dense, Dropout, Activation, Add\n",
        "from keras.layers import Convolution2D, Lambda, Input, Reshape\n",
        "from keras.layers.normalization import BatchNormalization\n",
        "from keras.models import Model\n",
        "\n",
        "def apply_kernel(local_out):\n",
        "    '''\n",
        "     get kernel from text file\n",
        "     tile it to 1x1x45x45\n",
        "     convolve with local out\n",
        "    '''\n",
        "    f = open(r'kernel45.txt')\n",
        "    kernel45 = np.fromfile(f, dtype = np.float32, count = -1, sep = \" \")\n",
        "    \n",
        "    # [1 x 1 x 45 x 45]\n",
        "    kernel45 = np.reshape(kernel45, (45, 45, 1, 1))\n",
        "    # [numLabels x 1 x 45 x 45] if tensor convolution is used\n",
        "    kernel_stacked \t= np.tile(kernel45, (1, 1, nLabels, 1))\n",
        "    #heatmaps = Convolution2D(local_out, kernel_stacked)\n",
        "    kernel_tensor = tf.convert_to_tensor(kernel_stacked, dtype=tf.float32)\n",
        "    print(\"local_out\", local_out)\n",
        "    print(\"kernel\", kernel_tensor)\n",
        "\n",
        "    groups = []\n",
        "    #_d = 1\n",
        "    for j in range(nLabels):\n",
        "        #group = layers.Lambda(lambda z: z[:, :, :, j * _d:j * _d + _d])(y)\n",
        "        #groups.append(layers.Conv2D(_d, kernel_size=(3, 3), strides=_strides, padding='same')(group))\n",
        "        groups.append(tf.nn.conv2d(local_out, kernel_tensor, strides=[1,1,1,1], padding=\"SAME\"))\n",
        "    \n",
        "    heatmaps = tf.concat(groups, 0)\n",
        "    heatmaps = tf.reshape(heatmaps, (-1, 96, 96, 68))\n",
        "    print(\"Heatmaps\", heatmaps)\n",
        "    return heatmaps\n",
        "\n",
        "\n",
        "'''\n",
        "LOCAL SUBNET\n",
        "'''\n",
        "\n",
        "# [ImageC x ImageH x ImageW]\n",
        "\n",
        "input_img = Input(( img_rows, img_cols, img_channels),)\n",
        "model = Convolution2D(filters=nFilters, kernel_size=(5, 5), padding='same', activation='relu')(input_img)\n",
        "model = BatchNormalization()(model)\n",
        "model = Convolution2D(filters=nFilters, kernel_size=(5, 5), padding='same', activation='relu')(model)\n",
        "model = BatchNormalization()(model)\n",
        "model = Convolution2D(filters=nFilters, kernel_size=(5, 5), padding='same', activation='relu')(model)\n",
        "model = BatchNormalization()(model)\n",
        "model = Convolution2D(filters=nFilters, kernel_size=(5, 5), padding='same', activation='relu')(model)\n",
        "model = BatchNormalization()(model)\n",
        "model = Convolution2D(filters=nFilters, kernel_size=(5, 5), padding='same', activation='relu')(model)\n",
        "model = BatchNormalization()(model)\n",
        "\n",
        "model = Convolution2D(filters=nFilters, kernel_size=(3, 3), padding='same', activation='relu')(model)\n",
        "model = BatchNormalization()(model)\n",
        "model = Convolution2D(filters=nFilters, kernel_size=(3, 3), padding='same', activation='relu')(model)\n",
        "model = BatchNormalization()(model)\n",
        "model = Convolution2D(filters=nFilters, kernel_size=(3, 3), padding='same', activation='relu')(model)\n",
        "model = BatchNormalization()(model)\n",
        "model = Convolution2D(filters=nFilters, kernel_size=(3, 3), padding='same', activation='relu')(model)\n",
        "model = BatchNormalization()(model)\n",
        "model = Convolution2D(filters=nFilters, kernel_size=(3, 3), padding='same', activation='relu')(model)\n",
        "model = BatchNormalization()(model)\n",
        "model = Convolution2D(filters=nFilters, kernel_size=(3, 3), padding='same', activation='relu')(model)\n",
        "model = BatchNormalization()(model)\n",
        "model = Convolution2D(filters=nFilters, kernel_size=(3, 3), padding='same', activation='relu')(model)\n",
        "model = BatchNormalization()(model)\n",
        "model = Convolution2D(filters=nFilters, kernel_size=(3, 3), padding='same', activation='relu')(model)\n",
        "model = BatchNormalization()(model)\n",
        "model = Convolution2D(filters=nFilters, kernel_size=(3, 3), padding='same', activation='relu')(model)\n",
        "model = BatchNormalization()(model)\n",
        "model = Convolution2D(filters=nFilters, kernel_size=(3, 3), padding='same', activation='relu')(model)\n",
        "model = BatchNormalization()(model)\n",
        "print(\"Local subnet\", model)\n",
        "'''\n",
        "1x1 Convolution with activation\n",
        "'''\n",
        "model_Conv = Convolution2D(filters=nLabels, kernel_size=(1, 1),activation='relu')(model)\n",
        "model_Conv = Lambda(apply_kernel, output_shape=(img_cols, img_rows, nLabels))(model_Conv)\n",
        "print(\"Main 1x1\", model_Conv)\n",
        "'''\n",
        "Ol 1x1 Linear convolution\n",
        "Apply Gaussian Kernel filter\n",
        "'''\n",
        "model_Ol = Convolution2D(filters=nLabels, kernel_size=(1, 1),activation=None)(model)\n",
        "# What about tiling the kernels????\n",
        "model_Ol = Lambda(apply_kernel, output_shape=(img_cols, img_rows, nLabels), name='Ol')(model_Ol)\n",
        "print(\"Local output\", model_Ol)\n",
        "\n",
        "output_Ol = keras.layers.concatenate([model_Conv, model_Ol])\n",
        "print(\"Concatenate\", output_Ol)\n",
        "output_Ol = Reshape((96, 96, -1))(output_Ol)\n",
        "#print(\"Reshape\", output_Ol)\n",
        "\n",
        "'''\n",
        "GLOBAL SUBNET\n",
        "'''\n",
        "model = Convolution2D(filters=nFilters, kernel_size=(3, 3), padding='same', dilation_rate = 4, activation='relu')(output_Ol)\n",
        "model = BatchNormalization()(model)\n",
        "model = Convolution2D(filters=nFilters, kernel_size=(3, 3), padding='same', dilation_rate = 4, activation='relu')(model)\n",
        "model = BatchNormalization()(model)\n",
        "model = Convolution2D(filters=nFilters, kernel_size=(3, 3), padding='same', dilation_rate = 4, activation='relu')(model)\n",
        "model = BatchNormalization()(model)\n",
        "model = Convolution2D(filters=nFilters, kernel_size=(3, 3), padding='same', dilation_rate = 4, activation='relu')(model)\n",
        "model = BatchNormalization()(model)\n",
        "model = Convolution2D(filters=nFilters, kernel_size=(3, 3), padding='same', dilation_rate = 4, activation='relu')(model)\n",
        "model = BatchNormalization()(model)\n",
        "model = Convolution2D(filters=nFilters, kernel_size=(3, 3), padding='same', dilation_rate = 4, activation='relu')(model)\n",
        "model = BatchNormalization()(model)\n",
        "model = Convolution2D(filters=nFilters, kernel_size=(3, 3), padding='same', dilation_rate = 4, activation='relu')(model)\n",
        "model = BatchNormalization()(model)\n",
        "model = Convolution2D(filters=nLabels, kernel_size=(1, 1), activation=None)(model)\n",
        "FLD_model = Model(inputs = input_img, outputs=model)\n",
        "FLD_model.summary()\n"
      ],
      "execution_count": 91,
      "outputs": [
        {
          "output_type": "stream",
          "text": [
            "Local subnet Tensor(\"batch_normalization_460/cond/Merge:0\", shape=(?, 96, 96, 128), dtype=float32)\n",
            "local_out Tensor(\"conv2d_522/Relu:0\", shape=(?, 96, 96, 68), dtype=float32)\n",
            "kernel Tensor(\"lambda_26/Const:0\", shape=(45, 45, 68, 1), dtype=float32)\n",
            "Heatmaps Tensor(\"lambda_26/Reshape:0\", shape=(?, 96, 96, 68), dtype=float32)\n",
            "Main 1x1 Tensor(\"lambda_26/Reshape:0\", shape=(?, 96, 96, 68), dtype=float32)\n",
            "local_out Tensor(\"conv2d_523/BiasAdd:0\", shape=(?, 96, 96, 68), dtype=float32)\n",
            "kernel Tensor(\"Ol_18/Const:0\", shape=(45, 45, 68, 1), dtype=float32)\n",
            "Heatmaps Tensor(\"Ol_18/Reshape:0\", shape=(?, 96, 96, 68), dtype=float32)\n",
            "Local output Tensor(\"Ol_18/Reshape:0\", shape=(?, 96, 96, 68), dtype=float32)\n",
            "Concatenate Tensor(\"concatenate_19/concat:0\", shape=(?, 96, 96, 136), dtype=float32)\n",
            "__________________________________________________________________________________________________\n",
            "Layer (type)                    Output Shape         Param #     Connected to                     \n",
            "==================================================================================================\n",
            "input_26 (InputLayer)           (None, 96, 96, 1)    0                                            \n",
            "__________________________________________________________________________________________________\n",
            "conv2d_507 (Conv2D)             (None, 96, 96, 128)  3328        input_26[0][0]                   \n",
            "__________________________________________________________________________________________________\n",
            "batch_normalization_446 (BatchN (None, 96, 96, 128)  512         conv2d_507[0][0]                 \n",
            "__________________________________________________________________________________________________\n",
            "conv2d_508 (Conv2D)             (None, 96, 96, 128)  409728      batch_normalization_446[0][0]    \n",
            "__________________________________________________________________________________________________\n",
            "batch_normalization_447 (BatchN (None, 96, 96, 128)  512         conv2d_508[0][0]                 \n",
            "__________________________________________________________________________________________________\n",
            "conv2d_509 (Conv2D)             (None, 96, 96, 128)  409728      batch_normalization_447[0][0]    \n",
            "__________________________________________________________________________________________________\n",
            "batch_normalization_448 (BatchN (None, 96, 96, 128)  512         conv2d_509[0][0]                 \n",
            "__________________________________________________________________________________________________\n",
            "conv2d_510 (Conv2D)             (None, 96, 96, 128)  409728      batch_normalization_448[0][0]    \n",
            "__________________________________________________________________________________________________\n",
            "batch_normalization_449 (BatchN (None, 96, 96, 128)  512         conv2d_510[0][0]                 \n",
            "__________________________________________________________________________________________________\n",
            "conv2d_511 (Conv2D)             (None, 96, 96, 128)  409728      batch_normalization_449[0][0]    \n",
            "__________________________________________________________________________________________________\n",
            "batch_normalization_450 (BatchN (None, 96, 96, 128)  512         conv2d_511[0][0]                 \n",
            "__________________________________________________________________________________________________\n",
            "conv2d_512 (Conv2D)             (None, 96, 96, 128)  147584      batch_normalization_450[0][0]    \n",
            "__________________________________________________________________________________________________\n",
            "batch_normalization_451 (BatchN (None, 96, 96, 128)  512         conv2d_512[0][0]                 \n",
            "__________________________________________________________________________________________________\n",
            "conv2d_513 (Conv2D)             (None, 96, 96, 128)  147584      batch_normalization_451[0][0]    \n",
            "__________________________________________________________________________________________________\n",
            "batch_normalization_452 (BatchN (None, 96, 96, 128)  512         conv2d_513[0][0]                 \n",
            "__________________________________________________________________________________________________\n",
            "conv2d_514 (Conv2D)             (None, 96, 96, 128)  147584      batch_normalization_452[0][0]    \n",
            "__________________________________________________________________________________________________\n",
            "batch_normalization_453 (BatchN (None, 96, 96, 128)  512         conv2d_514[0][0]                 \n",
            "__________________________________________________________________________________________________\n",
            "conv2d_515 (Conv2D)             (None, 96, 96, 128)  147584      batch_normalization_453[0][0]    \n",
            "__________________________________________________________________________________________________\n",
            "batch_normalization_454 (BatchN (None, 96, 96, 128)  512         conv2d_515[0][0]                 \n",
            "__________________________________________________________________________________________________\n",
            "conv2d_516 (Conv2D)             (None, 96, 96, 128)  147584      batch_normalization_454[0][0]    \n",
            "__________________________________________________________________________________________________\n",
            "batch_normalization_455 (BatchN (None, 96, 96, 128)  512         conv2d_516[0][0]                 \n",
            "__________________________________________________________________________________________________\n",
            "conv2d_517 (Conv2D)             (None, 96, 96, 128)  147584      batch_normalization_455[0][0]    \n",
            "__________________________________________________________________________________________________\n",
            "batch_normalization_456 (BatchN (None, 96, 96, 128)  512         conv2d_517[0][0]                 \n",
            "__________________________________________________________________________________________________\n",
            "conv2d_518 (Conv2D)             (None, 96, 96, 128)  147584      batch_normalization_456[0][0]    \n",
            "__________________________________________________________________________________________________\n",
            "batch_normalization_457 (BatchN (None, 96, 96, 128)  512         conv2d_518[0][0]                 \n",
            "__________________________________________________________________________________________________\n",
            "conv2d_519 (Conv2D)             (None, 96, 96, 128)  147584      batch_normalization_457[0][0]    \n",
            "__________________________________________________________________________________________________\n",
            "batch_normalization_458 (BatchN (None, 96, 96, 128)  512         conv2d_519[0][0]                 \n",
            "__________________________________________________________________________________________________\n",
            "conv2d_520 (Conv2D)             (None, 96, 96, 128)  147584      batch_normalization_458[0][0]    \n",
            "__________________________________________________________________________________________________\n",
            "batch_normalization_459 (BatchN (None, 96, 96, 128)  512         conv2d_520[0][0]                 \n",
            "__________________________________________________________________________________________________\n",
            "conv2d_521 (Conv2D)             (None, 96, 96, 128)  147584      batch_normalization_459[0][0]    \n",
            "__________________________________________________________________________________________________\n",
            "batch_normalization_460 (BatchN (None, 96, 96, 128)  512         conv2d_521[0][0]                 \n",
            "__________________________________________________________________________________________________\n",
            "conv2d_522 (Conv2D)             (None, 96, 96, 68)   8772        batch_normalization_460[0][0]    \n",
            "__________________________________________________________________________________________________\n",
            "conv2d_523 (Conv2D)             (None, 96, 96, 68)   8772        batch_normalization_460[0][0]    \n",
            "__________________________________________________________________________________________________\n",
            "lambda_26 (Lambda)              (None, 96, 96, 68)   0           conv2d_522[0][0]                 \n",
            "__________________________________________________________________________________________________\n",
            "Ol (Lambda)                     (None, 96, 96, 68)   0           conv2d_523[0][0]                 \n",
            "__________________________________________________________________________________________________\n",
            "concatenate_19 (Concatenate)    (None, 96, 96, 136)  0           lambda_26[0][0]                  \n",
            "                                                                 Ol[0][0]                         \n",
            "__________________________________________________________________________________________________\n",
            "reshape_12 (Reshape)            (None, 96, 96, 136)  0           concatenate_19[0][0]             \n",
            "__________________________________________________________________________________________________\n",
            "conv2d_524 (Conv2D)             (None, 96, 96, 128)  156800      reshape_12[0][0]                 \n",
            "__________________________________________________________________________________________________\n",
            "batch_normalization_461 (BatchN (None, 96, 96, 128)  512         conv2d_524[0][0]                 \n",
            "__________________________________________________________________________________________________\n",
            "conv2d_525 (Conv2D)             (None, 96, 96, 128)  147584      batch_normalization_461[0][0]    \n",
            "__________________________________________________________________________________________________\n",
            "batch_normalization_462 (BatchN (None, 96, 96, 128)  512         conv2d_525[0][0]                 \n",
            "__________________________________________________________________________________________________\n",
            "conv2d_526 (Conv2D)             (None, 96, 96, 128)  147584      batch_normalization_462[0][0]    \n",
            "__________________________________________________________________________________________________\n",
            "batch_normalization_463 (BatchN (None, 96, 96, 128)  512         conv2d_526[0][0]                 \n",
            "__________________________________________________________________________________________________\n",
            "conv2d_527 (Conv2D)             (None, 96, 96, 128)  147584      batch_normalization_463[0][0]    \n",
            "__________________________________________________________________________________________________\n",
            "batch_normalization_464 (BatchN (None, 96, 96, 128)  512         conv2d_527[0][0]                 \n",
            "__________________________________________________________________________________________________\n",
            "conv2d_528 (Conv2D)             (None, 96, 96, 128)  147584      batch_normalization_464[0][0]    \n",
            "__________________________________________________________________________________________________\n",
            "batch_normalization_465 (BatchN (None, 96, 96, 128)  512         conv2d_528[0][0]                 \n",
            "__________________________________________________________________________________________________\n",
            "conv2d_529 (Conv2D)             (None, 96, 96, 128)  147584      batch_normalization_465[0][0]    \n",
            "__________________________________________________________________________________________________\n",
            "batch_normalization_466 (BatchN (None, 96, 96, 128)  512         conv2d_529[0][0]                 \n",
            "__________________________________________________________________________________________________\n",
            "conv2d_530 (Conv2D)             (None, 96, 96, 128)  147584      batch_normalization_466[0][0]    \n",
            "__________________________________________________________________________________________________\n",
            "batch_normalization_467 (BatchN (None, 96, 96, 128)  512         conv2d_530[0][0]                 \n",
            "__________________________________________________________________________________________________\n",
            "conv2d_531 (Conv2D)             (None, 96, 96, 68)   8772        batch_normalization_467[0][0]    \n",
            "==================================================================================================\n",
            "Total params: 4,197,964\n",
            "Trainable params: 4,192,332\n",
            "Non-trainable params: 5,632\n",
            "__________________________________________________________________________________________________\n"
          ],
          "name": "stdout"
        }
      ]
    },
    {
      "metadata": {
        "id": "UJWIZPUkpZPO",
        "colab_type": "text"
      },
      "cell_type": "markdown",
      "source": [
        "* Loss Function: Weighted Square Error\n",
        "* Exclude non-labeled landmarks from the loss\n",
        "* Weight each of N landmarks depending on whether they lie within the image boundary:\n",
        "\\begin{equation*}\n",
        "wij = V (i,j) + \\frac{L(i,j)}{10} + \\frac{L(i,j)}{2N}\\sum_{k=1}^N V (i,k),       \\\\[1pt]\n",
        "\\text{    where V (i; j) and L(i; j) are indicator functions with L(i; j) = 1 iff landmark j in face i is labeled}    \\\\[1pt]\n",
        "\\text {V (i; j) = 1 iff landmark j in face i is within the image boundary, zero otherwise.    }\\\\[1pt]\n",
        "\\text{Note that L(i; j) = 0 implies V (i; j) = 0.}\\end{equation*}\n",
        "\n",
        "\\begin{equation*}\n",
        "e_i = \\sum_{n=1}^N w_{in}(((O^l_n - G_n) * K)^2 + (O^g_n - G_n * K)^2), \\\\[2pt]\n",
        "\\text{    where    } \\\\[2pt]\n",
        "O^l_n    and    O^g_n = \\text{nth channels of the local- and global context subnet outputs, respectively.} \\\\[1pt]\n",
        "\\text{K = kernel }   \\\\[1pt]\n",
        "\\text{Gn = ground truth heatmap for landmark n }   \\\\[1pt]\n",
        "\\text{For efficiency, the kernel convolution after stacking is reused for the loss}\n",
        "\\end{equation*}\n"
      ]
    },
    {
      "metadata": {
        "id": "j6zh1EuvpZPO",
        "colab_type": "code",
        "colab": {}
      },
      "cell_type": "code",
      "source": [
        "import tensorflow as tf\n",
        "from keras import backend as K\n",
        "\n",
        "def landmark_weight(labels):\n",
        "    #[numLabels x 1 x 1]\n",
        "    Win = tf.reduce_mean(labels)\n",
        "    Win = tf.multiply(Win, 0.5)\n",
        "    return Win\n",
        "\n",
        "'''\n",
        "Ol - [numLabels x ImageH x ImageW] Kernel conv already applied in Network\n",
        "Og - [numLabels x ImageH x ImageW]\n",
        "labels - Landmark coordinates [numLabels x ImageH x ImageW] without heatmaps\n",
        "'''\n",
        "def loss_function(labels, Og):#Ol, Og,labels):\n",
        "    \n",
        "    # Gn = labels x K\n",
        "    #Gn = apply_kernel(labels)\n",
        "    #Gn = labels\n",
        "\n",
        "    #Win = landmark_weight(labels)\n",
        "    print(\"---------------Loss Function----------------\")\n",
        "    print(\"Og\", Og)\n",
        "    print(\"Labels\", labels)\n",
        "    # Og - Gn\n",
        "    global_diff = tf.subtract(Og, labels)\n",
        "    global_err = tf.square(global_diff)\n",
        "    \n",
        "    # Ol - Gn\n",
        "    '''\n",
        "    Ol = FLD_model.get_layer(name='Ol')...\n",
        "    How to access intermediate layer or model from here???\n",
        "    Currently accessing since model from global...\n",
        "    \n",
        "    local_diff = tf.subtract(model_Ol, Gn)\n",
        "    local_err = tf.square(local_diff)\n",
        "    \n",
        "    comb_err = tf.add(local_err, global_err)\n",
        "    \n",
        "    wt_square_err = tf.reduce_sum(Win * comb_err)\n",
        "    return wt_square_err    \n",
        "    '''\n",
        "    return tf.square(global_err)\n",
        "    "
      ],
      "execution_count": 0,
      "outputs": []
    },
    {
      "metadata": {
        "id": "HAIDBGOxpZPR",
        "colab_type": "code",
        "colab": {
          "base_uri": "https://localhost:8080/",
          "height": 72
        },
        "outputId": "fb9d1187-0d17-409f-a28b-8481c905eb78"
      },
      "cell_type": "code",
      "source": [
        "FLD_model.compile(optimizer='sgd',\n",
        "              loss=loss_function,\n",
        "              metrics=['accuracy'])\n"
      ],
      "execution_count": 96,
      "outputs": [
        {
          "output_type": "stream",
          "text": [
            "---------------Loss Function----------------\n",
            "Og Tensor(\"conv2d_531/BiasAdd:0\", shape=(?, 96, 96, 68), dtype=float32)\n",
            "Labels Tensor(\"conv2d_531_target_1:0\", shape=(?, ?, ?, ?), dtype=float32)\n"
          ],
          "name": "stdout"
        }
      ]
    },
    {
      "metadata": {
        "id": "UU8aI0KIpZPU",
        "colab_type": "code",
        "colab": {
          "base_uri": "https://localhost:8080/",
          "height": 90
        },
        "outputId": "05c257de-fe8b-4a2c-fe8b-af1916c1b251"
      },
      "cell_type": "code",
      "source": [
        " FLD_model.fit(train_x, train_y, batch_size=8, epochs=1, validation_data=(test_x, test_y))"
      ],
      "execution_count": 97,
      "outputs": [
        {
          "output_type": "stream",
          "text": [
            "Train on 8 samples, validate on 1 samples\n",
            "Epoch 1/1\n",
            "8/8 [==============================] - 15s 2s/step - loss: 520200.6562 - acc: 0.0190 - val_loss: inf - val_acc: 1.0851e-04\n"
          ],
          "name": "stdout"
        },
        {
          "output_type": "execute_result",
          "data": {
            "text/plain": [
              "<keras.callbacks.History at 0x7f4b690dbf98>"
            ]
          },
          "metadata": {
            "tags": []
          },
          "execution_count": 97
        }
      ]
    },
    {
      "metadata": {
        "id": "dFjoZqIpQDw_",
        "colab_type": "code",
        "colab": {}
      },
      "cell_type": "code",
      "source": [
        ""
      ],
      "execution_count": 0,
      "outputs": []
    },
    {
      "metadata": {
        "id": "kz-5fE2npZPY",
        "colab_type": "code",
        "colab": {}
      },
      "cell_type": "code",
      "source": [
        "import cntk as C\n",
        "\n",
        "cntk_model = C.load_model(r\"C:\\Users\\Meers\\Documents\\Techie\\InkersIntern\\Phase2\\Merget\\Merget\\python\\output\\models\\model.21\")"
      ],
      "execution_count": 0,
      "outputs": []
    },
    {
      "metadata": {
        "id": "RNIo-g5ypZPa",
        "colab_type": "code",
        "colab": {}
      },
      "cell_type": "code",
      "source": [
        "cntk_model.parameters"
      ],
      "execution_count": 0,
      "outputs": []
    },
    {
      "metadata": {
        "id": "lgbeyzNipZPe",
        "colab_type": "code",
        "colab": {}
      },
      "cell_type": "code",
      "source": [
        "cntk_model.save(\"cntk_model.h5\")"
      ],
      "execution_count": 0,
      "outputs": []
    },
    {
      "metadata": {
        "id": "AHy42r3HpZPm",
        "colab_type": "code",
        "colab": {}
      },
      "cell_type": "code",
      "source": [
        "FLD = keras.models.load_model(r\"C:\\Users\\Meers\\Documents\\Techie\\InkersIntern\\Phase2\\FLDCode\\cntk_model.h5\")"
      ],
      "execution_count": 0,
      "outputs": []
    },
    {
      "metadata": {
        "id": "OXVjXhvRpZPq",
        "colab_type": "code",
        "colab": {}
      },
      "cell_type": "code",
      "source": [
        "import keras.backend as K\n",
        "\n",
        "#save_model_hdf5(cntk_model, 'my_model.h5')\n",
        "kerasmodel = K.functional_ops. load_model(cntk_model)"
      ],
      "execution_count": 0,
      "outputs": []
    },
    {
      "metadata": {
        "id": "l_976-PGpZPs",
        "colab_type": "code",
        "colab": {}
      },
      "cell_type": "code",
      "source": [
        "#func = cntk_model.outputs[0]\n",
        "cntk_model.save('cntk_model.onnx', format=C.ModelFormat.)"
      ],
      "execution_count": 0,
      "outputs": []
    },
    {
      "metadata": {
        "id": "D2nNnvYapZPu",
        "colab_type": "code",
        "colab": {}
      },
      "cell_type": "code",
      "source": [
        "import onnx\n",
        "onnx_model = onnx.load('cntk_model.onnx')"
      ],
      "execution_count": 0,
      "outputs": []
    },
    {
      "metadata": {
        "id": "AOpflqHQpZPw",
        "colab_type": "code",
        "colab": {}
      },
      "cell_type": "code",
      "source": [
        "from onnx_tf.backend import prepare\n",
        "tf_model = prepare(onnx_model)"
      ],
      "execution_count": 0,
      "outputs": []
    },
    {
      "metadata": {
        "id": "izqeD_E7pZPy",
        "colab_type": "code",
        "colab": {}
      },
      "cell_type": "code",
      "source": [
        ""
      ],
      "execution_count": 0,
      "outputs": []
    }
  ]
}