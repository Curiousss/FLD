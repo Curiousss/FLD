{
  "nbformat": 4,
  "nbformat_minor": 0,
  "metadata": {
    "colab": {
      "name": "FLDNetwork.ipynb",
      "version": "0.3.2",
      "provenance": [],
      "collapsed_sections": [],
      "include_colab_link": true
    },
    "kernelspec": {
      "display_name": "Python 3",
      "language": "python",
      "name": "python3"
    },
    "accelerator": "GPU"
  },
  "cells": [
    {
      "cell_type": "markdown",
      "metadata": {
        "id": "view-in-github",
        "colab_type": "text"
      },
      "source": [
        "[View in Colaboratory](https://colab.research.google.com/github/Curiousss/FLD/blob/master/FLDNetwork.ipynb)"
      ]
    },
    {
      "metadata": {
        "id": "IF7sBvHRpaQR",
        "colab_type": "code",
        "colab": {
          "base_uri": "https://localhost:8080/",
          "height": 308
        },
        "outputId": "2fb99dc8-d76e-4ccb-ce51-3b08f76143ba"
      },
      "cell_type": "code",
      "source": [
        "!wget https://ibug.doc.ic.ac.uk/download/annotations/300w_cropped.zip"
      ],
      "execution_count": 1,
      "outputs": [
        {
          "output_type": "stream",
          "text": [
            "--2018-09-02 05:49:10--  https://ibug.doc.ic.ac.uk/download/annotations/300w_cropped.zip\n",
            "Resolving ibug.doc.ic.ac.uk (ibug.doc.ic.ac.uk)... 146.169.13.66\n",
            "Connecting to ibug.doc.ic.ac.uk (ibug.doc.ic.ac.uk)|146.169.13.66|:443... connected.\n",
            "HTTP request sent, awaiting response... 301 MOVED PERMANENTLY\n",
            "Location: http://ibug.doc.ic.ac.uk/download/annotations/300w_cropped.zip/ [following]\n",
            "URL transformed to HTTPS due to an HSTS policy\n",
            "--2018-09-02 05:49:11--  https://ibug.doc.ic.ac.uk/download/annotations/300w_cropped.zip/\n",
            "Reusing existing connection to ibug.doc.ic.ac.uk:443.\n",
            "HTTP request sent, awaiting response... 200 OK\n",
            "Length: unspecified [text/html]\n",
            "Saving to: ‘300w_cropped.zip’\n",
            "\n",
            "300w_cropped.zip        [ <=>                ]   2.82K  --.-KB/s    in 0s      \n",
            "\n",
            "2018-09-02 05:49:12 (133 MB/s) - ‘300w_cropped.zip’ saved [2885]\n",
            "\n"
          ],
          "name": "stdout"
        }
      ]
    },
    {
      "metadata": {
        "id": "IaCfFxNT57y7",
        "colab_type": "code",
        "colab": {
          "base_uri": "https://localhost:8080/",
          "height": 237
        },
        "outputId": "f51f0640-ff68-47d3-8878-096a72070b09"
      },
      "cell_type": "code",
      "source": [
        "!pip install dropbox"
      ],
      "execution_count": 3,
      "outputs": [
        {
          "output_type": "stream",
          "text": [
            "Collecting dropbox\n",
            "\u001b[?25l  Downloading https://files.pythonhosted.org/packages/c0/7f/7a6e42a8cc6e6f9720f07c698184dfaca49efe9335794717b69119e2b817/dropbox-9.0.0-py3-none-any.whl (478kB)\n",
            "\u001b[K    100% |████████████████████████████████| 481kB 6.0MB/s \n",
            "\u001b[?25hRequirement already satisfied: six>=1.3.0 in /usr/local/lib/python3.6/dist-packages (from dropbox) (1.11.0)\n",
            "Requirement already satisfied: requests>=2.16.2 in /usr/local/lib/python3.6/dist-packages (from dropbox) (2.18.4)\n",
            "Requirement already satisfied: idna<2.7,>=2.5 in /usr/local/lib/python3.6/dist-packages (from requests>=2.16.2->dropbox) (2.6)\n",
            "Requirement already satisfied: urllib3<1.23,>=1.21.1 in /usr/local/lib/python3.6/dist-packages (from requests>=2.16.2->dropbox) (1.22)\n",
            "Requirement already satisfied: chardet<3.1.0,>=3.0.2 in /usr/local/lib/python3.6/dist-packages (from requests>=2.16.2->dropbox) (3.0.4)\n",
            "Requirement already satisfied: certifi>=2017.4.17 in /usr/local/lib/python3.6/dist-packages (from requests>=2.16.2->dropbox) (2018.8.24)\n",
            "Installing collected packages: dropbox\n",
            "Successfully installed dropbox-9.0.0\n"
          ],
          "name": "stdout"
        }
      ]
    },
    {
      "metadata": {
        "id": "xjRAj1MC5-no",
        "colab_type": "code",
        "colab": {}
      },
      "cell_type": "code",
      "source": [
        "import dropbox\n",
        "access_token = 'DFUYAK9nil8AAAAAAAABp2DVoVsW3ha1K5iQiYWMtjh2QMjW8v8x1BjnpgToJb7B' # https://www.dropbox.com/developers/apps\n",
        "dbx = dropbox.Dropbox(access_token)\n"
      ],
      "execution_count": 0,
      "outputs": []
    },
    {
      "metadata": {
        "id": "jiNiMC336xas",
        "colab_type": "code",
        "colab": {}
      },
      "cell_type": "code",
      "source": [
        "from dropbox.files import WriteMode\n",
        "\n",
        "md, response = dbx.files_download('/300w_cropped.zip')\n"
      ],
      "execution_count": 0,
      "outputs": []
    },
    {
      "metadata": {
        "id": "wWEFzdhd-D35",
        "colab_type": "code",
        "colab": {
          "base_uri": "https://localhost:8080/",
          "height": 474
        },
        "outputId": "54ee1242-652c-4edb-e52c-b2e6381612bb"
      },
      "cell_type": "code",
      "source": [
        "!wget https://www.dropbox.com/s/9j2om0gcv43hkz8/300w_cropped.zip"
      ],
      "execution_count": 13,
      "outputs": [
        {
          "output_type": "stream",
          "text": [
            "--2018-09-02 06:29:50--  https://www.dropbox.com/s/9j2om0gcv43hkz8/300w_cropped.zip\r\n",
            "Resolving www.dropbox.com (www.dropbox.com)... 162.125.8.1, 2620:100:601a:1::a27d:701\n",
            "Connecting to www.dropbox.com (www.dropbox.com)|162.125.8.1|:443... connected.\n",
            "HTTP request sent, awaiting response... 301 Moved Permanently\n",
            "Location: /s/raw/9j2om0gcv43hkz8/300w_cropped.zip [following]\n",
            "--2018-09-02 06:29:50--  https://www.dropbox.com/s/raw/9j2om0gcv43hkz8/300w_cropped.zip\n",
            "Reusing existing connection to www.dropbox.com:443.\n",
            "HTTP request sent, awaiting response... 302 Found\n",
            "Location: https://uc3fdefa3d8ca812b3adf2851185.dl.dropboxusercontent.com/cd/0/inline/APejq8FdpqxF8SZj49FPleXmB703ZUH8F-9anBjwoDzDiAetpbGGge8bcJs7Qd7kmOWfpMCr3AL28ohMpbwmQIGQG4qblmPdfg-EYfIUOEwtPxar8cVX45oQVK6zt5Tpu-JL7EW4wza9PjgZ4SJ3gX-AJpHy9BIkyRB2AkpYjJkGEmlSFKv3u6kqOE7JnCHTiXk/file [following]\n",
            "--2018-09-02 06:29:51--  https://uc3fdefa3d8ca812b3adf2851185.dl.dropboxusercontent.com/cd/0/inline/APejq8FdpqxF8SZj49FPleXmB703ZUH8F-9anBjwoDzDiAetpbGGge8bcJs7Qd7kmOWfpMCr3AL28ohMpbwmQIGQG4qblmPdfg-EYfIUOEwtPxar8cVX45oQVK6zt5Tpu-JL7EW4wza9PjgZ4SJ3gX-AJpHy9BIkyRB2AkpYjJkGEmlSFKv3u6kqOE7JnCHTiXk/file\n",
            "Resolving uc3fdefa3d8ca812b3adf2851185.dl.dropboxusercontent.com (uc3fdefa3d8ca812b3adf2851185.dl.dropboxusercontent.com)... 162.125.8.6, 2620:100:601a:6::a27d:706\n",
            "Connecting to uc3fdefa3d8ca812b3adf2851185.dl.dropboxusercontent.com (uc3fdefa3d8ca812b3adf2851185.dl.dropboxusercontent.com)|162.125.8.6|:443... connected.\n",
            "HTTP request sent, awaiting response... 302 FOUND\n",
            "Location: /cd/0/inline2/APdBKMEkRPMBtcFtw2d3zPSXQDzJNn4K_iXYrI1uljqJ_HKfzfXK8AXV3vEy4AWuLboi93lsdlIFzmgAmtVmIpxSiSC02nopEZu6kLAfBFPeicQpSTSRuXmGqQqL-SG8smY4aZJZPROWA7bEILOfDYN8Clnwe275kLw07q9mwjDbxlmRjtlbDcOTQgss5C0bptDZ5xtqJghWxfD3ZI4Pai-d5qqfsCcHcYW_J1a-WcZe3ukytBAipXsxtLr1WW6Uq3SSl3OPO8M5fle1H9gjCu_ReVaoF7QdIxk8Bw6pFVlJX6rp0rKaNsa1aMuI15dT6xq8xDR-F4_wPspoFyc2GZiml3mHdnRNyv8a0AKH48MxO4FnM_BEZAx_swAVh515cMmq4XA-Hbx4nu9tDGSmw-coheu6s-U_18tX5mykiMwt0Ew_5AynaszXlnOmnO34Kz0/file [following]\n",
            "--2018-09-02 06:29:51--  https://uc3fdefa3d8ca812b3adf2851185.dl.dropboxusercontent.com/cd/0/inline2/APdBKMEkRPMBtcFtw2d3zPSXQDzJNn4K_iXYrI1uljqJ_HKfzfXK8AXV3vEy4AWuLboi93lsdlIFzmgAmtVmIpxSiSC02nopEZu6kLAfBFPeicQpSTSRuXmGqQqL-SG8smY4aZJZPROWA7bEILOfDYN8Clnwe275kLw07q9mwjDbxlmRjtlbDcOTQgss5C0bptDZ5xtqJghWxfD3ZI4Pai-d5qqfsCcHcYW_J1a-WcZe3ukytBAipXsxtLr1WW6Uq3SSl3OPO8M5fle1H9gjCu_ReVaoF7QdIxk8Bw6pFVlJX6rp0rKaNsa1aMuI15dT6xq8xDR-F4_wPspoFyc2GZiml3mHdnRNyv8a0AKH48MxO4FnM_BEZAx_swAVh515cMmq4XA-Hbx4nu9tDGSmw-coheu6s-U_18tX5mykiMwt0Ew_5AynaszXlnOmnO34Kz0/file\n",
            "Reusing existing connection to uc3fdefa3d8ca812b3adf2851185.dl.dropboxusercontent.com:443.\n",
            "HTTP request sent, awaiting response... 200 OK\n",
            "Length: 250621370 (239M) [application/zip]\n",
            "Saving to: ‘300w_cropped.zip.1’\n",
            "\n",
            "300w_cropped.zip.1  100%[===================>] 239.01M  37.2MB/s    in 6.6s    \n",
            "\n",
            "2018-09-02 06:29:58 (36.4 MB/s) - ‘300w_cropped.zip.1’ saved [250621370/250621370]\n",
            "\n"
          ],
          "name": "stdout"
        }
      ]
    },
    {
      "metadata": {
        "id": "kBrIThcWqB5x",
        "colab_type": "code",
        "colab": {}
      },
      "cell_type": "code",
      "source": [
        "!ls\n",
        "!unzip 300w_cropped.zip.1\n",
        "!ls"
      ],
      "execution_count": 0,
      "outputs": []
    },
    {
      "metadata": {
        "id": "mIHW7r4A-caO",
        "colab_type": "code",
        "colab": {
          "base_uri": "https://localhost:8080/",
          "height": 54
        },
        "outputId": "7ff343ea-3e4c-4ee0-ba53-49722ea3b495"
      },
      "cell_type": "code",
      "source": [
        "!ls"
      ],
      "execution_count": 15,
      "outputs": [
        {
          "output_type": "stream",
          "text": [
            "01_Indoor   300w_cropped.zip\t300w_cropped.zip?dl=0\r\n",
            "02_Outdoor  300w_cropped.zip.1\tsample_data\r\n"
          ],
          "name": "stdout"
        }
      ]
    },
    {
      "metadata": {
        "id": "gQBUpoCcsRxO",
        "colab_type": "code",
        "colab": {
          "resources": {
            "http://localhost:8080/nbextensions/google.colab/files.js": {
              "data": "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",
              "ok": true,
              "headers": [
                [
                  "content-type",
                  "application/javascript"
                ]
              ],
              "status": 200,
              "status_text": ""
            }
          },
          "base_uri": "https://localhost:8080/",
          "height": 73
        },
        "outputId": "c0bf7871-2844-48e2-f022-92004c7a4de8"
      },
      "cell_type": "code",
      "source": [
        "from google.colab import files\n",
        "uploaded = files.upload()"
      ],
      "execution_count": 35,
      "outputs": [
        {
          "output_type": "display_data",
          "data": {
            "text/html": [
              "\n",
              "     <input type=\"file\" id=\"files-c7b0a17c-0440-4380-9383-f21cef7f9c9c\" name=\"files[]\" multiple disabled />\n",
              "     <output id=\"result-c7b0a17c-0440-4380-9383-f21cef7f9c9c\">\n",
              "      Upload widget is only available when the cell has been executed in the\n",
              "      current browser session. Please rerun this cell to enable.\n",
              "      </output>\n",
              "      <script src=\"/nbextensions/google.colab/files.js\"></script> "
            ],
            "text/plain": [
              "<IPython.core.display.HTML object>"
            ]
          },
          "metadata": {
            "tags": []
          }
        },
        {
          "output_type": "stream",
          "text": [
            "Saving kernel45.txt to kernel45.txt\n"
          ],
          "name": "stdout"
        }
      ]
    },
    {
      "metadata": {
        "id": "KNoVqr7ZtQC-",
        "colab_type": "code",
        "colab": {}
      },
      "cell_type": "code",
      "source": [
        "!ls\n",
        "!mkdir 300w_samples\n",
        "!mv indoor* 300w_samples\n",
        "!ls\n",
        "!ls 300w_samples"
      ],
      "execution_count": 0,
      "outputs": []
    },
    {
      "metadata": {
        "id": "ZfZ3ardgth4q",
        "colab_type": "code",
        "colab": {
          "base_uri": "https://localhost:8080/",
          "height": 145
        },
        "outputId": "02d1ee7b-80ea-4738-fb59-2aa49971e4b2"
      },
      "cell_type": "code",
      "source": [
        "!git clone https://github.com/albanie/pts_loader\n",
        "!ls pts_loader/\n",
        "!cp pts_loader/pts_loader.py .\n",
        "!ls"
      ],
      "execution_count": 20,
      "outputs": [
        {
          "output_type": "stream",
          "text": [
            "Cloning into 'pts_loader'...\n",
            "remote: Counting objects: 16, done.\u001b[K\n",
            "remote: Total 16 (delta 0), reused 0 (delta 0), pack-reused 16\u001b[K\n",
            "Unpacking objects: 100% (16/16), done.\n",
            "LICENSE.md  pts_loader.py  README.md  tests\n",
            "01_Indoor   300w_cropped.zip\t300w_cropped.zip?dl=0  pts_loader.py\n",
            "02_Outdoor  300w_cropped.zip.1\tpts_loader\t       sample_data\n"
          ],
          "name": "stdout"
        }
      ]
    },
    {
      "metadata": {
        "id": "aAJdiPj2_Lam",
        "colab_type": "code",
        "colab": {}
      },
      "cell_type": "code",
      "source": [
        "!ls 01_Indoor/"
      ],
      "execution_count": 0,
      "outputs": []
    },
    {
      "metadata": {
        "id": "MdmYfVM_sOwd",
        "colab_type": "code",
        "colab": {
          "base_uri": "https://localhost:8080/",
          "height": 35
        },
        "outputId": "a3c966ec-6023-4855-ee0d-43e42608a9bd"
      },
      "cell_type": "code",
      "source": [
        "import os\n",
        "from os import listdir,makedirs\n",
        "from os.path import isfile,join\n",
        "import numpy as np\n",
        "from PIL import Image\n",
        "from matplotlib import pyplot as plt\n",
        "import tensorflow as tf\n",
        "import keras.backend as K\n",
        "import keras\n",
        "from keras.models import Sequential\n",
        "import cv2\n",
        "\n",
        "from keras.layers import Dense, Dropout, Activation, Add, SeparableConv2D\n",
        "from keras.layers import Convolution2D, Lambda, Input, Reshape\n",
        "from keras.layers.normalization import BatchNormalization\n",
        "from keras.models import Model\n",
        "\n"
      ],
      "execution_count": 1,
      "outputs": [
        {
          "output_type": "stream",
          "text": [
            "Using TensorFlow backend.\n"
          ],
          "name": "stderr"
        }
      ]
    },
    {
      "metadata": {
        "id": "UEEYTE2BpZO5",
        "colab_type": "code",
        "colab": {}
      },
      "cell_type": "code",
      "source": [
        "'''\n",
        "Hyper-Parameters\n",
        "'''\n",
        "image_H = 96.0\n",
        "image_W = 96.0\n",
        "grayscale = True\n",
        "batch_size = 16\n",
        "learning_rate=0.001\n",
        "momentum = 0\n",
        "decay = 0\n",
        "epochs = 100\n",
        "droupout= 0.1\n",
        "gradient_clipping = 0.1\n",
        "nFilters = 128\n",
        "nlandmarks = nLabels = 68\n",
        "K=45\n",
        "img_rows = 96\n",
        "img_cols = 96\n",
        "img_channels = 1"
      ],
      "execution_count": 0,
      "outputs": []
    },
    {
      "metadata": {
        "id": "yv-gK_mPmEX2",
        "colab_type": "code",
        "colab": {}
      },
      "cell_type": "code",
      "source": [
        "# Get files\n",
        "import pts_loader\n",
        "\n",
        "img_x = []\n",
        "pts_y = []\n",
        "for i in range(1,300):\n",
        "    #print(\"iteration\", i)\n",
        "    if i == 78 or i == 79 or i == 266:\n",
        "      continue\n",
        "    if i < 10:\n",
        "        img_f = r\"01_Indoor/indoor_00\" + str(i) +\".png\"\n",
        "        pts_f = r\"01_Indoor/indoor_00\" + str(i) +\".pts\"\n",
        "    elif i < 100:\n",
        "        img_f = r\"01_Indoor/indoor_0\" + str(i) +\".png\"\n",
        "        pts_f = r\"01_Indoor/indoor_0\" + str(i) +\".pts\"\n",
        "    else:\n",
        "        img_f = r\"01_Indoor/indoor_\" + str(i) +\".png\"\n",
        "        pts_f = r\"01_Indoor/indoor_\" + str(i) +\".pts\"\n",
        "    pts = pts_loader.load(pts_f)\n",
        "    # Loading imgae in grayscale\n",
        "    img = cv2.imread(img_f)\n",
        "    \n",
        "    scale_x = image_W/img.shape[0]\n",
        "    scale_y = image_H/img.shape[1]\n",
        "    img = cv2.resize(img, (img_rows, img_cols))\n",
        "    img = cv2.cvtColor(img,cv2.COLOR_BGR2GRAY)\n",
        "    img = cv2.normalize(img,None,0,255,cv2.NORM_MINMAX)\n",
        "    img = img.reshape(img_rows, img_cols, 1)\n",
        "    landmarks = []\n",
        "    \n",
        "    for p in pts:\n",
        "        new_pts = []\n",
        "        landmark = np.zeros((96, 96), np.uint8)\n",
        "        new_pts = (p[0] * scale_y , p[1] * scale_x )\n",
        "        #new_points.append(new_pts)\n",
        "        x = int(new_pts[0])\n",
        "        y = int(new_pts[1])\n",
        "        #print(n, x, y)\n",
        "        landmark[x][y] = 1 # Normalized WHite\n",
        "        landmarks.append(landmark)\n",
        "        \n",
        "    img_x.append(img)\n",
        "    pts_y.append(landmarks)\n"
      ],
      "execution_count": 0,
      "outputs": []
    },
    {
      "metadata": {
        "id": "q9MBZrDGRpoY",
        "colab_type": "code",
        "colab": {}
      },
      "cell_type": "code",
      "source": [
        "#Gn = apply_kernel(pts_y)"
      ],
      "execution_count": 0,
      "outputs": []
    },
    {
      "metadata": {
        "id": "T4eoPQGnmFaS",
        "colab_type": "code",
        "colab": {
          "base_uri": "https://localhost:8080/",
          "height": 35
        },
        "outputId": "d9182fe7-3a10-4949-dd36-b3b7926ade8d"
      },
      "cell_type": "code",
      "source": [
        "print(img_x[0].shape)\n",
        "assert not np.any(np.isnan(img_x))\n",
        "assert not np.any(np.isnan(pts_y))\n",
        "train_x = []\n",
        "train_y = []\n",
        "test_x = []\n",
        "test_y = []\n"
      ],
      "execution_count": 4,
      "outputs": [
        {
          "output_type": "stream",
          "text": [
            "(96, 96, 1)\n"
          ],
          "name": "stdout"
        }
      ]
    },
    {
      "metadata": {
        "id": "cTBAQZQ9mIvC",
        "colab_type": "code",
        "colab": {}
      },
      "cell_type": "code",
      "source": [
        "train_x = np.array(img_x[:200])\n",
        "train_y = np.array(pts_y[:200])\n",
        "test_x = np.array(img_x[200:])\n",
        "test_y = np.array(pts_y[200:])\n"
      ],
      "execution_count": 0,
      "outputs": []
    },
    {
      "metadata": {
        "id": "qnEfWMt8pZPE",
        "colab_type": "code",
        "colab": {
          "base_uri": "https://localhost:8080/",
          "height": 54
        },
        "outputId": "b8e188c4-2f85-49c9-f8aa-6203fb07cd49"
      },
      "cell_type": "code",
      "source": [
        "print(train_y.shape)\n",
        "train_y = train_y.reshape(-1, 96,96,68)\n",
        "test_y = test_y.reshape(-1, 96,96,68)\n",
        "\n",
        "print(train_y.shape)"
      ],
      "execution_count": 6,
      "outputs": [
        {
          "output_type": "stream",
          "text": [
            "(200, 68, 96, 96)\n",
            "(200, 96, 96, 68)\n"
          ],
          "name": "stdout"
        }
      ]
    },
    {
      "metadata": {
        "id": "3UCdR_5HpZPI",
        "colab_type": "code",
        "colab": {}
      },
      "cell_type": "code",
      "source": [
        "def apply_kernel(local_out):\n",
        "    '''\n",
        "     get kernel from text file\n",
        "     tile it to 1x1x45x45\n",
        "     convolve with local out\n",
        "    '''\n",
        "    f = open(r'kernel45.txt')\n",
        "    kernel45 = np.fromfile(f, dtype = np.float32, count = -1, sep = \" \")\n",
        "    \n",
        "    # [1 x 1 x 45 x 45]\n",
        "    kernel45 = np.reshape(kernel45, (45, 45, 1, 1))\n",
        "    # [numLabels x 1 x 45 x 45] if tensor convolution is used\n",
        "    kernel_stacked \t= np.tile(kernel45, (1, 1, nLabels, 1))\n",
        "    kernel_tensor = tf.convert_to_tensor(kernel_stacked, dtype=tf.float32)\n",
        "    print(\"local_out\", local_out)\n",
        "    print(\"kernel\", kernel_tensor)\n",
        "\n",
        "    groups = []\n",
        "    \n",
        "    for j in range(nLabels):\n",
        "        groups.append(tf.nn.conv2d(local_out, kernel_tensor, strides=[1,1,1,1],\n",
        "                                   padding=\"SAME\"))\n",
        "    \n",
        "    heatmaps = tf.concat(groups, 0)\n",
        "    heatmaps = tf.reshape(heatmaps, (-1, 96, 96, 68))\n",
        "    print(\"Heatmaps\", heatmaps)\n",
        "    return heatmaps\n",
        "\n"
      ],
      "execution_count": 0,
      "outputs": []
    },
    {
      "metadata": {
        "id": "-Ps6ujB8_ycf",
        "colab_type": "code",
        "colab": {
          "base_uri": "https://localhost:8080/",
          "height": 2235
        },
        "outputId": "b668d8c9-b7b0-4b17-daf2-3663aa40201c"
      },
      "cell_type": "code",
      "source": [
        "\n",
        "'''\n",
        "LOCAL SUBNET\n",
        "'''\n",
        "\n",
        "# [ImageC x ImageH x ImageW]\n",
        "\n",
        "input_img = Input(( img_rows, img_cols, img_channels))\n",
        "model = SeparableConv2D(filters=nFilters, kernel_size=(5, 5), padding='same', activation='relu')(input_img)\n",
        "model = BatchNormalization()(model)\n",
        "model = SeparableConv2D(filters=nFilters, kernel_size=(5, 5), padding='same', activation='relu')(model)\n",
        "model = BatchNormalization()(model)\n",
        "model = SeparableConv2D(filters=nFilters, kernel_size=(5, 5), padding='same', activation='relu')(model)\n",
        "model = BatchNormalization()(model)\n",
        "model = SeparableConv2D(filters=nFilters, kernel_size=(5, 5), padding='same', activation='relu')(model)\n",
        "model = BatchNormalization()(model)\n",
        "model = SeparableConv2D(filters=nFilters, kernel_size=(5, 5), padding='same', activation='relu')(model)\n",
        "model = BatchNormalization()(model)\n",
        "\n",
        "model = SeparableConv2D(filters=nFilters, kernel_size=(3, 3), padding='same', activation='relu')(model)\n",
        "model = BatchNormalization()(model)\n",
        "model = SeparableConv2D(filters=nFilters, kernel_size=(3, 3), padding='same', activation='relu')(model)\n",
        "model = BatchNormalization()(model)\n",
        "model = SeparableConv2D(filters=nFilters, kernel_size=(3, 3), padding='same', activation='relu')(model)\n",
        "model = BatchNormalization()(model)\n",
        "model = SeparableConv2D(filters=nFilters, kernel_size=(3, 3), padding='same', activation='relu')(model)\n",
        "model = BatchNormalization()(model)\n",
        "model = SeparableConv2D(filters=nFilters, kernel_size=(3, 3), padding='same', activation='relu')(model)\n",
        "model = BatchNormalization()(model)\n",
        "model = SeparableConv2D(filters=nFilters, kernel_size=(3, 3), padding='same', activation='relu')(model)\n",
        "model = BatchNormalization()(model)\n",
        "model = SeparableConv2D(filters=nFilters, kernel_size=(3, 3), padding='same', activation='relu')(model)\n",
        "model = BatchNormalization()(model)\n",
        "model = SeparableConv2D(filters=nFilters, kernel_size=(3, 3), padding='same', activation='relu')(model)\n",
        "model = BatchNormalization()(model)\n",
        "model = SeparableConv2D(filters=nFilters, kernel_size=(3, 3), padding='same', activation='relu')(model)\n",
        "model = BatchNormalization()(model)\n",
        "model = SeparableConv2D(filters=nFilters, kernel_size=(3, 3), padding='same', activation='relu')(model)\n",
        "model = BatchNormalization()(model)\n",
        "print(\"Local subnet\", model)\n",
        "'''\n",
        "1x1 Convolution with activation\n",
        "'''\n",
        "model_Conv = Convolution2D(filters=nLabels, kernel_size=(1, 1),activation='relu')(model)\n",
        "model_Conv = Lambda(apply_kernel, output_shape=(img_cols, img_rows, nLabels))(model_Conv)\n",
        "print(\"Main 1x1\", model_Conv)\n",
        "'''\n",
        "Ol 1x1 Linear convolution\n",
        "Apply Gaussian Kernel filter\n",
        "'''\n",
        "model_Ol = Convolution2D(filters=nLabels, kernel_size=(1, 1),activation=None)(model)\n",
        "model_Ol = Lambda(apply_kernel, output_shape=(img_cols, img_rows, nLabels), name='Ol')(model_Ol)\n",
        "print(\"Local output\", model_Ol)\n",
        "\n",
        "output_Ol = keras.layers.concatenate([model_Conv, model_Ol])\n",
        "print(\"Concatenate\", output_Ol)\n",
        "output_Ol = Reshape((96, 96, -1))(output_Ol)\n",
        "#print(\"Reshape\", output_Ol)\n",
        "\n",
        "'''\n",
        "GLOBAL SUBNET\n",
        "'''\n",
        "model = SeparableConv2D(filters=nFilters, kernel_size=(3, 3), padding='same', dilation_rate = 4, activation='relu')(output_Ol)\n",
        "model = BatchNormalization()(model)\n",
        "model = SeparableConv2D(filters=nFilters, kernel_size=(3, 3), padding='same', dilation_rate = 4, activation='relu')(model)\n",
        "model = BatchNormalization()(model)\n",
        "model = SeparableConv2D(filters=nFilters, kernel_size=(3, 3), padding='same', dilation_rate = 4, activation='relu')(model)\n",
        "model = BatchNormalization()(model)\n",
        "model = SeparableConv2D(filters=nFilters, kernel_size=(3, 3), padding='same', dilation_rate = 4, activation='relu')(model)\n",
        "model = BatchNormalization()(model)\n",
        "model = SeparableConv2D(filters=nFilters, kernel_size=(3, 3), padding='same', dilation_rate = 4, activation='relu')(model)\n",
        "model = BatchNormalization()(model)\n",
        "model = SeparableConv2D(filters=nFilters, kernel_size=(3, 3), padding='same', dilation_rate = 4, activation='relu')(model)\n",
        "model = BatchNormalization()(model)\n",
        "model = SeparableConv2D(filters=nFilters, kernel_size=(3, 3), padding='same', dilation_rate = 4, activation='relu')(model)\n",
        "model = BatchNormalization()(model)\n",
        "\n",
        "model = SeparableConv2D(filters=nLabels, kernel_size=(1, 1), activation=None)(model)\n",
        "\n",
        "FLD_model = Model(inputs = input_img, outputs=model)\n",
        "FLD_model.summary()\n"
      ],
      "execution_count": 8,
      "outputs": [
        {
          "output_type": "stream",
          "text": [
            "Local subnet Tensor(\"batch_normalization_15/cond/Merge:0\", shape=(?, 96, 96, 128), dtype=float32)\n",
            "local_out Tensor(\"conv2d_1/Relu:0\", shape=(?, 96, 96, 68), dtype=float32)\n",
            "kernel Tensor(\"lambda_1/Const:0\", shape=(45, 45, 68, 1), dtype=float32)\n",
            "Heatmaps Tensor(\"lambda_1/Reshape:0\", shape=(?, 96, 96, 68), dtype=float32)\n",
            "Main 1x1 Tensor(\"lambda_1/Reshape:0\", shape=(?, 96, 96, 68), dtype=float32)\n",
            "local_out Tensor(\"conv2d_2/BiasAdd:0\", shape=(?, 96, 96, 68), dtype=float32)\n",
            "kernel Tensor(\"Ol/Const:0\", shape=(45, 45, 68, 1), dtype=float32)\n",
            "Heatmaps Tensor(\"Ol/Reshape:0\", shape=(?, 96, 96, 68), dtype=float32)\n",
            "Local output Tensor(\"Ol/Reshape:0\", shape=(?, 96, 96, 68), dtype=float32)\n",
            "Concatenate Tensor(\"concatenate_1/concat:0\", shape=(?, 96, 96, 136), dtype=float32)\n",
            "__________________________________________________________________________________________________\n",
            "Layer (type)                    Output Shape         Param #     Connected to                     \n",
            "==================================================================================================\n",
            "input_1 (InputLayer)            (None, 96, 96, 1)    0                                            \n",
            "__________________________________________________________________________________________________\n",
            "separable_conv2d_1 (SeparableCo (None, 96, 96, 128)  281         input_1[0][0]                    \n",
            "__________________________________________________________________________________________________\n",
            "batch_normalization_1 (BatchNor (None, 96, 96, 128)  512         separable_conv2d_1[0][0]         \n",
            "__________________________________________________________________________________________________\n",
            "separable_conv2d_2 (SeparableCo (None, 96, 96, 128)  19712       batch_normalization_1[0][0]      \n",
            "__________________________________________________________________________________________________\n",
            "batch_normalization_2 (BatchNor (None, 96, 96, 128)  512         separable_conv2d_2[0][0]         \n",
            "__________________________________________________________________________________________________\n",
            "separable_conv2d_3 (SeparableCo (None, 96, 96, 128)  19712       batch_normalization_2[0][0]      \n",
            "__________________________________________________________________________________________________\n",
            "batch_normalization_3 (BatchNor (None, 96, 96, 128)  512         separable_conv2d_3[0][0]         \n",
            "__________________________________________________________________________________________________\n",
            "separable_conv2d_4 (SeparableCo (None, 96, 96, 128)  19712       batch_normalization_3[0][0]      \n",
            "__________________________________________________________________________________________________\n",
            "batch_normalization_4 (BatchNor (None, 96, 96, 128)  512         separable_conv2d_4[0][0]         \n",
            "__________________________________________________________________________________________________\n",
            "separable_conv2d_5 (SeparableCo (None, 96, 96, 128)  19712       batch_normalization_4[0][0]      \n",
            "__________________________________________________________________________________________________\n",
            "batch_normalization_5 (BatchNor (None, 96, 96, 128)  512         separable_conv2d_5[0][0]         \n",
            "__________________________________________________________________________________________________\n",
            "separable_conv2d_6 (SeparableCo (None, 96, 96, 128)  17664       batch_normalization_5[0][0]      \n",
            "__________________________________________________________________________________________________\n",
            "batch_normalization_6 (BatchNor (None, 96, 96, 128)  512         separable_conv2d_6[0][0]         \n",
            "__________________________________________________________________________________________________\n",
            "separable_conv2d_7 (SeparableCo (None, 96, 96, 128)  17664       batch_normalization_6[0][0]      \n",
            "__________________________________________________________________________________________________\n",
            "batch_normalization_7 (BatchNor (None, 96, 96, 128)  512         separable_conv2d_7[0][0]         \n",
            "__________________________________________________________________________________________________\n",
            "separable_conv2d_8 (SeparableCo (None, 96, 96, 128)  17664       batch_normalization_7[0][0]      \n",
            "__________________________________________________________________________________________________\n",
            "batch_normalization_8 (BatchNor (None, 96, 96, 128)  512         separable_conv2d_8[0][0]         \n",
            "__________________________________________________________________________________________________\n",
            "separable_conv2d_9 (SeparableCo (None, 96, 96, 128)  17664       batch_normalization_8[0][0]      \n",
            "__________________________________________________________________________________________________\n",
            "batch_normalization_9 (BatchNor (None, 96, 96, 128)  512         separable_conv2d_9[0][0]         \n",
            "__________________________________________________________________________________________________\n",
            "separable_conv2d_10 (SeparableC (None, 96, 96, 128)  17664       batch_normalization_9[0][0]      \n",
            "__________________________________________________________________________________________________\n",
            "batch_normalization_10 (BatchNo (None, 96, 96, 128)  512         separable_conv2d_10[0][0]        \n",
            "__________________________________________________________________________________________________\n",
            "separable_conv2d_11 (SeparableC (None, 96, 96, 128)  17664       batch_normalization_10[0][0]     \n",
            "__________________________________________________________________________________________________\n",
            "batch_normalization_11 (BatchNo (None, 96, 96, 128)  512         separable_conv2d_11[0][0]        \n",
            "__________________________________________________________________________________________________\n",
            "separable_conv2d_12 (SeparableC (None, 96, 96, 128)  17664       batch_normalization_11[0][0]     \n",
            "__________________________________________________________________________________________________\n",
            "batch_normalization_12 (BatchNo (None, 96, 96, 128)  512         separable_conv2d_12[0][0]        \n",
            "__________________________________________________________________________________________________\n",
            "separable_conv2d_13 (SeparableC (None, 96, 96, 128)  17664       batch_normalization_12[0][0]     \n",
            "__________________________________________________________________________________________________\n",
            "batch_normalization_13 (BatchNo (None, 96, 96, 128)  512         separable_conv2d_13[0][0]        \n",
            "__________________________________________________________________________________________________\n",
            "separable_conv2d_14 (SeparableC (None, 96, 96, 128)  17664       batch_normalization_13[0][0]     \n",
            "__________________________________________________________________________________________________\n",
            "batch_normalization_14 (BatchNo (None, 96, 96, 128)  512         separable_conv2d_14[0][0]        \n",
            "__________________________________________________________________________________________________\n",
            "separable_conv2d_15 (SeparableC (None, 96, 96, 128)  17664       batch_normalization_14[0][0]     \n",
            "__________________________________________________________________________________________________\n",
            "batch_normalization_15 (BatchNo (None, 96, 96, 128)  512         separable_conv2d_15[0][0]        \n",
            "__________________________________________________________________________________________________\n",
            "conv2d_1 (Conv2D)               (None, 96, 96, 68)   8772        batch_normalization_15[0][0]     \n",
            "__________________________________________________________________________________________________\n",
            "conv2d_2 (Conv2D)               (None, 96, 96, 68)   8772        batch_normalization_15[0][0]     \n",
            "__________________________________________________________________________________________________\n",
            "lambda_1 (Lambda)               (None, 96, 96, 68)   0           conv2d_1[0][0]                   \n",
            "__________________________________________________________________________________________________\n",
            "Ol (Lambda)                     (None, 96, 96, 68)   0           conv2d_2[0][0]                   \n",
            "__________________________________________________________________________________________________\n",
            "concatenate_1 (Concatenate)     (None, 96, 96, 136)  0           lambda_1[0][0]                   \n",
            "                                                                 Ol[0][0]                         \n",
            "__________________________________________________________________________________________________\n",
            "reshape_1 (Reshape)             (None, 96, 96, 136)  0           concatenate_1[0][0]              \n",
            "__________________________________________________________________________________________________\n",
            "separable_conv2d_16 (SeparableC (None, 96, 96, 128)  18760       reshape_1[0][0]                  \n",
            "__________________________________________________________________________________________________\n",
            "batch_normalization_16 (BatchNo (None, 96, 96, 128)  512         separable_conv2d_16[0][0]        \n",
            "__________________________________________________________________________________________________\n",
            "separable_conv2d_17 (SeparableC (None, 96, 96, 128)  17664       batch_normalization_16[0][0]     \n",
            "__________________________________________________________________________________________________\n",
            "batch_normalization_17 (BatchNo (None, 96, 96, 128)  512         separable_conv2d_17[0][0]        \n",
            "__________________________________________________________________________________________________\n",
            "separable_conv2d_18 (SeparableC (None, 96, 96, 128)  17664       batch_normalization_17[0][0]     \n",
            "__________________________________________________________________________________________________\n",
            "batch_normalization_18 (BatchNo (None, 96, 96, 128)  512         separable_conv2d_18[0][0]        \n",
            "__________________________________________________________________________________________________\n",
            "separable_conv2d_19 (SeparableC (None, 96, 96, 128)  17664       batch_normalization_18[0][0]     \n",
            "__________________________________________________________________________________________________\n",
            "batch_normalization_19 (BatchNo (None, 96, 96, 128)  512         separable_conv2d_19[0][0]        \n",
            "__________________________________________________________________________________________________\n",
            "separable_conv2d_20 (SeparableC (None, 96, 96, 128)  17664       batch_normalization_19[0][0]     \n",
            "__________________________________________________________________________________________________\n",
            "batch_normalization_20 (BatchNo (None, 96, 96, 128)  512         separable_conv2d_20[0][0]        \n",
            "__________________________________________________________________________________________________\n",
            "separable_conv2d_21 (SeparableC (None, 96, 96, 128)  17664       batch_normalization_20[0][0]     \n",
            "__________________________________________________________________________________________________\n",
            "batch_normalization_21 (BatchNo (None, 96, 96, 128)  512         separable_conv2d_21[0][0]        \n",
            "__________________________________________________________________________________________________\n",
            "separable_conv2d_22 (SeparableC (None, 96, 96, 128)  17664       batch_normalization_21[0][0]     \n",
            "__________________________________________________________________________________________________\n",
            "batch_normalization_22 (BatchNo (None, 96, 96, 128)  512         separable_conv2d_22[0][0]        \n",
            "__________________________________________________________________________________________________\n",
            "separable_conv2d_23 (SeparableC (None, 96, 96, 68)   8900        batch_normalization_22[0][0]     \n",
            "==================================================================================================\n",
            "Total params: 418,221\n",
            "Trainable params: 412,589\n",
            "Non-trainable params: 5,632\n",
            "__________________________________________________________________________________________________\n"
          ],
          "name": "stdout"
        }
      ]
    },
    {
      "metadata": {
        "id": "UJWIZPUkpZPO",
        "colab_type": "text"
      },
      "cell_type": "markdown",
      "source": [
        "* Loss Function: Weighted Square Error\n",
        "* Exclude non-labeled landmarks from the loss\n",
        "* Weight each of N landmarks depending on whether they lie within the image boundary:\n",
        "\\begin{equation*}\n",
        "wij = V (i,j) + \\frac{L(i,j)}{10} + \\frac{L(i,j)}{2N}\\sum_{k=1}^N V (i,k),       \\\\[1pt]\n",
        "\\text{    where V (i; j) and L(i; j) are indicator functions with L(i; j) = 1 iff landmark j in face i is labeled}    \\\\[1pt]\n",
        "\\text {V (i; j) = 1 iff landmark j in face i is within the image boundary, zero otherwise.    }\\\\[1pt]\n",
        "\\text{Note that L(i; j) = 0 implies V (i; j) = 0.}\\end{equation*}\n",
        "\n",
        "\\begin{equation*}\n",
        "e_i = \\sum_{n=1}^N w_{in}(((O^l_n - G_n) * K)^2 + (O^g_n - G_n * K)^2), \\\\[2pt]\n",
        "\\text{    where    } \\\\[2pt]\n",
        "O^l_n    and    O^g_n = \\text{nth channels of the local- and global context subnet outputs, respectively.} \\\\[1pt]\n",
        "\\text{K = kernel }   \\\\[1pt]\n",
        "\\text{Gn = ground truth heatmap for landmark n }   \\\\[1pt]\n",
        "\\text{For efficiency, the kernel convolution after stacking is reused for the loss}\n",
        "\\end{equation*}\n"
      ]
    },
    {
      "metadata": {
        "id": "j6zh1EuvpZPO",
        "colab_type": "code",
        "colab": {}
      },
      "cell_type": "code",
      "source": [
        "import tensorflow as tf\n",
        "from keras import backend as K\n",
        "\n",
        "def landmark_weight(labels):\n",
        "    # INCOMPLETE\n",
        "    #[numLabels x 1 x 1]\n",
        "    Win = tf.reduce_mean(labels)\n",
        "    Win = tf.multiply(Win, 0.5)\n",
        "    return Win\n",
        "\n",
        "'''\n",
        "Ol - [numLabels x ImageH x ImageW] Kernel conv already applied in Network\n",
        "Og - [numLabels x ImageH x ImageW]\n",
        "labels - Landmark coordinates [numLabels x ImageH x ImageW] without\n",
        "kernel applied\n",
        "'''\n",
        "def loss_function(labels, Og):\n",
        "    \n",
        "    #Gn = labels #testing\n",
        "    Gn = apply_kernel(labels)\n",
        "\n",
        "    #Win = landmark_weight(labels)\n",
        "    print(\"---------------Loss Function----------------\")\n",
        "    print(\"Og\", Og)\n",
        "    print(\"Labels\", labels)\n",
        "    print(\"Ground Truth\", Gn)\n",
        "    print(\"Ol\", model_Ol)\n",
        "    # (Og - Gn)2\n",
        "    global_diff = tf.subtract(Og, Gn)\n",
        "    global_err = tf.square(global_diff)\n",
        "    \n",
        "    # (Ol - Gn)2\n",
        "    \n",
        "    #How to access intermediate layer or model from here???\n",
        "    #Currently using global variable model_Ol\n",
        "    \n",
        "    # Kernel is already applied for model_Ol\n",
        "    local_diff = tf.subtract(model_Ol, Gn)\n",
        "    local_err = tf.square(local_diff)\n",
        "    \n",
        "    comb_err = tf.add(local_err, global_err)\n",
        "    \n",
        "    wt_square_err = tf.reduce_sum(comb_err)\n",
        "    print(\"Loss\", wt_square_err)\n",
        "    return wt_square_err    \n",
        "    #return tf.reduce_sum(global_err) #testing\n"
      ],
      "execution_count": 0,
      "outputs": []
    },
    {
      "metadata": {
        "id": "HAIDBGOxpZPR",
        "colab_type": "code",
        "colab": {
          "base_uri": "https://localhost:8080/",
          "height": 181
        },
        "outputId": "0f771b07-e477-465b-a119-4f48c14c04ac"
      },
      "cell_type": "code",
      "source": [
        "FLD_model.compile(optimizer='sgd',\n",
        "              loss=loss_function,\n",
        "              metrics=['accuracy'])\n"
      ],
      "execution_count": 10,
      "outputs": [
        {
          "output_type": "stream",
          "text": [
            "local_out Tensor(\"separable_conv2d_23_target:0\", shape=(?, ?, ?, ?), dtype=float32)\n",
            "kernel Tensor(\"loss/separable_conv2d_23_loss/Const:0\", shape=(45, 45, 68, 1), dtype=float32)\n",
            "Heatmaps Tensor(\"loss/separable_conv2d_23_loss/Reshape:0\", shape=(?, 96, 96, 68), dtype=float32)\n",
            "---------------Loss Function----------------\n",
            "Og Tensor(\"separable_conv2d_23/BiasAdd:0\", shape=(?, 96, 96, 68), dtype=float32)\n",
            "Labels Tensor(\"separable_conv2d_23_target:0\", shape=(?, ?, ?, ?), dtype=float32)\n",
            "Ground Truth Tensor(\"loss/separable_conv2d_23_loss/Reshape:0\", shape=(?, 96, 96, 68), dtype=float32)\n",
            "Ol Tensor(\"Ol/Reshape:0\", shape=(?, 96, 96, 68), dtype=float32)\n",
            "Loss Tensor(\"loss/separable_conv2d_23_loss/Sum:0\", shape=(), dtype=float32)\n"
          ],
          "name": "stdout"
        }
      ]
    },
    {
      "metadata": {
        "id": "UU8aI0KIpZPU",
        "colab_type": "code",
        "colab": {
          "base_uri": "https://localhost:8080/",
          "height": 417
        },
        "outputId": "495fd915-1571-454d-aa84-2654a83cf381"
      },
      "cell_type": "code",
      "source": [
        " FLD_model.fit(train_x, train_y, batch_size=16, epochs=10, validation_data=(test_x, test_y))"
      ],
      "execution_count": 11,
      "outputs": [
        {
          "output_type": "stream",
          "text": [
            "Train on 200 samples, validate on 96 samples\n",
            "Epoch 1/10\n",
            "200/200 [==============================] - 67s 337ms/step - loss: nan - acc: 0.8345 - val_loss: nan - val_acc: 0.9927\n",
            "Epoch 2/10\n",
            "200/200 [==============================] - 55s 275ms/step - loss: nan - acc: 0.9927 - val_loss: nan - val_acc: 0.9927\n",
            "Epoch 3/10\n",
            "200/200 [==============================] - 55s 274ms/step - loss: nan - acc: 0.9927 - val_loss: nan - val_acc: 0.9927\n",
            "Epoch 4/10\n",
            "200/200 [==============================] - 55s 275ms/step - loss: nan - acc: 0.9927 - val_loss: nan - val_acc: 0.9927\n",
            "Epoch 5/10\n",
            "200/200 [==============================] - 55s 274ms/step - loss: nan - acc: 0.9927 - val_loss: nan - val_acc: 0.9927\n",
            "Epoch 6/10\n",
            "200/200 [==============================] - 55s 274ms/step - loss: nan - acc: 0.9927 - val_loss: nan - val_acc: 0.9927\n",
            "Epoch 7/10\n",
            "200/200 [==============================] - 55s 274ms/step - loss: nan - acc: 0.9927 - val_loss: nan - val_acc: 0.9927\n",
            "Epoch 8/10\n",
            "200/200 [==============================] - 55s 273ms/step - loss: nan - acc: 0.9927 - val_loss: nan - val_acc: 0.9927\n",
            "Epoch 9/10\n",
            "200/200 [==============================] - 55s 274ms/step - loss: nan - acc: 0.9927 - val_loss: nan - val_acc: 0.9927\n",
            "Epoch 10/10\n",
            "200/200 [==============================] - 55s 274ms/step - loss: nan - acc: 0.9927 - val_loss: nan - val_acc: 0.9927\n"
          ],
          "name": "stdout"
        },
        {
          "output_type": "execute_result",
          "data": {
            "text/plain": [
              "<keras.callbacks.History at 0x7f544c3907f0>"
            ]
          },
          "metadata": {
            "tags": []
          },
          "execution_count": 11
        }
      ]
    },
    {
      "metadata": {
        "id": "dFjoZqIpQDw_",
        "colab_type": "code",
        "colab": {}
      },
      "cell_type": "code",
      "source": [
        ""
      ],
      "execution_count": 0,
      "outputs": []
    },
    {
      "metadata": {
        "id": "kz-5fE2npZPY",
        "colab_type": "code",
        "colab": {}
      },
      "cell_type": "code",
      "source": [
        "import cntk as C\n",
        "\n",
        "cntk_model = C.load_model(r\"C:\\Users\\Meers\\Documents\\Techie\\InkersIntern\\Phase2\\Merget\\Merget\\python\\output\\models\\model.21\")"
      ],
      "execution_count": 0,
      "outputs": []
    },
    {
      "metadata": {
        "id": "RNIo-g5ypZPa",
        "colab_type": "code",
        "colab": {}
      },
      "cell_type": "code",
      "source": [
        "cntk_model.parameters"
      ],
      "execution_count": 0,
      "outputs": []
    },
    {
      "metadata": {
        "id": "lgbeyzNipZPe",
        "colab_type": "code",
        "colab": {}
      },
      "cell_type": "code",
      "source": [
        "cntk_model.save(\"cntk_model.h5\")"
      ],
      "execution_count": 0,
      "outputs": []
    },
    {
      "metadata": {
        "id": "AHy42r3HpZPm",
        "colab_type": "code",
        "colab": {}
      },
      "cell_type": "code",
      "source": [
        "FLD = keras.models.load_model(r\"C:\\Users\\Meers\\Documents\\Techie\\InkersIntern\\Phase2\\FLDCode\\cntk_model.h5\")"
      ],
      "execution_count": 0,
      "outputs": []
    },
    {
      "metadata": {
        "id": "OXVjXhvRpZPq",
        "colab_type": "code",
        "colab": {}
      },
      "cell_type": "code",
      "source": [
        "import keras.backend as K\n",
        "\n",
        "#save_model_hdf5(cntk_model, 'my_model.h5')\n",
        "kerasmodel = K.functional_ops. load_model(cntk_model)"
      ],
      "execution_count": 0,
      "outputs": []
    },
    {
      "metadata": {
        "id": "l_976-PGpZPs",
        "colab_type": "code",
        "colab": {}
      },
      "cell_type": "code",
      "source": [
        "#func = cntk_model.outputs[0]\n",
        "cntk_model.save('cntk_model.onnx', format=C.ModelFormat.)"
      ],
      "execution_count": 0,
      "outputs": []
    },
    {
      "metadata": {
        "id": "D2nNnvYapZPu",
        "colab_type": "code",
        "colab": {}
      },
      "cell_type": "code",
      "source": [
        "import onnx\n",
        "onnx_model = onnx.load('cntk_model.onnx')"
      ],
      "execution_count": 0,
      "outputs": []
    },
    {
      "metadata": {
        "id": "AOpflqHQpZPw",
        "colab_type": "code",
        "colab": {}
      },
      "cell_type": "code",
      "source": [
        "from onnx_tf.backend import prepare\n",
        "tf_model = prepare(onnx_model)"
      ],
      "execution_count": 0,
      "outputs": []
    },
    {
      "metadata": {
        "id": "izqeD_E7pZPy",
        "colab_type": "code",
        "colab": {}
      },
      "cell_type": "code",
      "source": [
        ""
      ],
      "execution_count": 0,
      "outputs": []
    }
  ]
}