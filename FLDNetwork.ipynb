{
 "cells": [
  {
   "cell_type": "code",
   "execution_count": 27,
   "metadata": {
    "colab": {
     "base_uri": "https://localhost:8080/",
     "height": 34
    },
    "colab_type": "code",
    "collapsed": true,
    "id": "MdmYfVM_sOwd",
    "outputId": "0bc5ca0c-8001-4c92-cbb3-44bf9112107e"
   },
   "outputs": [],
   "source": [
    "import os\n",
    "from os import listdir,makedirs\n",
    "from os.path import isfile,join\n",
    "import numpy as np\n",
    "from PIL import Image\n",
    "from matplotlib import pyplot as plt\n",
    "import tensorflow as tf\n",
    "import keras.backend as K\n",
    "import keras\n",
    "from keras.models import Sequential\n",
    "import cv2\n",
    "\n"
   ]
  },
  {
   "cell_type": "code",
   "execution_count": 28,
   "metadata": {
    "collapsed": true
   },
   "outputs": [],
   "source": [
    "'''\n",
    "Hyper-Parameters\n",
    "'''\n",
    "image_H = 96\n",
    "image_W = 96\n",
    "grayscale = True\n",
    "batch_size = 16\n",
    "learning_rate=0.001\n",
    "momentum = 0\n",
    "decay = 0\n",
    "epochs = 100\n",
    "droupout= 0.1\n",
    "gradient_clipping = 0.1\n",
    "nFilters = 128\n",
    "nlandmarks = nLabels = 68\n",
    "K=45\n",
    "img_rows = 96\n",
    "img_cols = 96\n",
    "img_channels = 1"
   ]
  },
  {
   "cell_type": "code",
   "execution_count": 0,
   "metadata": {
    "colab": {},
    "colab_type": "code",
    "collapsed": true,
    "id": "yv-gK_mPmEX2"
   },
   "outputs": [],
   "source": [
    "config = tf.ConfigProto()\n",
    "config.gpu_options.allow_growth = True\n",
    "sess = tf.Session(config=config)\n",
    "K.set_session(sess)\n"
   ]
  },
  {
   "cell_type": "code",
   "execution_count": 3,
   "metadata": {
    "colab": {
     "base_uri": "https://localhost:8080/",
     "height": 89,
     "resources": {
      "http://localhost:8080/nbextensions/google.colab/files.js": {
       "data": "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",
       "headers": [
        [
         "content-type",
         "application/javascript"
        ]
       ],
       "ok": true,
       "status": 200,
       "status_text": ""
      }
     }
    },
    "colab_type": "code",
    "id": "T4eoPQGnmFaS",
    "outputId": "832b6559-c550-4e1a-cea0-46e440c6307d"
   },
   "outputs": [
    {
     "data": {
      "text/html": [
       "\n",
       "     <input type=\"file\" id=\"files-b5e1f8a6-1246-4d44-b37b-f1235af78aa7\" name=\"files[]\" multiple disabled />\n",
       "     <output id=\"result-b5e1f8a6-1246-4d44-b37b-f1235af78aa7\">\n",
       "      Upload widget is only available when the cell has been executed in the\n",
       "      current browser session. Please rerun this cell to enable.\n",
       "      </output>\n",
       "      <script src=\"/nbextensions/google.colab/files.js\"></script> "
      ],
      "text/plain": [
       "<IPython.core.display.HTML object>"
      ]
     },
     "metadata": {
      "tags": []
     },
     "output_type": "display_data"
    },
    {
     "name": "stdout",
     "output_type": "stream",
     "text": [
      "Saving ibug.zip to ibug.zip\n",
      "User uploaded file \"ibug.zip\" with length 32805658 bytes\n"
     ]
    }
   ],
   "source": [
    "from google.colab import files\n",
    "uploaded = files.upload()\n",
    "\n",
    "for fn in uploaded.keys():\n",
    "  print('User uploaded file \"{name}\" with length {length} bytes'.format(\n",
    "      name=fn, length=len(uploaded[fn])))"
   ]
  },
  {
   "cell_type": "code",
   "execution_count": 230,
   "metadata": {
    "colab": {
     "base_uri": "https://localhost:8080/",
     "height": 85
    },
    "colab_type": "code",
    "id": "cTBAQZQ9mIvC",
    "outputId": "cb077e79-3ee5-4a7b-b97a-ee83bf92f0e3"
   },
   "outputs": [
    {
     "name": "stdout",
     "output_type": "stream",
     "text": [
      "datalab       folderibug11  folderibug2  folderibug6  ibug.zip\r\n",
      "folderibug    folderibug12  folderibug3  folderibug7  image_003_1.jpg\r\n",
      "folderibug1   folderibug13  folderibug4  folderibug8\r\n",
      "folderibug10  folderibug14  folderibug5  folderibug9\r\n"
     ]
    }
   ],
   "source": [
    "#files.os.listdir()\n",
    "!ls\n",
    "#!rm ibug\" \"\"(\"3\")\".zip\n",
    "#!rm ibug.zip\n",
    "#!ls"
   ]
  },
  {
   "cell_type": "code",
   "execution_count": 231,
   "metadata": {
    "colab": {
     "base_uri": "https://localhost:8080/",
     "height": 119
    },
    "colab_type": "code",
    "id": "WFGepx0kmNFs",
    "outputId": "49a9eb85-9af2-4e09-c163-1142f072070c"
   },
   "outputs": [
    {
     "name": "stdout",
     "output_type": "stream",
     "text": [
      "<zipfile.ZipFile filename='ibug.zip' mode='r'>\n",
      "<zipfile.ZipFile filename='ibug.zip' mode='r'>\n",
      "datalab       folderibug11  folderibug2  folderibug6  ibug.zip\n",
      "folderibug    folderibug12  folderibug3  folderibug7  image_003_1.jpg\n",
      "folderibug1   folderibug13  folderibug4  folderibug8\n",
      "folderibug10  folderibug14  folderibug5  folderibug9\n"
     ]
    }
   ],
   "source": [
    "#to extract ziped folder to unzipped folder named folderibug\n",
    "\n",
    "import zipfile\n",
    "path =\"ibug.zip\"\n",
    "directory =\"folderibug\"\n",
    "zip_ref = zipfile.ZipFile(path, 'r')\n",
    "print(zip_ref)\n",
    "zip_ref.extractall(directory)\n",
    "print(zip_ref)\n",
    "zip_ref.close()\n",
    "!ls"
   ]
  },
  {
   "cell_type": "code",
   "execution_count": 269,
   "metadata": {
    "colab": {
     "base_uri": "https://localhost:8080/",
     "height": 34
    },
    "colab_type": "code",
    "id": "bLMkCMXwMQ04",
    "outputId": "8e0a334b-c5c7-4813-b513-10fd36d8bc1d"
   },
   "outputs": [
    {
     "name": "stdout",
     "output_type": "stream",
     "text": [
      "Directory already exist, images will be written in asme folder\n"
     ]
    }
   ],
   "source": [
    "# To convert images in folderibug to grayscale images - folder name - GrayFolder\n",
    "\n",
    "path = directory\n",
    "dstpath = \"GrayFolder\"\n",
    "try:\n",
    "    makedirs(dstpath)\n",
    "except:\n",
    "    print (\"Directory already exist, images will be written in asme folder\")\n",
    "\n",
    "# Folder won't used\n",
    "files = [f for f in listdir(path) if isfile(join(path,f))] \n",
    "\n",
    "for image in files:\n",
    " \n",
    "    try:\n",
    "        if image.endswith('.jpg'):\n",
    "          img = cv2.imread(os.path.join(path,image))\n",
    "          gray = cv2.cvtColor(img,cv2.COLOR_BGR2GRAY)\n",
    "          dstPath = join(dstpath,image)\n",
    "          cv2.imwrite(dstPath,gray)\n",
    "         \n",
    "    except:\n",
    "        print (\"{} is not converted\".format(image))\n",
    "        "
   ]
  },
  {
   "cell_type": "code",
   "execution_count": 272,
   "metadata": {
    "colab": {
     "base_uri": "https://localhost:8080/",
     "height": 51
    },
    "colab_type": "code",
    "id": "hrezk8OnmZao",
    "outputId": "95417a29-6ff0-46db-84c8-f0a37f777604"
   },
   "outputs": [
    {
     "name": "stdout",
     "output_type": "stream",
     "text": [
      "135\n",
      "<class 'numpy.ndarray'>\n"
     ]
    }
   ],
   "source": [
    "#To load images using cv2, the output wil be list of images which are then converted to numpy array\n",
    "\n",
    "def load_images_from_folder(folder):\n",
    "    images = []\n",
    "    \n",
    "    for filename in os.listdir(folder):\n",
    "        img = cv2.imread(os.path.join(folder,filename))\n",
    "        if img is not None:\n",
    "            images.append(img)\n",
    "        \n",
    "    return images\n",
    "\n",
    "\n",
    "# your images in a list\n",
    "imgs = load_images_from_folder(dstpath)\n",
    "#print(imgs)\n",
    "#print(type(imgs))\n",
    "#images to array\n",
    "images = np.asarray(imgs)\n",
    "print(len(images))\n",
    "\n",
    "print(type(images))\n"
   ]
  },
  {
   "cell_type": "code",
   "execution_count": 283,
   "metadata": {
    "colab": {
     "base_uri": "https://localhost:8080/",
     "height": 400
    },
    "colab_type": "code",
    "id": "BDwCtyHTmeq5",
    "outputId": "e6a72500-8617-4ff4-dc9f-404d5e7d2b58"
   },
   "outputs": [
    {
     "name": "stdout",
     "output_type": "stream",
     "text": [
      "<class 'list'>\n"
     ]
    },
    {
     "data": {
      "image/png": "[encoded data removed]",
      "text/plain": [
       "<matplotlib.figure.Figure at 0x7f8621f25b70>"
      ]
     },
     "metadata": {
      "tags": []
     },
     "output_type": "display_data"
    },
    {
     "name": "stdout",
     "output_type": "stream",
     "text": [
      "135\n",
      "(135, 96, 96, 3)\n"
     ]
    }
   ],
   "source": [
    "# Pre-processing - resize of images to 96x96\n",
    "image_Grayscale = []\n",
    "images_resized = []\n",
    "for img in images:\n",
    "  #print(type(images))\n",
    "  resized = cv2.resize(img,(96,96))\n",
    "  #print(type(resized))\n",
    "  images_resized.append(resized)\n",
    "\n",
    "print(type(images_resized))\n",
    "plt.imshow(images_resized[134],cmap= \"gray\"), plt.axis(\"off\")\n",
    "plt.show()\n",
    "print(len(images_resized))\n",
    "#print(images_resized.shape)\n",
    "Fimages = np.asarray(images_resized)\n",
    "print(Fimages.shape)"
   ]
  },
  {
   "cell_type": "code",
   "execution_count": 0,
   "metadata": {
    "colab": {},
    "colab_type": "code",
    "collapsed": true,
    "id": "4AEkWrWKzUbT"
   },
   "outputs": [],
   "source": [
    "train_x = []\n",
    "train_y = []\n",
    "test_x = []\n",
    "test_y = []"
   ]
  },
  {
   "cell_type": "code",
   "execution_count": 292,
   "metadata": {
    "colab": {
     "base_uri": "https://localhost:8080/",
     "height": 187
    },
    "colab_type": "code",
    "id": "NW2i_WENzW7q",
    "outputId": "c6e8bfb9-93eb-4bbd-c9b6-c3aaed444f22"
   },
   "outputs": [
    {
     "name": "stdout",
     "output_type": "stream",
     "text": [
      "<class 'numpy.ndarray'>\n",
      "135\n",
      "(135,)\n",
      "<class 'list'>\n",
      "135\n",
      "<built-in method count of list object at 0x7f8621f2ce08>\n",
      "<class 'list'>\n",
      "107\n",
      "<class 'list'>\n",
      "27\n"
     ]
    }
   ],
   "source": [
    "print(type(images))\n",
    "print(len(images))\n",
    "print(images.shape)\n",
    "print(type(images_resized))\n",
    "print(len(images_resized))\n",
    "print(images_resized.count)\n",
    "\n",
    "# Splitting training and testing data (80:20 used index value to split)\n",
    "\n",
    "train_x = []\n",
    "train_y = []\n",
    "\n",
    "from itertools import chain\n",
    "train_x = list(chain(images_resized[0:107]))\n",
    "print(type(train_x))\n",
    "print(len(train_x))\n",
    "train_y = list(chain(images_resized[108:len(images_resized)]))\n",
    "print(type(train_y))\n",
    "print(len(train_y))\n",
    "\n",
    "train_x = np.asarray(train_x)\n",
    "train_y = np.asarray(train_y)\n",
    "\n",
    "train_x = train_x.astype('float32')\n",
    "train_x = train_x / 255.0\n",
    "\n",
    "train_y = train_y.astype('float32')\n",
    "train_y = train_y / 255.0"
   ]
  },
  {
   "cell_type": "code",
   "execution_count": 31,
   "metadata": {
    "collapsed": true
   },
   "outputs": [],
   "source": [
    "f = open(r'C:\\Users\\Meers\\Documents\\Techie\\InkersIntern\\Phase2\\Merget\\Merget\\network\\config\\kernel45.txt')\n",
    "kernel45 = np.fromfile(f, dtype = np.float32, count = -1, sep = \" \")"
   ]
  },
  {
   "cell_type": "code",
   "execution_count": 33,
   "metadata": {
    "colab": {
     "base_uri": "https://localhost:8080/",
     "height": 714
    },
    "colab_type": "code",
    "id": "-Ps6ujB8_ycf",
    "outputId": "61ede475-1a2d-4a13-ffd2-c2a535d2cca2"
   },
   "outputs": [
    {
     "name": "stdout",
     "output_type": "stream",
     "text": [
      "Local subnet Tensor(\"batch_normalization_45/cond/Merge:0\", shape=(?, 96, 96, 128), dtype=float32)\n",
      "local_out Tensor(\"conv2d_48/Relu:0\", shape=(?, 96, 96, 68), dtype=float32)\n",
      "kernel Tensor(\"lambda_3/Const:0\", shape=(45, 45, 68, 1), dtype=float32)\n",
      "Main 1x1 Tensor(\"lambda_3/Conv2D:0\", shape=(?, 96, 96, 1), dtype=float32)\n",
      "local_out Tensor(\"conv2d_49/BiasAdd:0\", shape=(?, 96, 96, 68), dtype=float32)\n",
      "kernel Tensor(\"lambda_4/Const:0\", shape=(45, 45, 68, 1), dtype=float32)\n",
      "Local output Tensor(\"lambda_4/Conv2D:0\", shape=(?, 96, 96, 1), dtype=float32)\n",
      "Concatenate Tensor(\"concatenate_1/concat:0\", shape=(?, 96, 96, 2), dtype=float32)\n",
      "Reshape Tensor(\"reshape_1/Reshape:0\", shape=(?, 96, 96, 136), dtype=float32)\n",
      "____________________________________________________________________________________________________\n",
      "Layer (type)                     Output Shape          Param #     Connected to                     \n",
      "====================================================================================================\n",
      "input_3 (InputLayer)             (None, 96, 96, 1)     0                                            \n",
      "____________________________________________________________________________________________________\n",
      "conv2d_33 (Conv2D)               (None, 96, 96, 128)   3328        input_3[0][0]                    \n",
      "____________________________________________________________________________________________________\n",
      "batch_normalization_31 (BatchNor (None, 96, 96, 128)   512         conv2d_33[0][0]                  \n",
      "____________________________________________________________________________________________________\n",
      "conv2d_34 (Conv2D)               (None, 96, 96, 128)   409728      batch_normalization_31[0][0]     \n",
      "____________________________________________________________________________________________________\n",
      "batch_normalization_32 (BatchNor (None, 96, 96, 128)   512         conv2d_34[0][0]                  \n",
      "____________________________________________________________________________________________________\n",
      "conv2d_35 (Conv2D)               (None, 96, 96, 128)   409728      batch_normalization_32[0][0]     \n",
      "____________________________________________________________________________________________________\n",
      "batch_normalization_33 (BatchNor (None, 96, 96, 128)   512         conv2d_35[0][0]                  \n",
      "____________________________________________________________________________________________________\n",
      "conv2d_36 (Conv2D)               (None, 96, 96, 128)   409728      batch_normalization_33[0][0]     \n",
      "____________________________________________________________________________________________________\n",
      "batch_normalization_34 (BatchNor (None, 96, 96, 128)   512         conv2d_36[0][0]                  \n",
      "____________________________________________________________________________________________________\n",
      "conv2d_37 (Conv2D)               (None, 96, 96, 128)   409728      batch_normalization_34[0][0]     \n",
      "____________________________________________________________________________________________________\n",
      "batch_normalization_35 (BatchNor (None, 96, 96, 128)   512         conv2d_37[0][0]                  \n",
      "____________________________________________________________________________________________________\n",
      "conv2d_38 (Conv2D)               (None, 96, 96, 128)   147584      batch_normalization_35[0][0]     \n",
      "____________________________________________________________________________________________________\n",
      "batch_normalization_36 (BatchNor (None, 96, 96, 128)   512         conv2d_38[0][0]                  \n",
      "____________________________________________________________________________________________________\n",
      "conv2d_39 (Conv2D)               (None, 96, 96, 128)   147584      batch_normalization_36[0][0]     \n",
      "____________________________________________________________________________________________________\n",
      "batch_normalization_37 (BatchNor (None, 96, 96, 128)   512         conv2d_39[0][0]                  \n",
      "____________________________________________________________________________________________________\n",
      "conv2d_40 (Conv2D)               (None, 96, 96, 128)   147584      batch_normalization_37[0][0]     \n",
      "____________________________________________________________________________________________________\n",
      "batch_normalization_38 (BatchNor (None, 96, 96, 128)   512         conv2d_40[0][0]                  \n",
      "____________________________________________________________________________________________________\n",
      "conv2d_41 (Conv2D)               (None, 96, 96, 128)   147584      batch_normalization_38[0][0]     \n",
      "____________________________________________________________________________________________________\n",
      "batch_normalization_39 (BatchNor (None, 96, 96, 128)   512         conv2d_41[0][0]                  \n",
      "____________________________________________________________________________________________________\n",
      "conv2d_42 (Conv2D)               (None, 96, 96, 128)   147584      batch_normalization_39[0][0]     \n",
      "____________________________________________________________________________________________________\n",
      "batch_normalization_40 (BatchNor (None, 96, 96, 128)   512         conv2d_42[0][0]                  \n",
      "____________________________________________________________________________________________________\n",
      "conv2d_43 (Conv2D)               (None, 96, 96, 128)   147584      batch_normalization_40[0][0]     \n",
      "____________________________________________________________________________________________________\n",
      "batch_normalization_41 (BatchNor (None, 96, 96, 128)   512         conv2d_43[0][0]                  \n",
      "____________________________________________________________________________________________________\n",
      "conv2d_44 (Conv2D)               (None, 96, 96, 128)   147584      batch_normalization_41[0][0]     \n",
      "____________________________________________________________________________________________________\n",
      "batch_normalization_42 (BatchNor (None, 96, 96, 128)   512         conv2d_44[0][0]                  \n",
      "____________________________________________________________________________________________________\n",
      "conv2d_45 (Conv2D)               (None, 96, 96, 128)   147584      batch_normalization_42[0][0]     \n",
      "____________________________________________________________________________________________________\n",
      "batch_normalization_43 (BatchNor (None, 96, 96, 128)   512         conv2d_45[0][0]                  \n",
      "____________________________________________________________________________________________________\n",
      "conv2d_46 (Conv2D)               (None, 96, 96, 128)   147584      batch_normalization_43[0][0]     \n",
      "____________________________________________________________________________________________________\n",
      "batch_normalization_44 (BatchNor (None, 96, 96, 128)   512         conv2d_46[0][0]                  \n",
      "____________________________________________________________________________________________________\n",
      "conv2d_47 (Conv2D)               (None, 96, 96, 128)   147584      batch_normalization_44[0][0]     \n",
      "____________________________________________________________________________________________________\n",
      "batch_normalization_45 (BatchNor (None, 96, 96, 128)   512         conv2d_47[0][0]                  \n",
      "____________________________________________________________________________________________________\n",
      "conv2d_48 (Conv2D)               (None, 96, 96, 68)    8772        batch_normalization_45[0][0]     \n",
      "____________________________________________________________________________________________________\n",
      "conv2d_49 (Conv2D)               (None, 96, 96, 68)    8772        batch_normalization_45[0][0]     \n",
      "____________________________________________________________________________________________________\n",
      "lambda_3 (Lambda)                (None, 68, 96, 96)    0           conv2d_48[0][0]                  \n",
      "____________________________________________________________________________________________________\n",
      "lambda_4 (Lambda)                (None, 68, 96, 96)    0           conv2d_49[0][0]                  \n",
      "____________________________________________________________________________________________________\n",
      "concatenate_1 (Concatenate)      (None, 68, 96, 192)   0           lambda_3[0][0]                   \n",
      "                                                                   lambda_4[0][0]                   \n",
      "____________________________________________________________________________________________________\n",
      "reshape_1 (Reshape)              (None, 96, 96, 136)   0           concatenate_1[0][0]              \n",
      "____________________________________________________________________________________________________\n",
      "conv2d_50 (Conv2D)               (None, 96, 96, 128)   156800      reshape_1[0][0]                  \n",
      "____________________________________________________________________________________________________\n",
      "batch_normalization_46 (BatchNor (None, 96, 96, 128)   512         conv2d_50[0][0]                  \n",
      "____________________________________________________________________________________________________\n",
      "conv2d_51 (Conv2D)               (None, 96, 96, 128)   147584      batch_normalization_46[0][0]     \n",
      "____________________________________________________________________________________________________\n",
      "batch_normalization_47 (BatchNor (None, 96, 96, 128)   512         conv2d_51[0][0]                  \n",
      "____________________________________________________________________________________________________\n",
      "conv2d_52 (Conv2D)               (None, 96, 96, 128)   147584      batch_normalization_47[0][0]     \n",
      "____________________________________________________________________________________________________\n",
      "batch_normalization_48 (BatchNor (None, 96, 96, 128)   512         conv2d_52[0][0]                  \n",
      "____________________________________________________________________________________________________\n",
      "conv2d_53 (Conv2D)               (None, 96, 96, 128)   147584      batch_normalization_48[0][0]     \n",
      "____________________________________________________________________________________________________\n",
      "batch_normalization_49 (BatchNor (None, 96, 96, 128)   512         conv2d_53[0][0]                  \n",
      "____________________________________________________________________________________________________\n",
      "conv2d_54 (Conv2D)               (None, 96, 96, 128)   147584      batch_normalization_49[0][0]     \n",
      "____________________________________________________________________________________________________\n",
      "batch_normalization_50 (BatchNor (None, 96, 96, 128)   512         conv2d_54[0][0]                  \n",
      "____________________________________________________________________________________________________\n",
      "conv2d_55 (Conv2D)               (None, 96, 96, 128)   147584      batch_normalization_50[0][0]     \n",
      "____________________________________________________________________________________________________\n",
      "batch_normalization_51 (BatchNor (None, 96, 96, 128)   512         conv2d_55[0][0]                  \n",
      "____________________________________________________________________________________________________\n",
      "conv2d_56 (Conv2D)               (None, 96, 96, 128)   147584      batch_normalization_51[0][0]     \n",
      "____________________________________________________________________________________________________\n",
      "batch_normalization_52 (BatchNor (None, 96, 96, 128)   512         conv2d_56[0][0]                  \n",
      "____________________________________________________________________________________________________\n",
      "conv2d_57 (Conv2D)               (None, 96, 96, 68)    8772        batch_normalization_52[0][0]     \n",
      "====================================================================================================\n",
      "Total params: 4,197,964\n",
      "Trainable params: 4,192,332\n",
      "Non-trainable params: 5,632\n",
      "____________________________________________________________________________________________________\n"
     ]
    }
   ],
   "source": [
    "from keras.layers import Dense, Dropout, Activation, Add\n",
    "from keras.layers import Convolution2D, Lambda, Input, Reshape\n",
    "from keras.layers.normalization import BatchNormalization\n",
    "from keras.models import Model\n",
    "\n",
    "def apply_kernel(local_out):\n",
    "    '''\n",
    "     get kernel from text file\n",
    "     tile it to 1x1x45x45\n",
    "     convolve with local out\n",
    "    '''\n",
    "    f = open(r'C:\\Users\\Meers\\Documents\\Techie\\InkersIntern\\Phase2\\Merget\\Merget\\network\\config\\kernel45.txt')\n",
    "    kernel45 = np.fromfile(f, dtype = np.float32, count = -1, sep = \" \")\n",
    "    \n",
    "    # [1 x 1 x 45 x 45]\n",
    "    kernel45 = np.reshape(kernel45, (45, 45, 1, 1))\n",
    "    # [numLabels x 1 x 45 x 45] if tensor convolution is used\n",
    "    kernel_stacked \t= np.tile(kernel45, (1, 1, nLabels,1))\n",
    "    #heatmaps = Convolution2D(local_out, kernel_stacked)\n",
    "    kernel_tensor = tf.convert_to_tensor(kernel_stacked, dtype=tf.float32)\n",
    "    print(\"local_out\", local_out)\n",
    "    print(\"kernel\", kernel_tensor)\n",
    "    return tf.nn.conv2d(local_out, kernel_tensor, strides=[1,1,1,1], padding=\"SAME\")\n",
    "    #return heatmaps\n",
    "\n",
    "    '''\n",
    "    local_subnet_np = local_out.eval \n",
    "    heatmaps = []\n",
    "    for landmark in local_subnet_np:\n",
    "        heatmaps.append(cv2.filter2D(landmark,-1,kernel45))\n",
    "    return tf.convert_to_tensor(heatmaps, dtype=tf.float32)\n",
    "    '''\n",
    "\n",
    "'''\n",
    "LOCAL SUBNET\n",
    "'''\n",
    "\n",
    "# [ImageC x ImageH x ImageW]\n",
    "\n",
    "input_img = Input(( image_H, image_W, img_channels))\n",
    "model = Convolution2D(filters=nFilters, kernel_size=(5, 5), padding='same', activation='relu')(input_img)\n",
    "model = BatchNormalization()(model)\n",
    "model = Convolution2D(filters=nFilters, kernel_size=(5, 5), padding='same', activation='relu')(model)\n",
    "model = BatchNormalization()(model)\n",
    "model = Convolution2D(filters=nFilters, kernel_size=(5, 5), padding='same', activation='relu')(model)\n",
    "model = BatchNormalization()(model)\n",
    "model = Convolution2D(filters=nFilters, kernel_size=(5, 5), padding='same', activation='relu')(model)\n",
    "model = BatchNormalization()(model)\n",
    "model = Convolution2D(filters=nFilters, kernel_size=(5, 5), padding='same', activation='relu')(model)\n",
    "model = BatchNormalization()(model)\n",
    "\n",
    "model = Convolution2D(filters=nFilters, kernel_size=(3, 3), padding='same', activation='relu')(model)\n",
    "model = BatchNormalization()(model)\n",
    "model = Convolution2D(filters=nFilters, kernel_size=(3, 3), padding='same', activation='relu')(model)\n",
    "model = BatchNormalization()(model)\n",
    "model = Convolution2D(filters=nFilters, kernel_size=(3, 3), padding='same', activation='relu')(model)\n",
    "model = BatchNormalization()(model)\n",
    "model = Convolution2D(filters=nFilters, kernel_size=(3, 3), padding='same', activation='relu')(model)\n",
    "model = BatchNormalization()(model)\n",
    "model = Convolution2D(filters=nFilters, kernel_size=(3, 3), padding='same', activation='relu')(model)\n",
    "model = BatchNormalization()(model)\n",
    "model = Convolution2D(filters=nFilters, kernel_size=(3, 3), padding='same', activation='relu')(model)\n",
    "model = BatchNormalization()(model)\n",
    "model = Convolution2D(filters=nFilters, kernel_size=(3, 3), padding='same', activation='relu')(model)\n",
    "model = BatchNormalization()(model)\n",
    "model = Convolution2D(filters=nFilters, kernel_size=(3, 3), padding='same', activation='relu')(model)\n",
    "model = BatchNormalization()(model)\n",
    "model = Convolution2D(filters=nFilters, kernel_size=(3, 3), padding='same', activation='relu')(model)\n",
    "model = BatchNormalization()(model)\n",
    "model = Convolution2D(filters=nFilters, kernel_size=(3, 3), padding='same', activation='relu')(model)\n",
    "model = BatchNormalization()(model)\n",
    "print(\"Local subnet\", model)\n",
    "'''\n",
    "1x1 Convolution with activation\n",
    "'''\n",
    "model_Conv = Convolution2D(filters=nLabels, kernel_size=(1, 1),activation='relu')(model)\n",
    "model_Conv = Lambda(apply_kernel, output_shape=(nLabels, img_cols, img_rows))(model_Conv)\n",
    "print(\"Main 1x1\", model_Conv)\n",
    "'''\n",
    "Ol 1x1 Linear convolution\n",
    "Apply Gaussian Kernel filter\n",
    "'''\n",
    "model_Ol = Convolution2D(filters=nLabels, kernel_size=(1, 1),activation=None)(model)\n",
    "# What about tiling the kernels????\n",
    "model_Ol = Lambda(apply_kernel, output_shape=(nLabels, img_cols, img_rows))(model_Ol)\n",
    "print(\"Local output\", model_Ol)\n",
    "\n",
    "output_Ol = keras.layers.concatenate([model_Conv, model_Ol])\n",
    "print(\"Concatenate\", output_Ol)\n",
    "output_Ol = Reshape((96, 96,-1))(output_Ol)\n",
    "print(\"Reshape\", output_Ol)\n",
    "\n",
    "'''\n",
    "GLOBAL SUBNET\n",
    "'''\n",
    "model = Convolution2D(filters=nFilters, kernel_size=(3, 3), padding='same', dilation_rate = 4, activation='relu')(output_Ol)\n",
    "model = BatchNormalization()(model)\n",
    "model = Convolution2D(filters=nFilters, kernel_size=(3, 3), padding='same', dilation_rate = 4, activation='relu')(model)\n",
    "model = BatchNormalization()(model)\n",
    "model = Convolution2D(filters=nFilters, kernel_size=(3, 3), padding='same', dilation_rate = 4, activation='relu')(model)\n",
    "model = BatchNormalization()(model)\n",
    "model = Convolution2D(filters=nFilters, kernel_size=(3, 3), padding='same', dilation_rate = 4, activation='relu')(model)\n",
    "model = BatchNormalization()(model)\n",
    "model = Convolution2D(filters=nFilters, kernel_size=(3, 3), padding='same', dilation_rate = 4, activation='relu')(model)\n",
    "model = BatchNormalization()(model)\n",
    "model = Convolution2D(filters=nFilters, kernel_size=(3, 3), padding='same', dilation_rate = 4, activation='relu')(model)\n",
    "model = BatchNormalization()(model)\n",
    "model = Convolution2D(filters=nFilters, kernel_size=(3, 3), padding='same', dilation_rate = 4, activation='relu')(model)\n",
    "model = BatchNormalization()(model)\n",
    "model = Convolution2D(filters=nLabels, kernel_size=(1, 1), activation=None)(model)\n",
    "FLD_model = Model(inputs = input_img, outputs=model)\n",
    "FLD_model.summary()\n"
   ]
  },
  {
   "cell_type": "markdown",
   "metadata": {
    "collapsed": true
   },
   "source": [
    "* Loss Function: Weighted Square Error\n",
    "* Exclude non-labeled landmarks from the loss\n",
    "* Weight each of N landmarks depending on whether they lie within the image boundary:\n",
    "\\begin{equation*}\n",
    "wij = V (i,j) + \\frac{L(i,j)}{10} + \\frac{L(i,j)}{2N}\\sum_{k=1}^N V (i,k),       \\\\[1pt]\n",
    "\\text{    where V (i; j) and L(i; j) are indicator functions with L(i; j) = 1 iff landmark j in face i is labeled}    \\\\[1pt]\n",
    "\\text {V (i; j) = 1 iff landmark j in face i is within the image boundary, zero otherwise.    }\\\\[1pt]\n",
    "\\text{Note that L(i; j) = 0 implies V (i; j) = 0.}\\end{equation*}\n",
    "\n",
    "\\begin{equation*}\n",
    "e_i = \\sum_{n=1}^N w_{in}(((O^l_n - G_n) * K)^2 + (O^g_n - G_n * K)^2), \\\\[2pt]\n",
    "\\text{    where    } \\\\[2pt]\n",
    "O^l_n    and    O^g_n = \\text{nth channels of the local- and global context subnet outputs, respectively.} \\\\[1pt]\n",
    "\\text{K = kernel }   \\\\[1pt]\n",
    "\\text{Gn = ground truth heatmap for landmark n }   \\\\[1pt]\n",
    "\\text{For efficiency, the kernel convolution after stacking is reused for the loss}\n",
    "\\end{equation*}\n"
   ]
  },
  {
   "cell_type": "code",
   "execution_count": 36,
   "metadata": {
    "collapsed": true
   },
   "outputs": [],
   "source": [
    "import tensorflow as tf\n",
    "from keras import backend as K\n",
    "\n",
    "def landmark_weight(labels):\n",
    "    #[numLabels x 1 x 1]\n",
    "    Win = tf.reduce_mean(labels)\n",
    "    Win = tf.multiply(Win, 0.5)\n",
    "    return Win\n",
    "\n",
    "'''\n",
    "Ol - [numLabels x ImageH x ImageW] Kernel conv already applied in Network\n",
    "Og - [numLabels x ImageH x ImageW]\n",
    "labels - Landmark coordinates [numLabels x ImageH x ImageW] without heatmaps\n",
    "'''\n",
    "def loss_function(Og, labels):#Ol, Og,labels):\n",
    "    \n",
    "    # Gn = labels x K\n",
    "    Gn = apply_kernel(labels)\n",
    "\n",
    "    Win = landmark_weight(labels)\n",
    "    \n",
    "    # Og - Gn\n",
    "    global_diff = tf.subtract(Og, Gn)\n",
    "    global_err = tf.square(global_diff)\n",
    "    \n",
    "    # Ol - Gn\n",
    "    local_diff = tf.subtract(model_Ol, Gn)\n",
    "    local_err = tf.square(local_diff)\n",
    "    \n",
    "    comb_err = tf.add(local_err, global_err)\n",
    "    \n",
    "    wt_square_err = tf.reduce_sum(Win * comb_err)\n",
    "    return wt_square_err    \n"
   ]
  },
  {
   "cell_type": "code",
   "execution_count": 37,
   "metadata": {},
   "outputs": [
    {
     "name": "stdout",
     "output_type": "stream",
     "text": [
      "local_out Tensor(\"conv2d_57/BiasAdd:0\", shape=(?, 96, 96, 68), dtype=float32)\n",
      "kernel Tensor(\"loss_1/conv2d_57_loss/Const:0\", shape=(45, 45, 68, 1), dtype=float32)\n",
      "WARNING:tensorflow:From C:\\Users\\Meers\\Anaconda3\\lib\\site-packages\\keras\\backend\\tensorflow_backend.py:1290: calling reduce_mean (from tensorflow.python.ops.math_ops) with keep_dims is deprecated and will be removed in a future version.\n",
      "Instructions for updating:\n",
      "keep_dims is deprecated, use keepdims instead\n"
     ]
    }
   ],
   "source": [
    "FLD_model.compile(optimizer='sgd',\n",
    "              loss=loss_function,\n",
    "              metrics=['accuracy'])\n"
   ]
  },
  {
   "cell_type": "code",
   "execution_count": 38,
   "metadata": {},
   "outputs": [],
   "source": [
    "import cntk as C\n",
    "\n",
    "cntk_model = C.load_model(r\"C:\\Users\\Meers\\Documents\\Techie\\InkersIntern\\Phase2\\Merget\\Merget\\python\\output\\models\\model.21\")"
   ]
  },
  {
   "cell_type": "code",
   "execution_count": 39,
   "metadata": {},
   "outputs": [
    {
     "data": {
      "text/plain": [
       "(Parameter('W', [], [68 x 128 x 1 x 1]),\n",
       " Parameter('b', [], [68 x 1 x 1]),\n",
       " Parameter('scale', [], [128]),\n",
       " Parameter('bias', [], [128]),\n",
       " Parameter('W', [], [128 x 128 x 3 x 3]),\n",
       " Parameter('b', [], [128 x 1 x 1]),\n",
       " Parameter('scale', [], [128]),\n",
       " Parameter('bias', [], [128]),\n",
       " Parameter('W', [], [128 x 128 x 3 x 3]),\n",
       " Parameter('b', [], [128 x 1 x 1]),\n",
       " Parameter('scale', [], [128]),\n",
       " Parameter('bias', [], [128]),\n",
       " Parameter('W', [], [128 x 128 x 3 x 3]),\n",
       " Parameter('b', [], [128 x 1 x 1]),\n",
       " Parameter('scale', [], [128]),\n",
       " Parameter('bias', [], [128]),\n",
       " Parameter('W', [], [128 x 128 x 3 x 3]),\n",
       " Parameter('b', [], [128 x 1 x 1]),\n",
       " Parameter('scale', [], [128]),\n",
       " Parameter('bias', [], [128]),\n",
       " Parameter('W', [], [128 x 128 x 3 x 3]),\n",
       " Parameter('b', [], [128 x 1 x 1]),\n",
       " Parameter('scale', [], [128]),\n",
       " Parameter('bias', [], [128]),\n",
       " Parameter('W', [], [128 x 128 x 3 x 3]),\n",
       " Parameter('b', [], [128 x 1 x 1]),\n",
       " Parameter('scale', [], [128]),\n",
       " Parameter('bias', [], [128]),\n",
       " Parameter('W', [], [128 x 136 x 3 x 3]),\n",
       " Parameter('b', [], [128 x 1 x 1]),\n",
       " Parameter('W', [], [68 x 128 x 1 x 1]),\n",
       " Parameter('b', [], [68 x 1 x 1]),\n",
       " Parameter('scale', [], [128]),\n",
       " Parameter('bias', [], [128]),\n",
       " Parameter('W', [], [128 x 128 x 3 x 3]),\n",
       " Parameter('b', [], [128 x 1 x 1]),\n",
       " Parameter('scale', [], [128]),\n",
       " Parameter('bias', [], [128]),\n",
       " Parameter('W', [], [128 x 128 x 3 x 3]),\n",
       " Parameter('b', [], [128 x 1 x 1]),\n",
       " Parameter('scale', [], [128]),\n",
       " Parameter('bias', [], [128]),\n",
       " Parameter('W', [], [128 x 128 x 3 x 3]),\n",
       " Parameter('b', [], [128 x 1 x 1]),\n",
       " Parameter('scale', [], [128]),\n",
       " Parameter('bias', [], [128]),\n",
       " Parameter('W', [], [128 x 128 x 3 x 3]),\n",
       " Parameter('b', [], [128 x 1 x 1]),\n",
       " Parameter('scale', [], [128]),\n",
       " Parameter('bias', [], [128]),\n",
       " Parameter('W', [], [128 x 128 x 3 x 3]),\n",
       " Parameter('b', [], [128 x 1 x 1]),\n",
       " Parameter('scale', [], [128]),\n",
       " Parameter('bias', [], [128]),\n",
       " Parameter('W', [], [128 x 128 x 3 x 3]),\n",
       " Parameter('b', [], [128 x 1 x 1]),\n",
       " Parameter('scale', [], [128]),\n",
       " Parameter('bias', [], [128]),\n",
       " Parameter('W', [], [128 x 128 x 3 x 3]),\n",
       " Parameter('b', [], [128 x 1 x 1]),\n",
       " Parameter('scale', [], [128]),\n",
       " Parameter('bias', [], [128]),\n",
       " Parameter('W', [], [128 x 128 x 3 x 3]),\n",
       " Parameter('b', [], [128 x 1 x 1]),\n",
       " Parameter('scale', [], [128]),\n",
       " Parameter('bias', [], [128]),\n",
       " Parameter('W', [], [128 x 128 x 3 x 3]),\n",
       " Parameter('b', [], [128 x 1 x 1]),\n",
       " Parameter('scale', [], [128]),\n",
       " Parameter('bias', [], [128]),\n",
       " Parameter('W', [], [128 x 128 x 3 x 3]),\n",
       " Parameter('b', [], [128 x 1 x 1]),\n",
       " Parameter('scale', [], [128]),\n",
       " Parameter('bias', [], [128]),\n",
       " Parameter('W', [], [128 x 128 x 5 x 5]),\n",
       " Parameter('b', [], [128 x 1 x 1]),\n",
       " Parameter('scale', [], [128]),\n",
       " Parameter('bias', [], [128]),\n",
       " Parameter('W', [], [128 x 128 x 5 x 5]),\n",
       " Parameter('b', [], [128 x 1 x 1]),\n",
       " Parameter('scale', [], [128]),\n",
       " Parameter('bias', [], [128]),\n",
       " Parameter('W', [], [128 x 128 x 5 x 5]),\n",
       " Parameter('b', [], [128 x 1 x 1]),\n",
       " Parameter('scale', [], [128]),\n",
       " Parameter('bias', [], [128]),\n",
       " Parameter('W', [], [128 x 128 x 5 x 5]),\n",
       " Parameter('b', [], [128 x 1 x 1]),\n",
       " Parameter('scale', [], [128]),\n",
       " Parameter('bias', [], [128]),\n",
       " Parameter('W', [], [128 x 1 x 5 x 5]),\n",
       " Parameter('b', [], [128 x 1 x 1]),\n",
       " Parameter('scale', [], [68]),\n",
       " Parameter('bias', [], [68]),\n",
       " Parameter('W', [], [68 x 128 x 1 x 1]),\n",
       " Parameter('b', [], [68 x 1 x 1]))"
      ]
     },
     "execution_count": 39,
     "metadata": {},
     "output_type": "execute_result"
    }
   ],
   "source": [
    "cntk_model.parameters"
   ]
  },
  {
   "cell_type": "code",
   "execution_count": 42,
   "metadata": {},
   "outputs": [],
   "source": [
    "cntk_model.save(\"cntk_model.h5\")"
   ]
  },
  {
   "cell_type": "code",
   "execution_count": 47,
   "metadata": {},
   "outputs": [
    {
     "ename": "OSError",
     "evalue": "Unable to open file (File signature not found)",
     "output_type": "error",
     "traceback": [
      "\u001b[1;31m---------------------------------------------------------------------------\u001b[0m",
      "\u001b[1;31mOSError\u001b[0m                                   Traceback (most recent call last)",
      "\u001b[1;32m<ipython-input-47-c578da124c73>\u001b[0m in \u001b[0;36m<module>\u001b[1;34m()\u001b[0m\n\u001b[1;32m----> 1\u001b[1;33m \u001b[0mFLD\u001b[0m \u001b[1;33m=\u001b[0m \u001b[0mkeras\u001b[0m\u001b[1;33m.\u001b[0m\u001b[0mmodels\u001b[0m\u001b[1;33m.\u001b[0m\u001b[0mload_model\u001b[0m\u001b[1;33m(\u001b[0m\u001b[1;34mr\"C:\\Users\\Meers\\Documents\\Techie\\InkersIntern\\Phase2\\FLDCode\\cntk_model.h5\"\u001b[0m\u001b[1;33m)\u001b[0m\u001b[1;33m\u001b[0m\u001b[0m\n\u001b[0m",
      "\u001b[1;32m~\\Anaconda3\\lib\\site-packages\\keras\\models.py\u001b[0m in \u001b[0;36mload_model\u001b[1;34m(filepath, custom_objects, compile)\u001b[0m\n\u001b[0;32m    231\u001b[0m             \u001b[1;32mreturn\u001b[0m \u001b[0mcustom_objects\u001b[0m\u001b[1;33m[\u001b[0m\u001b[0mobj\u001b[0m\u001b[1;33m]\u001b[0m\u001b[1;33m\u001b[0m\u001b[0m\n\u001b[0;32m    232\u001b[0m         \u001b[1;32mreturn\u001b[0m \u001b[0mobj\u001b[0m\u001b[1;33m\u001b[0m\u001b[0m\n\u001b[1;32m--> 233\u001b[1;33m     \u001b[1;32mwith\u001b[0m \u001b[0mh5py\u001b[0m\u001b[1;33m.\u001b[0m\u001b[0mFile\u001b[0m\u001b[1;33m(\u001b[0m\u001b[0mfilepath\u001b[0m\u001b[1;33m,\u001b[0m \u001b[0mmode\u001b[0m\u001b[1;33m=\u001b[0m\u001b[1;34m'r'\u001b[0m\u001b[1;33m)\u001b[0m \u001b[1;32mas\u001b[0m \u001b[0mf\u001b[0m\u001b[1;33m:\u001b[0m\u001b[1;33m\u001b[0m\u001b[0m\n\u001b[0m\u001b[0;32m    234\u001b[0m         \u001b[1;31m# instantiate model\u001b[0m\u001b[1;33m\u001b[0m\u001b[1;33m\u001b[0m\u001b[0m\n\u001b[0;32m    235\u001b[0m         \u001b[0mmodel_config\u001b[0m \u001b[1;33m=\u001b[0m \u001b[0mf\u001b[0m\u001b[1;33m.\u001b[0m\u001b[0mattrs\u001b[0m\u001b[1;33m.\u001b[0m\u001b[0mget\u001b[0m\u001b[1;33m(\u001b[0m\u001b[1;34m'model_config'\u001b[0m\u001b[1;33m)\u001b[0m\u001b[1;33m\u001b[0m\u001b[0m\n",
      "\u001b[1;32m~\\Anaconda3\\lib\\site-packages\\h5py\\_hl\\files.py\u001b[0m in \u001b[0;36m__init__\u001b[1;34m(self, name, mode, driver, libver, userblock_size, swmr, **kwds)\u001b[0m\n\u001b[0;32m    269\u001b[0m \u001b[1;33m\u001b[0m\u001b[0m\n\u001b[0;32m    270\u001b[0m                 \u001b[0mfapl\u001b[0m \u001b[1;33m=\u001b[0m \u001b[0mmake_fapl\u001b[0m\u001b[1;33m(\u001b[0m\u001b[0mdriver\u001b[0m\u001b[1;33m,\u001b[0m \u001b[0mlibver\u001b[0m\u001b[1;33m,\u001b[0m \u001b[1;33m**\u001b[0m\u001b[0mkwds\u001b[0m\u001b[1;33m)\u001b[0m\u001b[1;33m\u001b[0m\u001b[0m\n\u001b[1;32m--> 271\u001b[1;33m                 \u001b[0mfid\u001b[0m \u001b[1;33m=\u001b[0m \u001b[0mmake_fid\u001b[0m\u001b[1;33m(\u001b[0m\u001b[0mname\u001b[0m\u001b[1;33m,\u001b[0m \u001b[0mmode\u001b[0m\u001b[1;33m,\u001b[0m \u001b[0muserblock_size\u001b[0m\u001b[1;33m,\u001b[0m \u001b[0mfapl\u001b[0m\u001b[1;33m,\u001b[0m \u001b[0mswmr\u001b[0m\u001b[1;33m=\u001b[0m\u001b[0mswmr\u001b[0m\u001b[1;33m)\u001b[0m\u001b[1;33m\u001b[0m\u001b[0m\n\u001b[0m\u001b[0;32m    272\u001b[0m \u001b[1;33m\u001b[0m\u001b[0m\n\u001b[0;32m    273\u001b[0m                 \u001b[1;32mif\u001b[0m \u001b[0mswmr_support\u001b[0m\u001b[1;33m:\u001b[0m\u001b[1;33m\u001b[0m\u001b[0m\n",
      "\u001b[1;32m~\\Anaconda3\\lib\\site-packages\\h5py\\_hl\\files.py\u001b[0m in \u001b[0;36mmake_fid\u001b[1;34m(name, mode, userblock_size, fapl, fcpl, swmr)\u001b[0m\n\u001b[0;32m     99\u001b[0m         \u001b[1;32mif\u001b[0m \u001b[0mswmr\u001b[0m \u001b[1;32mand\u001b[0m \u001b[0mswmr_support\u001b[0m\u001b[1;33m:\u001b[0m\u001b[1;33m\u001b[0m\u001b[0m\n\u001b[0;32m    100\u001b[0m             \u001b[0mflags\u001b[0m \u001b[1;33m|=\u001b[0m \u001b[0mh5f\u001b[0m\u001b[1;33m.\u001b[0m\u001b[0mACC_SWMR_READ\u001b[0m\u001b[1;33m\u001b[0m\u001b[0m\n\u001b[1;32m--> 101\u001b[1;33m         \u001b[0mfid\u001b[0m \u001b[1;33m=\u001b[0m \u001b[0mh5f\u001b[0m\u001b[1;33m.\u001b[0m\u001b[0mopen\u001b[0m\u001b[1;33m(\u001b[0m\u001b[0mname\u001b[0m\u001b[1;33m,\u001b[0m \u001b[0mflags\u001b[0m\u001b[1;33m,\u001b[0m \u001b[0mfapl\u001b[0m\u001b[1;33m=\u001b[0m\u001b[0mfapl\u001b[0m\u001b[1;33m)\u001b[0m\u001b[1;33m\u001b[0m\u001b[0m\n\u001b[0m\u001b[0;32m    102\u001b[0m     \u001b[1;32melif\u001b[0m \u001b[0mmode\u001b[0m \u001b[1;33m==\u001b[0m \u001b[1;34m'r+'\u001b[0m\u001b[1;33m:\u001b[0m\u001b[1;33m\u001b[0m\u001b[0m\n\u001b[0;32m    103\u001b[0m         \u001b[0mfid\u001b[0m \u001b[1;33m=\u001b[0m \u001b[0mh5f\u001b[0m\u001b[1;33m.\u001b[0m\u001b[0mopen\u001b[0m\u001b[1;33m(\u001b[0m\u001b[0mname\u001b[0m\u001b[1;33m,\u001b[0m \u001b[0mh5f\u001b[0m\u001b[1;33m.\u001b[0m\u001b[0mACC_RDWR\u001b[0m\u001b[1;33m,\u001b[0m \u001b[0mfapl\u001b[0m\u001b[1;33m=\u001b[0m\u001b[0mfapl\u001b[0m\u001b[1;33m)\u001b[0m\u001b[1;33m\u001b[0m\u001b[0m\n",
      "\u001b[1;32mh5py\\_objects.pyx\u001b[0m in \u001b[0;36mh5py._objects.with_phil.wrapper\u001b[1;34m()\u001b[0m\n",
      "\u001b[1;32mh5py\\_objects.pyx\u001b[0m in \u001b[0;36mh5py._objects.with_phil.wrapper\u001b[1;34m()\u001b[0m\n",
      "\u001b[1;32mh5py\\h5f.pyx\u001b[0m in \u001b[0;36mh5py.h5f.open\u001b[1;34m()\u001b[0m\n",
      "\u001b[1;31mOSError\u001b[0m: Unable to open file (File signature not found)"
     ]
    }
   ],
   "source": [
    "FLD = keras.models.load_model(r\"C:\\Users\\Meers\\Documents\\Techie\\InkersIntern\\Phase2\\FLDCode\\cntk_model.h5\")"
   ]
  },
  {
   "cell_type": "code",
   "execution_count": 48,
   "metadata": {},
   "outputs": [
    {
     "ename": "AttributeError",
     "evalue": "module 'keras.backend' has no attribute 'load_model'",
     "output_type": "error",
     "traceback": [
      "\u001b[1;31m---------------------------------------------------------------------------\u001b[0m",
      "\u001b[1;31mAttributeError\u001b[0m                            Traceback (most recent call last)",
      "\u001b[1;32m<ipython-input-48-0eaf48e6b126>\u001b[0m in \u001b[0;36m<module>\u001b[1;34m()\u001b[0m\n\u001b[0;32m      2\u001b[0m \u001b[1;33m\u001b[0m\u001b[0m\n\u001b[0;32m      3\u001b[0m \u001b[1;31m#save_model_hdf5(cntk_model, 'my_model.h5')\u001b[0m\u001b[1;33m\u001b[0m\u001b[1;33m\u001b[0m\u001b[0m\n\u001b[1;32m----> 4\u001b[1;33m \u001b[0mkerasmodel\u001b[0m \u001b[1;33m=\u001b[0m \u001b[0mK\u001b[0m\u001b[1;33m.\u001b[0m\u001b[0mload_model\u001b[0m\u001b[1;33m(\u001b[0m\u001b[0mcntk_model\u001b[0m\u001b[1;33m)\u001b[0m\u001b[1;33m\u001b[0m\u001b[0m\n\u001b[0m",
      "\u001b[1;31mAttributeError\u001b[0m: module 'keras.backend' has no attribute 'load_model'"
     ]
    }
   ],
   "source": [
    "import keras.backend as K\n",
    "\n",
    "#save_model_hdf5(cntk_model, 'my_model.h5')\n",
    "kerasmodel = K.functional_ops. load_model(cntk_model)"
   ]
  },
  {
   "cell_type": "code",
   "execution_count": 21,
   "metadata": {},
   "outputs": [],
   "source": [
    "#func = cntk_model.outputs[0]\n",
    "cntk_model.save('cntk_model.onnx', format=C.ModelFormat.)"
   ]
  },
  {
   "cell_type": "code",
   "execution_count": 24,
   "metadata": {},
   "outputs": [],
   "source": [
    "import onnx\n",
    "onnx_model = onnx.load('cntk_model.onnx')"
   ]
  },
  {
   "cell_type": "code",
   "execution_count": 26,
   "metadata": {},
   "outputs": [
    {
     "ename": "ValidationError",
     "evalue": "Required attribute 'consumed_inputs' is missing.\n\n==> Context: Bad node spec: input: \"Plus5153_Output_0\" input: \"Parameter106\" input: \"Parameter107\" input: \"Constant108\" input: \"Constant109\" output: \"BatchNormalization5165_Output_0\" name: \"BatchNormalization5165\" op_type: \"BatchNormalization\" attribute { name: \"spatial\" i: 1 type: INT } attribute { name: \"is_test\" i: 1 type: INT } attribute { name: \"epsilon\" f: 1e-05 type: FLOAT } attribute { name: \"momentum\" f: 0 type: FLOAT } doc_string: \"\" domain: \"\"",
     "output_type": "error",
     "traceback": [
      "\u001b[1;31m---------------------------------------------------------------------------\u001b[0m",
      "\u001b[1;31mValidationError\u001b[0m                           Traceback (most recent call last)",
      "\u001b[1;32m<ipython-input-26-98295415440b>\u001b[0m in \u001b[0;36m<module>\u001b[1;34m()\u001b[0m\n\u001b[0;32m      1\u001b[0m \u001b[1;32mfrom\u001b[0m \u001b[0monnx_tf\u001b[0m\u001b[1;33m.\u001b[0m\u001b[0mbackend\u001b[0m \u001b[1;32mimport\u001b[0m \u001b[0mprepare\u001b[0m\u001b[1;33m\u001b[0m\u001b[0m\n\u001b[1;32m----> 2\u001b[1;33m \u001b[0mtf_model\u001b[0m \u001b[1;33m=\u001b[0m \u001b[0mprepare\u001b[0m\u001b[1;33m(\u001b[0m\u001b[0monnx_model\u001b[0m\u001b[1;33m)\u001b[0m\u001b[1;33m\u001b[0m\u001b[0m\n\u001b[0m",
      "\u001b[1;32m~\\Anaconda3\\lib\\site-packages\\onnx_tf\\backend.py\u001b[0m in \u001b[0;36mprepare\u001b[1;34m(cls, model, device, **kwargs)\u001b[0m\n\u001b[0;32m    343\u001b[0m     \u001b[1;33m:\u001b[0m\u001b[0mreturns\u001b[0m\u001b[1;33m:\u001b[0m \u001b[0ma\u001b[0m \u001b[0mTensorflowRep\u001b[0m \u001b[1;32mclass\u001b[0m \u001b[0mobject\u001b[0m \u001b[0mrepresenting\u001b[0m \u001b[0mthe\u001b[0m \u001b[0mONNX\u001b[0m \u001b[0mmodel\u001b[0m\u001b[1;33m\u001b[0m\u001b[0m\n\u001b[0;32m    344\u001b[0m     \"\"\"\n\u001b[1;32m--> 345\u001b[1;33m     \u001b[0msuper\u001b[0m\u001b[1;33m(\u001b[0m\u001b[0mTensorflowBackendBase\u001b[0m\u001b[1;33m,\u001b[0m \u001b[0mcls\u001b[0m\u001b[1;33m)\u001b[0m\u001b[1;33m.\u001b[0m\u001b[0mprepare\u001b[0m\u001b[1;33m(\u001b[0m\u001b[0mmodel\u001b[0m\u001b[1;33m,\u001b[0m \u001b[0mdevice\u001b[0m\u001b[1;33m,\u001b[0m \u001b[1;33m**\u001b[0m\u001b[0mkwargs\u001b[0m\u001b[1;33m)\u001b[0m\u001b[1;33m\u001b[0m\u001b[0m\n\u001b[0m\u001b[0;32m    346\u001b[0m \u001b[1;33m\u001b[0m\u001b[0m\n\u001b[0;32m    347\u001b[0m     predict_net = (cls.onnx_graph_to_tensorflow_net(\n",
      "\u001b[1;32m~\\Anaconda3\\lib\\site-packages\\onnx\\backend\\base.py\u001b[0m in \u001b[0;36mprepare\u001b[1;34m(cls, model, device, **kwargs)\u001b[0m\n\u001b[0;32m     63\u001b[0m                 ):  # type: (...) -> Optional[BackendRep]\n\u001b[0;32m     64\u001b[0m         \u001b[1;31m# TODO Remove Optional from return type\u001b[0m\u001b[1;33m\u001b[0m\u001b[1;33m\u001b[0m\u001b[0m\n\u001b[1;32m---> 65\u001b[1;33m         \u001b[0monnx\u001b[0m\u001b[1;33m.\u001b[0m\u001b[0mchecker\u001b[0m\u001b[1;33m.\u001b[0m\u001b[0mcheck_model\u001b[0m\u001b[1;33m(\u001b[0m\u001b[0mmodel\u001b[0m\u001b[1;33m)\u001b[0m\u001b[1;33m\u001b[0m\u001b[0m\n\u001b[0m\u001b[0;32m     66\u001b[0m         \u001b[1;32mreturn\u001b[0m \u001b[1;32mNone\u001b[0m\u001b[1;33m\u001b[0m\u001b[0m\n\u001b[0;32m     67\u001b[0m \u001b[1;33m\u001b[0m\u001b[0m\n",
      "\u001b[1;32m~\\Anaconda3\\lib\\site-packages\\onnx\\checker.py\u001b[0m in \u001b[0;36mcheck_model\u001b[1;34m(model)\u001b[0m\n\u001b[0;32m     80\u001b[0m \u001b[1;33m\u001b[0m\u001b[0m\n\u001b[0;32m     81\u001b[0m \u001b[1;32mdef\u001b[0m \u001b[0mcheck_model\u001b[0m\u001b[1;33m(\u001b[0m\u001b[0mmodel\u001b[0m\u001b[1;33m)\u001b[0m\u001b[1;33m:\u001b[0m  \u001b[1;31m# type: (ModelProto) -> None\u001b[0m\u001b[1;33m\u001b[0m\u001b[0m\n\u001b[1;32m---> 82\u001b[1;33m     \u001b[0mC\u001b[0m\u001b[1;33m.\u001b[0m\u001b[0mcheck_model\u001b[0m\u001b[1;33m(\u001b[0m\u001b[0mmodel\u001b[0m\u001b[1;33m.\u001b[0m\u001b[0mSerializeToString\u001b[0m\u001b[1;33m(\u001b[0m\u001b[1;33m)\u001b[0m\u001b[1;33m)\u001b[0m\u001b[1;33m\u001b[0m\u001b[0m\n\u001b[0m\u001b[0;32m     83\u001b[0m \u001b[1;33m\u001b[0m\u001b[0m\n\u001b[0;32m     84\u001b[0m \u001b[1;33m\u001b[0m\u001b[0m\n",
      "\u001b[1;31mValidationError\u001b[0m: Required attribute 'consumed_inputs' is missing.\n\n==> Context: Bad node spec: input: \"Plus5153_Output_0\" input: \"Parameter106\" input: \"Parameter107\" input: \"Constant108\" input: \"Constant109\" output: \"BatchNormalization5165_Output_0\" name: \"BatchNormalization5165\" op_type: \"BatchNormalization\" attribute { name: \"spatial\" i: 1 type: INT } attribute { name: \"is_test\" i: 1 type: INT } attribute { name: \"epsilon\" f: 1e-05 type: FLOAT } attribute { name: \"momentum\" f: 0 type: FLOAT } doc_string: \"\" domain: \"\""
     ]
    }
   ],
   "source": [
    "from onnx_tf.backend import prepare\n",
    "tf_model = prepare(onnx_model)"
   ]
  },
  {
   "cell_type": "code",
   "execution_count": null,
   "metadata": {
    "collapsed": true
   },
   "outputs": [],
   "source": []
  }
 ],
 "metadata": {
  "accelerator": "GPU",
  "colab": {
   "collapsed_sections": [],
   "name": "LandMarkExecution.ipynb",
   "provenance": [],
   "version": "0.3.2"
  },
  "kernelspec": {
   "display_name": "Python 3",
   "language": "python",
   "name": "python3"
  },
  "language_info": {
   "codemirror_mode": {
    "name": "ipython",
    "version": 3
   },
   "file_extension": ".py",
   "mimetype": "text/x-python",
   "name": "python",
   "nbconvert_exporter": "python",
   "pygments_lexer": "ipython3",
   "version": "3.6.3"
  }
 },
 "nbformat": 4,
 "nbformat_minor": 1
}
