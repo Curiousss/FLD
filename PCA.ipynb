{
 "cells": [
  {
   "cell_type": "code",
   "execution_count": null,
   "metadata": {
    "collapsed": true
   },
   "outputs": [],
   "source": [
    "import numpy as np\n",
    "from math import sqrt\n",
    "# Implements Kabsch algorithm - best fit.\n",
    "# Doesn't support scaling or weighting yet.\n",
    "# Compares well to SA results for the same data.\n",
    "# Input: expects Nx3 matrix of points\n",
    "# Returns R,t\n",
    "# R = 3x3 rotation matrix\n",
    "# t = 3x1 column vector\n",
    " \n",
    "def rigid_transform_3D(A, B):\n",
    "    assert len(A) == len(B)\n",
    " \n",
    "    N = A.shape[0];  # total points\n",
    " \n",
    "    centroid_A = np.mean(A, axis=0)\n",
    "    centroid_B = np.mean(B, axis=0)\n",
    " \n",
    "    # centre the points\n",
    "    AA = A - np.tile(centroid_A, (N, 1))\n",
    "    BB = B - np.tile(centroid_B, (N, 1))\n",
    " \n",
    "    # dot is matrix multiplication for array\n",
    "    H = np.transpose(BB) * AA\n",
    " \n",
    "    U, S, Vt = np.linalg.svd(H)\n",
    " \n",
    "    R = Vt.T * U.T\n",
    " \n",
    "    # special reflection case\n",
    "    if np.linalg.det(R) < 0:\n",
    "        print \"Reflection detected\"\n",
    "        Vt[2, :] *= -1\n",
    "        R = Vt.T * U.T\n",
    " \n",
    "    t = -R * centroid_B.T + centroid_A.T\n",
    " \n",
    "    return R, t"
   ]
  },
  {
   "cell_type": "code",
   "execution_count": null,
   "metadata": {
    "collapsed": true
   },
   "outputs": [],
   "source": [
    "fit_transrotated_model():\n",
    "    "
   ]
  },
  {
   "cell_type": "code",
   "execution_count": null,
   "metadata": {
    "collapsed": true
   },
   "outputs": [],
   "source": [
    "PCA_transform()\n",
    "def PCA_fit:\n",
    "    for each image:\n",
    "        get prediction\n",
    "        centroid = x/2 + 0.5, y/2 + 0.5\n",
    "        get theta(rotation?)\n",
    "        PCA_transform()\n",
    "    return"
   ]
  },
  {
   "cell_type": "code",
   "execution_count": null,
   "metadata": {
    "collapsed": true
   },
   "outputs": [],
   "source": [
    "'''\n",
    "Shape_Model\n",
    "avg is the mean face\n",
    "C is the landmark coordinate difference generating matrix\n",
    "diffs contains the percentage of negative results for each of the coordinate differences\n",
    "EVs contains all PCA principal componets\n",
    "S contains the corresponding eigenvalues\n",
    "n contains the suggested number of principal components to be retained\n",
    "\n",
    "Read network output from hard disk\n",
    "Train PCA model on cropped & aligned training set\n",
    "Fit PCA model to network output\n",
    "Find nearest local maxima within network output\n",
    "Use weighted averave of model fit and local maxima as final prediction\n",
    "Undo (gray-)padding of bounding boxes outside of the image boundary\n",
    "Evaluate results\n",
    "'''\n",
    "from sklearn.decomposition import PCA\n",
    "def PCAmodel:\n",
    "    threshold = 0.1 #to consider a landmark \n",
    "    nEV = 12 # numer of eigen vectors .... why 12? Experimentable\n",
    "    pred = network_output[nImages][image_H][image_W][nlandmarks]\n",
    "    \n",
    "#######################################################\n",
    "        # Step1 Calculate global maximum per heatmap\n",
    "    \n",
    "    x = [][] # size nlandmark X nImages\n",
    "    y = [][] # size nlandmark X nImages\n",
    "    for each image:\n",
    "        x[l][i] = xmax\n",
    "        y[l][i] = ymax\n",
    "        \n",
    "\n",
    "    #diff matrix of landmarks\n",
    "    landmark_coordinate_vector = []\n",
    "    \n",
    "    for each face:\n",
    "        for each landmark:\n",
    "            #Find max value in the output of the network\n",
    "            # Get the indices of tht max value for the coordinates??\n",
    "\n",
    "    rigid_transform_3D(A, B)\n",
    "    pca = decomposition.PCA(n_components=3)\n",
    "    pca.fit(X)\n",
    "    \n",
    "    eigenvalues = pca.explained_variance_\n",
    "    \n",
    "    ## OR SVD?????\n",
    "    U, S, V = np.linalg.svd(a, full_matrices=True)\n",
    "    eigenvalues = U*S\n",
    "    coeff = V\n",
    "    \n",
    "    plt.plot(np.cumsum(pca.explained_variance_ratio_))\n",
    "    plt.xlabel('Number of components')\n",
    "    plt.ylabel('Cumulative explained variance')\n",
    "    return"
   ]
  },
  {
   "cell_type": "code",
   "execution_count": null,
   "metadata": {
    "collapsed": true
   },
   "outputs": [],
   "source": []
  }
 ],
 "metadata": {
  "kernelspec": {
   "display_name": "Python 3",
   "language": "python",
   "name": "python3"
  },
  "language_info": {
   "codemirror_mode": {
    "name": "ipython",
    "version": 3
   },
   "file_extension": ".py",
   "mimetype": "text/x-python",
   "name": "python",
   "nbconvert_exporter": "python",
   "pygments_lexer": "ipython3",
   "version": "3.6.3"
  }
 },
 "nbformat": 4,
 "nbformat_minor": 2
}
